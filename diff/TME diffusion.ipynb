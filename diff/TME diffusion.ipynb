{
 "cells": [
  {
   "cell_type": "markdown",
   "metadata": {
    "collapsed": true
   },
   "source": [
    "# TME Independant Cascade"
   ]
  },
  {
   "cell_type": "code",
   "execution_count": 1,
   "metadata": {
    "collapsed": true
   },
   "outputs": [],
   "source": [
    "import numpy as np\n",
    "from collections import defaultdict"
   ]
  },
  {
   "cell_type": "markdown",
   "metadata": {},
   "source": [
    "## Import données"
   ]
  },
  {
   "cell_type": "code",
   "execution_count": 2,
   "metadata": {
    "collapsed": false
   },
   "outputs": [],
   "source": [
    "trainFile = open(\"cascades_train.txt\",'r')\n",
    "episodes = []\n",
    "for t in trainFile.readlines():\n",
    "    l = []\n",
    "    ep = np.array([e.split(\":\") for e in t[:-3].split(';')],float)\n",
    "    ep = np.array(ep,int)\n",
    "    episodes.append(ep[ep[:,1].argsort()])\n",
    "    \n"
   ]
  },
  {
   "cell_type": "code",
   "execution_count": 3,
   "metadata": {
    "collapsed": false
   },
   "outputs": [
    {
     "data": {
      "text/plain": [
       "array([[97,  1],\n",
       "       [26,  1],\n",
       "       [74,  1],\n",
       "       [36,  2],\n",
       "       [95,  2],\n",
       "       [42,  2],\n",
       "       [ 7,  2],\n",
       "       [ 6,  3],\n",
       "       [72,  3],\n",
       "       [47,  3],\n",
       "       [48,  3],\n",
       "       [52,  4],\n",
       "       [63,  4],\n",
       "       [60,  4],\n",
       "       [17,  4],\n",
       "       [68,  4],\n",
       "       [40,  5],\n",
       "       [ 8,  5],\n",
       "       [37,  5],\n",
       "       [62,  5],\n",
       "       [79,  6],\n",
       "       [90,  6],\n",
       "       [73,  6],\n",
       "       [30,  6],\n",
       "       [57,  7],\n",
       "       [11,  7],\n",
       "       [65,  7],\n",
       "       [54,  7],\n",
       "       [75,  8],\n",
       "       [20,  8],\n",
       "       [ 3,  9],\n",
       "       [82,  9],\n",
       "       [99, 10],\n",
       "       [70, 11]])"
      ]
     },
     "execution_count": 3,
     "metadata": {},
     "output_type": "execute_result"
    }
   ],
   "source": [
    "episodes[1]"
   ]
  },
  {
   "cell_type": "code",
   "execution_count": null,
   "metadata": {
    "collapsed": false
   },
   "outputs": [],
   "source": []
  },
  {
   "cell_type": "markdown",
   "metadata": {},
   "source": [
    "## Independant cascade"
   ]
  },
  {
   "cell_type": "code",
   "execution_count": 44,
   "metadata": {
    "collapsed": false
   },
   "outputs": [],
   "source": [
    "class IC():\n",
    "    \n",
    "    def __init__(self, delta=.001, maxEpochs=500):\n",
    "        self.parents = defaultdict(dict)\n",
    "        self.childs = defaultdict(dict)\n",
    "        self.delta = delta\n",
    "        self.maxEpochs = maxEpochs\n",
    "        \n",
    "    def createGraph(self,episodes):\n",
    "        for e in episodes:\n",
    "            childs = [e[e[:,1] > e[i,1]][:,0] for i in xrange(len(e))]\n",
    "            for i,child in enumerate(childs):\n",
    "                for s in child:\n",
    "                    #random pour chaque liens\n",
    "                    r = np.random.random() \n",
    "                    self.childs[e[i,0]][int(s)] = r\n",
    "                    self.parents[int(s)][e[i,0]] = r\n",
    "    \n",
    "    \n",
    "    def inference(self, s0):\n",
    "        #print \"calcul inference\"\n",
    "        infecte = defaultdict(bool)\n",
    "        s = []\n",
    "        s.append(s0)\n",
    "        t = 1\n",
    "        stop = False\n",
    "        while s[t-1] != []:\n",
    "            s.append([])\n",
    "            for i in s[t-1]:\n",
    "                for j in self.childs[i].keys():\n",
    "                    if (not infecte[j]) and (np.random.random() < self.childs[i][j]):\n",
    "                        infecte[j] = True\n",
    "                        s[t].append(j)\n",
    "            t = t + 1\n",
    "        return s, infecte\n",
    "    \n",
    "    def apprentissage(self, episodes):\n",
    "        self.episodes = episodes\n",
    "        stop = False\n",
    "        ite = 0\n",
    "        self.scoresTable = []\n",
    "        while not stop:\n",
    "            \n",
    "            p = {}\n",
    "            \n",
    "            for d,episode in enumerate(episodes):\n",
    "                #nombre d'instants où il y a eu infection\n",
    "                infections = np.unique(episode[:,1])\n",
    "                #print infection\n",
    "                utilisateurs = episode[:,0]\n",
    "        \n",
    "                #Calcul de PDtu(u)\n",
    "                p[d] = np.zeros((len(infections),len(utilisateurs)))\n",
    "                p[d][0,episode[:,1] == infections[0]] = 1\n",
    "                \n",
    "                for i in xrange(1,len(infections)):\n",
    "                    for u,utilisateur in enumerate(utilisateurs):\n",
    "                        hasparents = False\n",
    "                        pdtu = 1.\n",
    "                        tmp = episode[episode[:,1] < infections[i]][:,0]\n",
    "                        for t in tmp:\n",
    "                            if (t in self.parents[utilisateur]):\n",
    "                                pdtu = pdtu * (1 - self.parents[utilisateur][t])\n",
    "                                hasparents = True\n",
    "                        if hasparents:\n",
    "                            p[d][i,u] = 1-pdtu \n",
    "                        else:\n",
    "                            p[d][i,u] = 1\n",
    "    \n",
    "            #Etape M \n",
    "            dmoins = np.zeros((len(self.parents), len(self.parents)))\n",
    "            dplus  = np.zeros((len(self.parents), len(self.parents)))\n",
    "            theta  = np.zeros((len(self.parents), len(self.parents)))\n",
    "           \n",
    "            for e,episode in enumerate(episodes):\n",
    "                infections = list(np.unique(episode[:,1]))\n",
    "                utilisateurs = episode[:,0]\n",
    "                for u,uId in enumerate(utilisateurs):\n",
    "                    dmoins[uId,:] = dmoins[uId,:] + 1\n",
    "                    for v,vId in enumerate(utilisateurs):\n",
    "                        \n",
    "                        dmoins[uId, vId] = dmoins[uId, vId] - 1\n",
    "                        if (episode[v,1] > episode[u,1]):\n",
    "                            dplus[uId, vId] = dplus[uId, vId] + 1\n",
    "                            tv = infections.index(episode[v,1])\n",
    "                            theta[uId, vId] = theta[uId, vId] + (self.parents[vId][uId] / p[e][tv, v])\n",
    "            theta = theta / (dplus + dmoins)\n",
    "            for u in self.parents:\n",
    "                for v in self.parents[u]:\n",
    "                    self.parents[u][v] = theta[v,u]\n",
    "                    self.childs[v][u] = theta[v,u]\n",
    "                    \n",
    "            # calcul du maximum à posteriori(scoire)\n",
    "            logL = ite + 1\n",
    "            s = self.score(episodes)\n",
    "            if ite % 10 == 0:\n",
    "                print ite,':',s\n",
    "            self.scoresTable.append(s)\n",
    "            if (ite != 0) and ((ite == self.maxEpochs) or (logL - prevLogL < self.delta)):\n",
    "                stop = True\n",
    "            ite = ite+1\n",
    "            prevLogL = logL\n",
    "            \n",
    "    def predict(self, s0, nbEpochs=100):\n",
    "        #print \"calcul prediction\"\n",
    "        total_infecte = defaultdict(float)\n",
    "        for i in xrange(nbEpochs):\n",
    "            _, infecte = self.inference(s0)\n",
    "            for j in infecte.keys():\n",
    "                total_infecte[j] = total_infecte[j] + infecte[j]\n",
    "        for j in xrange(len(total_infecte)):\n",
    "            total_infecte[j] = total_infecte[j] / nbEpochs\n",
    "        return total_infecte\n",
    "    \n",
    "    \n",
    "    def score(self, episodes, nbEpochs=100):\n",
    "        # print \"calcul score\"\n",
    "        score = 0\n",
    "        for ep in episodes:\n",
    "            utilisateurs = ep[:,0]\n",
    "            infections = np.unique(ep[:,1])\n",
    "            sources = utilisateurs[[ep[:,1] == infections[0]]]\n",
    "            prediction = self.predict(sources, nbEpochs)\n",
    "            rang = np.array(prediction.keys())[(-np.array(prediction.values())).argsort()]\n",
    "            scoreEp = 0\n",
    "            compteur = 0.0\n",
    "            for i,u in enumerate(rang):\n",
    "                if u in utilisateurs:\n",
    "                    compteur += 1.0\n",
    "                    scoreEp += compteur / (i+1)\n",
    "            score += scoreEp / len(utilisateurs)\n",
    "        score = score / len(episodes)\n",
    "        return score        \n",
    "                "
   ]
  },
  {
   "cell_type": "code",
   "execution_count": 31,
   "metadata": {
    "collapsed": false,
    "scrolled": true
   },
   "outputs": [],
   "source": [
    "ic = IC(maxEpochs = 500)\n",
    "ic.createGraph(episodes)"
   ]
  },
  {
   "cell_type": "code",
   "execution_count": 32,
   "metadata": {
    "collapsed": false,
    "scrolled": false
   },
   "outputs": [
    {
     "name": "stderr",
     "output_type": "stream",
     "text": [
      "/home/melki/anaconda2/lib/python2.7/site-packages/ipykernel/__main__.py:87: RuntimeWarning: invalid value encountered in divide\n",
      "/home/melki/anaconda2/lib/python2.7/site-packages/ipykernel/__main__.py:27: DeprecationWarning: elementwise != comparison failed; this will raise an error in the future.\n"
     ]
    },
    {
     "name": "stdout",
     "output_type": "stream",
     "text": [
      "0 : 0.450313931147\n",
      "100 : 0.790307729175\n",
      "200 : 0.790307729175\n",
      "300 : 0.790307729175\n",
      "400 : 0.790307729175\n",
      "500 : 0.790307729175\n"
     ]
    }
   ],
   "source": [
    "ic.apprentissage(episodes[1:5])"
   ]
  },
  {
   "cell_type": "code",
   "execution_count": 34,
   "metadata": {
    "collapsed": false
   },
   "outputs": [
    {
     "data": {
      "text/plain": [
       "<function matplotlib.pyplot.show>"
      ]
     },
     "execution_count": 34,
     "metadata": {},
     "output_type": "execute_result"
    },
    {
     "data": {
      "image/png": "[encoded data removed]",
      "text/plain": [
       "<matplotlib.figure.Figure at 0x7f3b5cfad4d0>"
      ]
     },
     "metadata": {},
     "output_type": "display_data"
    }
   ],
   "source": [
    "#score sur 3 épisodes\n",
    "import matplotlib.pyplot as plt\n",
    "%matplotlib inline\n",
    "\n",
    "plt.plot(ic.scoresTable[:100])\n",
    "plt.show"
   ]
  },
  {
   "cell_type": "code",
   "execution_count": 37,
   "metadata": {
    "collapsed": false
   },
   "outputs": [
    {
     "name": "stderr",
     "output_type": "stream",
     "text": [
      "/home/melki/anaconda2/lib/python2.7/site-packages/ipykernel/__main__.py:87: RuntimeWarning: invalid value encountered in divide\n",
      "/home/melki/anaconda2/lib/python2.7/site-packages/ipykernel/__main__.py:27: DeprecationWarning: elementwise != comparison failed; this will raise an error in the future.\n"
     ]
    },
    {
     "name": "stdout",
     "output_type": "stream",
     "text": [
      "0 : 0.248235437052\n"
     ]
    },
    {
     "data": {
      "text/plain": [
       "<function matplotlib.pyplot.show>"
      ]
     },
     "execution_count": 37,
     "metadata": {},
     "output_type": "execute_result"
    },
    {
     "data": {
      "image/png": "[encoded data removed]",
      "text/plain": [
       "<matplotlib.figure.Figure at 0x7f3b5d061110>"
      ]
     },
     "metadata": {},
     "output_type": "display_data"
    }
   ],
   "source": [
    "# epochs semblent suffisantes\n",
    "ic = IC(maxEpochs = 50)\n",
    "ic.createGraph(episodes)\n",
    "ic.apprentissage(episodes[1:10])\n",
    "plt.plot(ic.scoresTable)\n",
    "plt.show"
   ]
  },
  {
   "cell_type": "code",
   "execution_count": 42,
   "metadata": {
    "collapsed": false
   },
   "outputs": [
    {
     "name": "stderr",
     "output_type": "stream",
     "text": [
      "/home/melki/anaconda2/lib/python2.7/site-packages/ipykernel/__main__.py:87: RuntimeWarning: invalid value encountered in divide\n",
      "/home/melki/anaconda2/lib/python2.7/site-packages/ipykernel/__main__.py:27: DeprecationWarning: elementwise != comparison failed; this will raise an error in the future.\n"
     ]
    },
    {
     "name": "stdout",
     "output_type": "stream",
     "text": [
      "0 : 0.223741693305\n"
     ]
    },
    {
     "data": {
      "text/plain": [
       "<function matplotlib.pyplot.show>"
      ]
     },
     "execution_count": 42,
     "metadata": {},
     "output_type": "execute_result"
    },
    {
     "data": {
      "image/png": "[encoded data removed]",
      "text/plain": [
       "<matplotlib.figure.Figure at 0x7f3b5d1237d0>"
      ]
     },
     "metadata": {},
     "output_type": "display_data"
    }
   ],
   "source": [
    "# epochs semblent suffisantes\n",
    "ic = IC(maxEpochs = 30)\n",
    "ic.createGraph(episodes)\n",
    "ic.apprentissage(episodes[1:20])\n",
    "plt.plot(ic.scoresTable)\n",
    "plt.show"
   ]
  },
  {
   "cell_type": "code",
   "execution_count": 49,
   "metadata": {
    "collapsed": false
   },
   "outputs": [
    {
     "name": "stderr",
     "output_type": "stream",
     "text": [
      "/home/melki/anaconda2/lib/python2.7/site-packages/ipykernel/__main__.py:87: RuntimeWarning: invalid value encountered in divide\n",
      "/home/melki/anaconda2/lib/python2.7/site-packages/ipykernel/__main__.py:27: DeprecationWarning: elementwise != comparison failed; this will raise an error in the future.\n"
     ]
    },
    {
     "name": "stdout",
     "output_type": "stream",
     "text": [
      "0 : 0.182273580876\n",
      "10 : 0.299371489891\n",
      "20 : 0.305107723034\n",
      "30 : 0.306323821002\n",
      "40 : 0.296069611814\n"
     ]
    },
    {
     "data": {
      "text/plain": [
       "<function matplotlib.pyplot.show>"
      ]
     },
     "execution_count": 49,
     "metadata": {},
     "output_type": "execute_result"
    },
    {
     "data": {
      "image/png": "[encoded data removed]",
      "text/plain": [
       "<matplotlib.figure.Figure at 0x7f3b5c80dc50>"
      ]
     },
     "metadata": {},
     "output_type": "display_data"
    }
   ],
   "source": [
    "# epochs semblent suffisantes #(très long)\n",
    "ic = IC(maxEpochs = 40)\n",
    "ic.createGraph(episodes)\n",
    "ic.apprentissage(episodes[1:99])\n",
    "plt.plot(ic.scoresTable)\n",
    "plt.show"
   ]
  },
  {
   "cell_type": "code",
   "execution_count": null,
   "metadata": {
    "collapsed": true
   },
   "outputs": [],
   "source": [
    "#convergence un peu naze"
   ]
  }
 ],
 "metadata": {
  "anaconda-cloud": {},
  "kernelspec": {
   "display_name": "Python [conda root]",
   "language": "python",
   "name": "conda-root-py"
  },
  "language_info": {
   "codemirror_mode": {
    "name": "ipython",
    "version": 2
   },
   "file_extension": ".py",
   "mimetype": "text/x-python",
   "name": "python",
   "nbconvert_exporter": "python",
   "pygments_lexer": "ipython2",
   "version": "2.7.12"
  }
 },
 "nbformat": 4,
 "nbformat_minor": 1
}
