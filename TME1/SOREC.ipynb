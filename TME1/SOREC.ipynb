{
 "metadata": {
  "name": "",
  "signature": "sha256:348a3a78f0c6b76c10cf0285fd1a3d425c150234e288efcbae47ddfe20104aa6"
 },
 "nbformat": 3,
 "nbformat_minor": 0,
 "worksheets": [
  {
   "cells": [
    {
     "cell_type": "code",
     "collapsed": false,
     "input": [
      "import pandas as pd\n",
      "import numpy as np\n",
      "from copy import copy\n",
      "\n",
      "import matplotlib.pyplot as plt\n",
      "\n",
      "%matplotlib inline"
     ],
     "language": "python",
     "metadata": {},
     "outputs": [],
     "prompt_number": 91
    },
    {
     "cell_type": "code",
     "collapsed": false,
     "input": [
      "def convert(x):\n",
      "    if x!='':\n",
      "        return int(x)-1\n",
      "    else:\n",
      "        return 0"
     ],
     "language": "python",
     "metadata": {},
     "outputs": [],
     "prompt_number": 92
    },
    {
     "cell_type": "code",
     "collapsed": false,
     "input": [
      "def loadMovie(n):\n",
      "    path = 'recodata/'\n",
      "\n",
      "    train = pd.read_csv(path+'u{}.train'.format(n), sep='\\t',header=None)\n",
      "    test = pd.read_csv(path+'u{}.test'.format(n), sep='\\t',header=None)\n",
      "    \n",
      "    links = np.zeros((943,943))\n",
      "    \n",
      "    \n",
      "    with open(path+'u.links') as f:\n",
      "        for lineStr in f.readlines():\n",
      "            line = map(convert, lineStr.split('\\t'))\n",
      "            for vertex in line[1:]:\n",
      "                links[line[0], vertex] = 1\n",
      "            \n",
      "    \n",
      "    train.columns=['U_ID','M_ID', 'R','T']\n",
      "    test.columns=['U_ID','M_ID', 'R','T']\n",
      "    return train, test, links"
     ],
     "language": "python",
     "metadata": {},
     "outputs": [],
     "prompt_number": 93
    },
    {
     "cell_type": "code",
     "collapsed": false,
     "input": [
      "train, test,links = loadMovie(1)\n",
      "train.head()"
     ],
     "language": "python",
     "metadata": {},
     "outputs": [
      {
       "html": [
        "<div style=\"max-width:1500px;overflow:auto;\">\n",
        "<table border=\"1\" class=\"dataframe\">\n",
        "  <thead>\n",
        "    <tr style=\"text-align: right;\">\n",
        "      <th></th>\n",
        "      <th>U_ID</th>\n",
        "      <th>M_ID</th>\n",
        "      <th>R</th>\n",
        "      <th>T</th>\n",
        "    </tr>\n",
        "  </thead>\n",
        "  <tbody>\n",
        "    <tr>\n",
        "      <th>0</th>\n",
        "      <td>1</td>\n",
        "      <td>1</td>\n",
        "      <td>5</td>\n",
        "      <td>874965758</td>\n",
        "    </tr>\n",
        "    <tr>\n",
        "      <th>1</th>\n",
        "      <td>1</td>\n",
        "      <td>2</td>\n",
        "      <td>3</td>\n",
        "      <td>876893171</td>\n",
        "    </tr>\n",
        "    <tr>\n",
        "      <th>2</th>\n",
        "      <td>1</td>\n",
        "      <td>3</td>\n",
        "      <td>4</td>\n",
        "      <td>878542960</td>\n",
        "    </tr>\n",
        "    <tr>\n",
        "      <th>3</th>\n",
        "      <td>1</td>\n",
        "      <td>4</td>\n",
        "      <td>3</td>\n",
        "      <td>876893119</td>\n",
        "    </tr>\n",
        "    <tr>\n",
        "      <th>4</th>\n",
        "      <td>1</td>\n",
        "      <td>5</td>\n",
        "      <td>3</td>\n",
        "      <td>889751712</td>\n",
        "    </tr>\n",
        "  </tbody>\n",
        "</table>\n",
        "</div>"
       ],
       "metadata": {},
       "output_type": "pyout",
       "prompt_number": 94,
       "text": [
        "   U_ID  M_ID  R          T\n",
        "0     1     1  5  874965758\n",
        "1     1     2  3  876893171\n",
        "2     1     3  4  878542960\n",
        "3     1     4  3  876893119\n",
        "4     1     5  3  889751712"
       ]
      }
     ],
     "prompt_number": 94
    },
    {
     "cell_type": "code",
     "collapsed": false,
     "input": [
      "links[0,509] #should be 1"
     ],
     "language": "python",
     "metadata": {},
     "outputs": [
      {
       "metadata": {},
       "output_type": "pyout",
       "prompt_number": 95,
       "text": [
        "1.0"
       ]
      }
     ],
     "prompt_number": 95
    },
    {
     "cell_type": "code",
     "collapsed": false,
     "input": [
      "N,M  = train['U_ID'].max(), train['M_ID'].max()"
     ],
     "language": "python",
     "metadata": {},
     "outputs": [],
     "prompt_number": 96
    },
    {
     "cell_type": "code",
     "collapsed": false,
     "input": [
      "X = np.ones((N,M))*-1"
     ],
     "language": "python",
     "metadata": {},
     "outputs": [],
     "prompt_number": 97
    },
    {
     "cell_type": "code",
     "collapsed": false,
     "input": [
      "X.shape"
     ],
     "language": "python",
     "metadata": {},
     "outputs": [
      {
       "metadata": {},
       "output_type": "pyout",
       "prompt_number": 98,
       "text": [
        "(943, 1682)"
       ]
      }
     ],
     "prompt_number": 98
    },
    {
     "cell_type": "code",
     "collapsed": false,
     "input": [
      "for line, dico in train.iterrows():\n",
      "    u_id = dico['U_ID']-1\n",
      "    m_id = dico['M_ID']-1\n",
      "    r = dico['R']\n",
      "    X[u_id,m_id] = r\n",
      "X"
     ],
     "language": "python",
     "metadata": {},
     "outputs": [
      {
       "metadata": {},
       "output_type": "pyout",
       "prompt_number": 99,
       "text": [
        "array([[ 5.,  3.,  4., ..., -1., -1., -1.],\n",
        "       [ 4., -1., -1., ..., -1., -1., -1.],\n",
        "       [-1., -1., -1., ..., -1., -1., -1.],\n",
        "       ..., \n",
        "       [ 5., -1., -1., ..., -1., -1., -1.],\n",
        "       [-1., -1., -1., ..., -1., -1., -1.],\n",
        "       [-1.,  5., -1., ..., -1., -1., -1.]])"
       ]
      }
     ],
     "prompt_number": 99
    },
    {
     "cell_type": "code",
     "collapsed": false,
     "input": [
      "Ntest, Mtest = test['U_ID'].max(), test['M_ID'].max()\n",
      "print Ntest, Mtest\n",
      "xTest = np.ones((Ntest,Mtest))*-1\n",
      "for line, dico in test.iterrows():\n",
      "    \n",
      "    u_id = dico['U_ID']-1\n",
      "    m_id = dico['M_ID']-1\n",
      "\n",
      "    r = dico['R']\n",
      "    xTest[u_id,m_id] = r\n",
      "\n",
      "xTest"
     ],
     "language": "python",
     "metadata": {},
     "outputs": [
      {
       "output_type": "stream",
       "stream": "stdout",
       "text": [
        "462 1591\n"
       ]
      },
      {
       "metadata": {},
       "output_type": "pyout",
       "prompt_number": 100,
       "text": [
        "array([[-1., -1., -1., ..., -1., -1., -1.],\n",
        "       [-1., -1., -1., ..., -1., -1., -1.],\n",
        "       [-1., -1., -1., ..., -1., -1., -1.],\n",
        "       ..., \n",
        "       [-1., -1., -1., ..., -1., -1., -1.],\n",
        "       [-1., -1., -1., ..., -1., -1., -1.],\n",
        "       [-1., -1., -1., ..., -1., -1., -1.]])"
       ]
      }
     ],
     "prompt_number": 100
    },
    {
     "cell_type": "code",
     "collapsed": false,
     "input": [
      "def factorizeMatrixReg(M,K,cardIte=200,learningRate=1e-3,regularization=1e-2):                              \n",
      "    cardUsers = np.size(M,0)                                                                             \n",
      "    cardMovies = np.size(M,1)                                                                            \n",
      "                                                                                                         \n",
      "    print(\"cardUsers\",cardUsers)                                                                         \n",
      "    print(\"cardMovies\",cardMovies)                                                                       \n",
      "                                                                                                         \n",
      "    P = np.random.rand(cardUsers,K)                                                                      \n",
      "    Q = np.random.rand(K,cardMovies)                                                                     \n",
      "                                                                                                         \n",
      "                                                                                                         \n",
      "    for ite in range(cardIte):                                                                           \n",
      "        for numUsers in range(cardUsers):                                                                       \n",
      "            for numMovies in range(cardMovies):\n",
      "                #SGD\n",
      "                i = np.random.randint(0,cardUsers)\n",
      "                j = np.random.randint(0,cardMovies)\n",
      "                if M[i,j]>0:                                                                            \n",
      "                    derivaTemp = M[i,j] - np.inner(P[i,:],Q[:,j])                                        \n",
      "                                                                                                         \n",
      "                    for k in range(K):\n",
      "                        #Precalc\n",
      "                        Ptemp = learningRate*(2*derivaTemp*Q[k,j] - regularization*P[i,k]) \n",
      "                        Qtemp = learningRate*(2*derivaTemp*P[i,k] - regularization*Q[k,j])\n",
      "                        #Update\n",
      "                        P[i,k] += Ptemp             \n",
      "                        Q[k,j] += Qtemp             \n",
      "                                                                                                         \n",
      "                                                                                                         \n",
      "        err = costFunction(M,P,Q,K,regularization)\n",
      "        \n",
      "        if ite%5==0:\n",
      "            print(\"cost after {}/{} optimization : {}\".format(ite, cardIte, err))\n",
      "                                                                                 \n",
      "    print(\"cost after {}/{} optimization : {}\".format(cardIte, cardIte, err))\n",
      "    return P,Q"
     ],
     "language": "python",
     "metadata": {},
     "outputs": [],
     "prompt_number": 101
    },
    {
     "cell_type": "code",
     "collapsed": false,
     "input": [
      "def costFunction(M,P,Q,K,regularization): \n",
      "    \n",
      "    errMat = (M - np.dot(P,Q))**2\n",
      "    \n",
      "    #Adding regularization at the end\n",
      "    #regMat = regularization * ( np.dot(P,np.ones(Q.shape))**2\n",
      "    #                              + np.dot(np.ones(P.shape),Q)**2)\n",
      "    \n",
      "    #errMat += regMat\n",
      "    \n",
      "    errMat[np.where(M<=0)] = 0\n",
      "    return errMat.sum()"
     ],
     "language": "python",
     "metadata": {},
     "outputs": [],
     "prompt_number": 102
    },
    {
     "cell_type": "code",
     "collapsed": false,
     "input": [
      "P, Q = factorizeMatrixReg(X,2,cardIte=25)"
     ],
     "language": "python",
     "metadata": {},
     "outputs": [
      {
       "output_type": "stream",
       "stream": "stdout",
       "text": [
        "('cardUsers', 943)\n",
        "('cardMovies', 1682)\n",
        "cost after 0/25 optimization : 349428.917853"
       ]
      },
      {
       "output_type": "stream",
       "stream": "stdout",
       "text": [
        "\n",
        "cost after 5/25 optimization : 88049.239359"
       ]
      },
      {
       "output_type": "stream",
       "stream": "stdout",
       "text": [
        "\n",
        "cost after 10/25 optimization : 74307.0360585"
       ]
      },
      {
       "output_type": "stream",
       "stream": "stdout",
       "text": [
        "\n",
        "cost after 15/25 optimization : 70527.9105036"
       ]
      },
      {
       "output_type": "stream",
       "stream": "stdout",
       "text": [
        "\n",
        "cost after 20/25 optimization : 68942.4338937"
       ]
      },
      {
       "output_type": "stream",
       "stream": "stdout",
       "text": [
        "\n",
        "cost after 25/25 optimization : 68250.5436316"
       ]
      },
      {
       "output_type": "stream",
       "stream": "stdout",
       "text": [
        "\n"
       ]
      }
     ],
     "prompt_number": 14
    },
    {
     "cell_type": "code",
     "collapsed": false,
     "input": [
      "def costFunction2(M,L,U,V,Z,K,regularization): \n",
      "    \n",
      "    errM = (M - np.dot(U,V))**2\n",
      "    errL = (L - np.dot(U,Z))**2\n",
      "    \n",
      "    errM[np.where(M<=0)] = 0\n",
      "    return errM.sum() + errL.sum()\n",
      "\n",
      "def factorize2Mat(M,L,K,cardIte=15,learningRate=1e-2,regularization=1e-2):\n",
      "    \n",
      "    \n",
      "    cardUsers = np.size(M,0)                                                                             \n",
      "    cardMovies = np.size(M,1)                                                                            \n",
      "                                                                                                         \n",
      "    print(\"cardUsers\",cardUsers)                                                                         \n",
      "    print(\"cardMovies\",cardMovies)                                                                       \n",
      "                                                                                                         \n",
      "    U = np.random.rand(cardUsers,K)                                                                      \n",
      "    V = np.random.rand(K,cardMovies)\n",
      "    Z = np.random.rand(K,cardUsers)\n",
      "                                                                                                         \n",
      "                                                                                                         \n",
      "    for ite in range(cardIte):                                                                           \n",
      "        for numUsers in range(cardUsers):                                                                       \n",
      "            for numMovies in range(cardMovies):\n",
      "                #SGD\n",
      "                i = np.random.randint(0,cardUsers)\n",
      "                j = np.random.randint(0,cardMovies)\n",
      "                if M[i,j]>0:                                                                            \n",
      "                    derivaTempUV = M[i,j] - np.inner(U[i,:],V[:,j]) \n",
      "                    derivaTempUZ = L[i,i] - np.inner(U[i,:],Z[:,i])\n",
      "                                                                                                         \n",
      "                    for k in range(K):\n",
      "                        #Precalc\n",
      "                        Utemp = learningRate*(2*derivaTempUV*V[k,j] - regularization*U[i,k])\n",
      "                        Utemp += learningRate*(2*derivaTempUZ*Z[k,i] - regularization*U[i,k])\n",
      "                        \n",
      "                        Vtemp = learningRate*(2*derivaTempUV*U[i,k] - regularization*V[k,j])\n",
      "                        Ztemp = learningRate*(2*derivaTempUZ*U[i,k] - regularization*Z[k,i])\n",
      "                        #Update\n",
      "                        U[i,k] += Utemp             \n",
      "                        V[k,j] += Vtemp\n",
      "                        Z[k,i] += Ztemp\n",
      "                        \n",
      "                                                                                                         \n",
      "                                                                                                         \n",
      "        err = costFunction2(M,L,U,V,Z,K,regularization)\n",
      "        \n",
      "        if ite%200==0:\n",
      "            print(\"cost after {}/{} optimization : {}\".format(ite, cardIte, err))\n",
      "                                                                                 \n",
      "    print(\"cost after {}/{} optimization : {}\".format(cardIte, cardIte, err))\n",
      "    return U,V,Z"
     ],
     "language": "python",
     "metadata": {},
     "outputs": [],
     "prompt_number": 103
    },
    {
     "cell_type": "code",
     "collapsed": false,
     "input": [
      "def costFunction2(M,L,U,V,Z,K,regularization): \n",
      "    \n",
      "    errM = (M - np.dot(U,V))**2\n",
      "    errL = (L - np.dot(U,Z))**2\n",
      "    \n",
      "    errM[np.where(M<=0)] = 0\n",
      "    return errM.sum() + errL.sum()\n",
      "\n",
      "def factorize2Mat(M,L,K,cardIte=100,learningRate=1e-2,regularization=1e-2):\n",
      "    \n",
      "    lossList = []\n",
      "    cardUsers = np.size(M,0)                                                                             \n",
      "    cardMovies = np.size(M,1)                                                                            \n",
      "                                                                                                         \n",
      "    print(\"cardUsers\",cardUsers)                                                                         \n",
      "    print(\"cardMovies\",cardMovies)                                                                       \n",
      "                                                                                                         \n",
      "    U = np.random.rand(cardUsers,K)                                                                      \n",
      "    V = np.random.rand(K,cardMovies)\n",
      "    Z = np.random.rand(K,cardUsers)\n",
      "                                                                                                         \n",
      "                                                                                                         \n",
      "    for ite in range(cardIte):                                                                           \n",
      "        for numUsers in range(cardUsers):                                                                       \n",
      "            for numMovies in range(cardMovies):\n",
      "                #SGD\n",
      "                i = np.random.randint(0,cardUsers)\n",
      "                i2 = np.random.randint(0,cardUsers)\n",
      "                j = np.random.randint(0,cardMovies)\n",
      "                if M[i,j]>0:                                                                            \n",
      "                    derivaTempUV = M[i,j] - np.inner(U[i,:],V[:,j]) \n",
      "                                                                                                         \n",
      "                    for k in range(K):\n",
      "                        #Precalc\n",
      "                        Utemp = learningRate*(2*derivaTempUV*V[k,j] - regularization*U[i,k])\n",
      "                        \n",
      "                        Vtemp = learningRate*(2*derivaTempUV*U[i,k] - regularization*V[k,j])\n",
      "                        #Update\n",
      "                        U[i,k] += Utemp             \n",
      "                        V[k,j] += Vtemp\n",
      "                    \n",
      "\n",
      "                    derivaTempUZ = L[i,i2] - np.inner(U[i,:],Z[:,i2])\n",
      "                    for k in range(K):\n",
      "                        #Precalc\n",
      "                        Utemp = learningRate*(2*derivaTempUZ*Z[k,i2] - regularization*U[i,k])\n",
      "                        Ztemp = learningRate*(2*derivaTempUZ*U[i,k] - regularization*Z[k,i2])\n",
      "                        #Update\n",
      "                        U[i,k] += Utemp \n",
      "                        Z[k,i2] += Ztemp\n",
      "                                                                                                         \n",
      "                                                                                                         \n",
      "        err = costFunction2(M,L,U,V,Z,K,regularization)\n",
      "        lossList.append(err)\n",
      "        \n",
      "        #if ite%200==0:\n",
      "        #   print(\"cost after {}/{} optimization : {}\".format(ite, cardIte, err))\n",
      "                                                                                 \n",
      "    #print(\"cost after {}/{} optimization : {}\".format(cardIte, cardIte, err))\n",
      "    return U,V,Z,lossList"
     ],
     "language": "python",
     "metadata": {},
     "outputs": [],
     "prompt_number": 104
    },
    {
     "cell_type": "code",
     "collapsed": false,
     "input": [
      "links"
     ],
     "language": "python",
     "metadata": {},
     "outputs": [
      {
       "metadata": {},
       "output_type": "pyout",
       "prompt_number": 105,
       "text": [
        "array([[ 0.,  0.,  0., ...,  0.,  0.,  0.],\n",
        "       [ 0.,  0.,  0., ...,  0.,  0.,  0.],\n",
        "       [ 0.,  0.,  0., ...,  0.,  0.,  0.],\n",
        "       ..., \n",
        "       [ 0.,  0.,  0., ...,  0.,  0.,  0.],\n",
        "       [ 0.,  0.,  0., ...,  0.,  0.,  0.],\n",
        "       [ 0.,  0.,  0., ...,  0.,  0.,  0.]])"
       ]
      }
     ],
     "prompt_number": 105
    },
    {
     "cell_type": "code",
     "collapsed": false,
     "input": [
      "toyR = np.array([[5,2,-1,3,-1,4,-1,-1],\n",
      "        [4,3,-1,-1,5,-1,-1,-1],\n",
      "        [4,-1,2,-1,-1,-1,2,4],\n",
      "        [-1,-1,-1,-1,-1,-1,-1,-1],\n",
      "        [5,1,2,-1,4,3,-1,-1],\n",
      "        [4,3,-1,2,4,-1,3,5]])\n",
      "\n",
      "toyRtest = copy(toyR)\n",
      "toyRtest[0,0] = -1\n",
      "toyRtest[5,4] = -1\n",
      "toyRtest[2,5] = -1\n",
      "toyRtest[4,1] = -1"
     ],
     "language": "python",
     "metadata": {},
     "outputs": [],
     "prompt_number": 106
    },
    {
     "cell_type": "code",
     "collapsed": false,
     "input": [
      "toyL = np.array([[0,0,0,0,0,0],\n",
      "        [0,0,0,1,0,0.8],\n",
      "        [0.8,0,0,0,0,0],\n",
      "        [0.8,1,0,0,0.6,0],\n",
      "        [0,0,0.4,0,0,0.8],\n",
      "        [0,0,0,0,0,0]])"
     ],
     "language": "python",
     "metadata": {},
     "outputs": [],
     "prompt_number": 107
    },
    {
     "cell_type": "code",
     "collapsed": false,
     "input": [
      "U,V,Z,lossList = factorize2Mat(toyRtest,toyL,6)\n",
      "print \"Loss : \",lossList[-1]\n",
      "plt.plot(lossList)"
     ],
     "language": "python",
     "metadata": {},
     "outputs": [
      {
       "output_type": "stream",
       "stream": "stdout",
       "text": [
        "('cardUsers', 6)\n",
        "('cardMovies', 8)\n",
        "Loss : "
       ]
      },
      {
       "output_type": "stream",
       "stream": "stdout",
       "text": [
        " 2.33625730246\n"
       ]
      },
      {
       "metadata": {},
       "output_type": "pyout",
       "prompt_number": 108,
       "text": [
        "[<matplotlib.lines.Line2D at 0x7fd77a405490>]"
       ]
      },
      {
       "metadata": {},
       "output_type": "display_data",
       "png": "[encoded data removed]",
       "text": [
        "<matplotlib.figure.Figure at 0x7fd77a4b3150>"
       ]
      }
     ],
     "prompt_number": 108
    },
    {
     "cell_type": "code",
     "collapsed": false,
     "input": [
      "print toyR\n",
      "print np.round(np.dot(U,V),1)\n",
      "errM = (toyRtest - np.dot(U,V))**2\n",
      "errM[np.where(toyR<=0)] = 0\n",
      "print np.round(errM,2)\n",
      "print errM.sum()"
     ],
     "language": "python",
     "metadata": {},
     "outputs": [
      {
       "output_type": "stream",
       "stream": "stdout",
       "text": [
        "[[ 5  2 -1  3 -1  4 -1 -1]\n",
        " [ 4  3 -1 -1  5 -1 -1 -1]\n",
        " [ 4 -1  2 -1 -1 -1  2  4]\n",
        " [-1 -1 -1 -1 -1 -1 -1 -1]\n",
        " [ 5  1  2 -1  4  3 -1 -1]\n",
        " [ 4  3 -1  2  4 -1  3  5]]\n",
        "[[ 3.9  2.   1.5  2.9  4.1  4.   2.5  3.3]\n",
        " [ 4.2  2.9  2.1  1.9  5.   3.8  2.5  4. ]\n",
        " [ 3.9  2.6  1.9  1.7  3.6  3.   2.1  4. ]\n",
        " [ 3.8  2.   1.3  2.5  3.8  4.   2.2  3.3]\n",
        " [ 4.9  2.3  2.   2.2  4.   3.   2.2  3.5]\n",
        " [ 4.   3.   2.5  2.   4.2  3.7  2.9  5. ]]\n",
        "[[  2.41200000e+01   0.00000000e+00   0.00000000e+00   1.00000000e-02\n",
        "    0.00000000e+00   0.00000000e+00   0.00000000e+00   0.00000000e+00]\n",
        " [  5.00000000e-02   0.00000000e+00   0.00000000e+00   0.00000000e+00\n",
        "    0.00000000e+00   0.00000000e+00   0.00000000e+00   0.00000000e+00]\n",
        " [  2.00000000e-02   0.00000000e+00   1.00000000e-02   0.00000000e+00\n",
        "    0.00000000e+00   0.00000000e+00   0.00000000e+00   0.00000000e+00]\n",
        " [  0.00000000e+00   0.00000000e+00   0.00000000e+00   0.00000000e+00\n",
        "    0.00000000e+00   0.00000000e+00   0.00000000e+00   0.00000000e+00]\n",
        " [  1.00000000e-02   1.07400000e+01   0.00000000e+00   0.00000000e+00\n",
        "    0.00000000e+00   0.00000000e+00   0.00000000e+00   0.00000000e+00]\n",
        " [  0.00000000e+00   0.00000000e+00   0.00000000e+00   0.00000000e+00\n",
        "    2.75000000e+01   0.00000000e+00   1.00000000e-02   0.00000000e+00]]\n",
        "62.4804366311\n"
       ]
      }
     ],
     "prompt_number": 109
    },
    {
     "cell_type": "code",
     "collapsed": false,
     "input": [
      "print toyL\n",
      "print np.round(np.dot(U,Z),1)\n",
      "print ((np.dot(U,Z)-toyL)**2).sum()"
     ],
     "language": "python",
     "metadata": {},
     "outputs": [
      {
       "output_type": "stream",
       "stream": "stdout",
       "text": [
        "[[ 0.   0.   0.   0.   0.   0. ]\n",
        " [ 0.   0.   0.   1.   0.   0.8]\n",
        " [ 0.8  0.   0.   0.   0.   0. ]\n",
        " [ 0.8  1.   0.   0.   0.6  0. ]\n",
        " [ 0.   0.   0.4  0.   0.   0.8]\n",
        " [ 0.   0.   0.   0.   0.   0. ]]\n",
        "[[-0.   0.1  0.  -0.   0.1  0.1]\n",
        " [ 0.2 -0.2  0.   0.7 -0.2  0.5]\n",
        " [ 0.5 -0.1  0.3  0.1  0.1  0.2]\n",
        " [ 0.5 -0.2  0.3  0.1  0.4 -0. ]\n",
        " [ 0.   0.1  0.3  0.1 -0.   0.7]\n",
        " [ 0.1  0.1 -0.1  0.   0.   0. ]]\n",
        "2.22143471453\n"
       ]
      }
     ],
     "prompt_number": 110
    },
    {
     "cell_type": "code",
     "collapsed": false,
     "input": [
      "U,V,Z,lossList = factorize2Mat(X,links,6, cardIte=20)"
     ],
     "language": "python",
     "metadata": {},
     "outputs": [
      {
       "output_type": "stream",
       "stream": "stdout",
       "text": [
        "('cardUsers', 943)\n",
        "('cardMovies', 1682)\n"
       ]
      }
     ],
     "prompt_number": 118
    },
    {
     "cell_type": "code",
     "collapsed": false,
     "input": [
      "plt.plot(lossList)"
     ],
     "language": "python",
     "metadata": {},
     "outputs": [
      {
       "metadata": {},
       "output_type": "pyout",
       "prompt_number": 119,
       "text": [
        "[<matplotlib.lines.Line2D at 0x7fd77a199490>]"
       ]
      },
      {
       "metadata": {},
       "output_type": "display_data",
       "png": "[encoded data removed]",
       "text": [
        "<matplotlib.figure.Figure at 0x7fd77a21d850>"
       ]
      }
     ],
     "prompt_number": 119
    },
    {
     "cell_type": "code",
     "collapsed": false,
     "input": [],
     "language": "python",
     "metadata": {},
     "outputs": []
    }
   ],
   "metadata": {}
  }
 ]
}