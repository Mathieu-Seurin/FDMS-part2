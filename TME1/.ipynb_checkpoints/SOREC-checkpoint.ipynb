{
 "metadata": {
  "name": "",
  "signature": "sha256:704888ed2519dfbb52838ac142cd80e489e473e1772c1a96c3a95ee5bc86a545"
 },
 "nbformat": 3,
 "nbformat_minor": 0,
 "worksheets": [
  {
   "cells": [
    {
     "cell_type": "code",
     "collapsed": false,
     "input": [
      "import pandas as pd\n",
      "import numpy as np\n",
      "from copy import copy\n",
      "\n",
      "import matplotlib.pyplot as plt\n",
      "\n",
      "%matplotlib inline"
     ],
     "language": "python",
     "metadata": {},
     "outputs": [],
     "prompt_number": 65
    },
    {
     "cell_type": "code",
     "collapsed": false,
     "input": [
      "def convert(x):\n",
      "    if x!='':\n",
      "        return int(x)-1\n",
      "    else:\n",
      "        return 0"
     ],
     "language": "python",
     "metadata": {},
     "outputs": [],
     "prompt_number": 66
    },
    {
     "cell_type": "code",
     "collapsed": false,
     "input": [
      "def loadMovie(n):\n",
      "    path = 'recodata/'\n",
      "\n",
      "    train = pd.read_csv(path+'u{}.train'.format(n), sep='\\t',header=None)\n",
      "    test = pd.read_csv(path+'u{}.test'.format(n), sep='\\t',header=None)\n",
      "    \n",
      "    links = np.zeros((963,963))\n",
      "    \n",
      "    \n",
      "    with open(path+'u.links') as f:\n",
      "        for lineStr in f.readlines():\n",
      "            line = map(convert, lineStr.split('\\t'))\n",
      "            for vertex in line[1:]:\n",
      "                links[line[0], vertex] = 1\n",
      "            \n",
      "    \n",
      "    train.columns=['U_ID','M_ID', 'R','T']\n",
      "    test.columns=['U_ID','M_ID', 'R','T']\n",
      "    return train, test, links"
     ],
     "language": "python",
     "metadata": {},
     "outputs": [],
     "prompt_number": 67
    },
    {
     "cell_type": "code",
     "collapsed": false,
     "input": [
      "train, test,links = loadMovie(1)\n",
      "train.head()"
     ],
     "language": "python",
     "metadata": {},
     "outputs": [
      {
       "html": [
        "<div style=\"max-width:1500px;overflow:auto;\">\n",
        "<table border=\"1\" class=\"dataframe\">\n",
        "  <thead>\n",
        "    <tr style=\"text-align: right;\">\n",
        "      <th></th>\n",
        "      <th>U_ID</th>\n",
        "      <th>M_ID</th>\n",
        "      <th>R</th>\n",
        "      <th>T</th>\n",
        "    </tr>\n",
        "  </thead>\n",
        "  <tbody>\n",
        "    <tr>\n",
        "      <th>0</th>\n",
        "      <td>1</td>\n",
        "      <td>1</td>\n",
        "      <td>5</td>\n",
        "      <td>874965758</td>\n",
        "    </tr>\n",
        "    <tr>\n",
        "      <th>1</th>\n",
        "      <td>1</td>\n",
        "      <td>2</td>\n",
        "      <td>3</td>\n",
        "      <td>876893171</td>\n",
        "    </tr>\n",
        "    <tr>\n",
        "      <th>2</th>\n",
        "      <td>1</td>\n",
        "      <td>3</td>\n",
        "      <td>4</td>\n",
        "      <td>878542960</td>\n",
        "    </tr>\n",
        "    <tr>\n",
        "      <th>3</th>\n",
        "      <td>1</td>\n",
        "      <td>4</td>\n",
        "      <td>3</td>\n",
        "      <td>876893119</td>\n",
        "    </tr>\n",
        "    <tr>\n",
        "      <th>4</th>\n",
        "      <td>1</td>\n",
        "      <td>5</td>\n",
        "      <td>3</td>\n",
        "      <td>889751712</td>\n",
        "    </tr>\n",
        "  </tbody>\n",
        "</table>\n",
        "</div>"
       ],
       "metadata": {},
       "output_type": "pyout",
       "prompt_number": 68,
       "text": [
        "   U_ID  M_ID  R          T\n",
        "0     1     1  5  874965758\n",
        "1     1     2  3  876893171\n",
        "2     1     3  4  878542960\n",
        "3     1     4  3  876893119\n",
        "4     1     5  3  889751712"
       ]
      }
     ],
     "prompt_number": 68
    },
    {
     "cell_type": "code",
     "collapsed": false,
     "input": [
      "links[0,509] #should be 1"
     ],
     "language": "python",
     "metadata": {},
     "outputs": [
      {
       "metadata": {},
       "output_type": "pyout",
       "prompt_number": 69,
       "text": [
        "1.0"
       ]
      }
     ],
     "prompt_number": 69
    },
    {
     "cell_type": "code",
     "collapsed": false,
     "input": [
      "N,M  = train['U_ID'].max(), train['M_ID'].max()"
     ],
     "language": "python",
     "metadata": {},
     "outputs": [],
     "prompt_number": 70
    },
    {
     "cell_type": "code",
     "collapsed": false,
     "input": [
      "X = np.ones((N,M))*-1"
     ],
     "language": "python",
     "metadata": {},
     "outputs": [],
     "prompt_number": 71
    },
    {
     "cell_type": "code",
     "collapsed": false,
     "input": [
      "X.shape"
     ],
     "language": "python",
     "metadata": {},
     "outputs": [
      {
       "metadata": {},
       "output_type": "pyout",
       "prompt_number": 72,
       "text": [
        "(943, 1682)"
       ]
      }
     ],
     "prompt_number": 72
    },
    {
     "cell_type": "code",
     "collapsed": false,
     "input": [
      "for line, dico in train.iterrows():\n",
      "    u_id = dico['U_ID']-1\n",
      "    m_id = dico['M_ID']-1\n",
      "    r = dico['R']\n",
      "    X[u_id,m_id] = r\n",
      "X"
     ],
     "language": "python",
     "metadata": {},
     "outputs": [
      {
       "metadata": {},
       "output_type": "pyout",
       "prompt_number": 73,
       "text": [
        "array([[ 5.,  3.,  4., ..., -1., -1., -1.],\n",
        "       [ 4., -1., -1., ..., -1., -1., -1.],\n",
        "       [-1., -1., -1., ..., -1., -1., -1.],\n",
        "       ..., \n",
        "       [ 5., -1., -1., ..., -1., -1., -1.],\n",
        "       [-1., -1., -1., ..., -1., -1., -1.],\n",
        "       [-1.,  5., -1., ..., -1., -1., -1.]])"
       ]
      }
     ],
     "prompt_number": 73
    },
    {
     "cell_type": "code",
     "collapsed": false,
     "input": [
      "Ntest, Mtest = test['U_ID'].max(), test['M_ID'].max()\n",
      "print Ntest, Mtest\n",
      "xTest = np.ones((Ntest,Mtest))*-1\n",
      "for line, dico in test.iterrows():\n",
      "    \n",
      "    u_id = dico['U_ID']-1\n",
      "    m_id = dico['M_ID']-1\n",
      "\n",
      "    r = dico['R']\n",
      "    xTest[u_id,m_id] = r\n",
      "\n",
      "xTest"
     ],
     "language": "python",
     "metadata": {},
     "outputs": [
      {
       "output_type": "stream",
       "stream": "stdout",
       "text": [
        "462 1591\n"
       ]
      },
      {
       "metadata": {},
       "output_type": "pyout",
       "prompt_number": 74,
       "text": [
        "array([[-1., -1., -1., ..., -1., -1., -1.],\n",
        "       [-1., -1., -1., ..., -1., -1., -1.],\n",
        "       [-1., -1., -1., ..., -1., -1., -1.],\n",
        "       ..., \n",
        "       [-1., -1., -1., ..., -1., -1., -1.],\n",
        "       [-1., -1., -1., ..., -1., -1., -1.],\n",
        "       [-1., -1., -1., ..., -1., -1., -1.]])"
       ]
      }
     ],
     "prompt_number": 74
    },
    {
     "cell_type": "code",
     "collapsed": false,
     "input": [
      "def factorizeMatrixReg(M,K,cardIte=200,learningRate=1e-3,regularization=1e-2):                              \n",
      "    cardUsers = np.size(M,0)                                                                             \n",
      "    cardMovies = np.size(M,1)                                                                            \n",
      "                                                                                                         \n",
      "    print(\"cardUsers\",cardUsers)                                                                         \n",
      "    print(\"cardMovies\",cardMovies)                                                                       \n",
      "                                                                                                         \n",
      "    P = np.random.rand(cardUsers,K)                                                                      \n",
      "    Q = np.random.rand(K,cardMovies)                                                                     \n",
      "                                                                                                         \n",
      "                                                                                                         \n",
      "    for ite in range(cardIte):                                                                           \n",
      "        for numUsers in range(cardUsers):                                                                       \n",
      "            for numMovies in range(cardMovies):\n",
      "                #SGD\n",
      "                i = np.random.randint(0,cardUsers)\n",
      "                j = np.random.randint(0,cardMovies)\n",
      "                if M[i,j]>0:                                                                            \n",
      "                    derivaTemp = M[i,j] - np.inner(P[i,:],Q[:,j])                                        \n",
      "                                                                                                         \n",
      "                    for k in range(K):\n",
      "                        #Precalc\n",
      "                        Ptemp = learningRate*(2*derivaTemp*Q[k,j] - regularization*P[i,k]) \n",
      "                        Qtemp = learningRate*(2*derivaTemp*P[i,k] - regularization*Q[k,j])\n",
      "                        #Update\n",
      "                        P[i,k] += Ptemp             \n",
      "                        Q[k,j] += Qtemp             \n",
      "                                                                                                         \n",
      "                                                                                                         \n",
      "        err = costFunction(M,P,Q,K,regularization)\n",
      "        \n",
      "        if ite%5==0:\n",
      "            print(\"cost after {}/{} optimization : {}\".format(ite, cardIte, err))\n",
      "                                                                                 \n",
      "    print(\"cost after {}/{} optimization : {}\".format(cardIte, cardIte, err))\n",
      "    return P,Q"
     ],
     "language": "python",
     "metadata": {},
     "outputs": [],
     "prompt_number": 75
    },
    {
     "cell_type": "code",
     "collapsed": false,
     "input": [
      "def costFunction(M,P,Q,K,regularization): \n",
      "    \n",
      "    errMat = (M - np.dot(P,Q))**2\n",
      "    \n",
      "    #Adding regularization at the end\n",
      "    #regMat = regularization * ( np.dot(P,np.ones(Q.shape))**2\n",
      "    #                              + np.dot(np.ones(P.shape),Q)**2)\n",
      "    \n",
      "    #errMat += regMat\n",
      "    \n",
      "    errMat[np.where(M<=0)] = 0\n",
      "    return errMat.sum()"
     ],
     "language": "python",
     "metadata": {},
     "outputs": [],
     "prompt_number": 76
    },
    {
     "cell_type": "code",
     "collapsed": false,
     "input": [
      "P, Q = factorizeMatrixReg(X,2,cardIte=25)"
     ],
     "language": "python",
     "metadata": {},
     "outputs": [
      {
       "output_type": "stream",
       "stream": "stdout",
       "text": [
        "('cardUsers', 943)\n",
        "('cardMovies', 1682)\n",
        "cost after 0/25 optimization : 349428.917853"
       ]
      },
      {
       "output_type": "stream",
       "stream": "stdout",
       "text": [
        "\n",
        "cost after 5/25 optimization : 88049.239359"
       ]
      },
      {
       "output_type": "stream",
       "stream": "stdout",
       "text": [
        "\n",
        "cost after 10/25 optimization : 74307.0360585"
       ]
      },
      {
       "output_type": "stream",
       "stream": "stdout",
       "text": [
        "\n",
        "cost after 15/25 optimization : 70527.9105036"
       ]
      },
      {
       "output_type": "stream",
       "stream": "stdout",
       "text": [
        "\n",
        "cost after 20/25 optimization : 68942.4338937"
       ]
      },
      {
       "output_type": "stream",
       "stream": "stdout",
       "text": [
        "\n",
        "cost after 25/25 optimization : 68250.5436316"
       ]
      },
      {
       "output_type": "stream",
       "stream": "stdout",
       "text": [
        "\n"
       ]
      }
     ],
     "prompt_number": 14
    },
    {
     "cell_type": "code",
     "collapsed": false,
     "input": [
      "def costFunction2(M,L,U,V,Z,K,regularization): \n",
      "    \n",
      "    errM = (M - np.dot(U,V))**2\n",
      "    errL = (L - np.dot(U,Z))**2\n",
      "    \n",
      "    errM[np.where(M<=0)] = 0\n",
      "    return errM.sum() + errL.sum()\n",
      "\n",
      "def factorize2Mat(M,L,K,cardIte=15,learningRate=1e-2,regularization=1e-2):\n",
      "    \n",
      "    \n",
      "    cardUsers = np.size(M,0)                                                                             \n",
      "    cardMovies = np.size(M,1)                                                                            \n",
      "                                                                                                         \n",
      "    print(\"cardUsers\",cardUsers)                                                                         \n",
      "    print(\"cardMovies\",cardMovies)                                                                       \n",
      "                                                                                                         \n",
      "    U = np.random.rand(cardUsers,K)                                                                      \n",
      "    V = np.random.rand(K,cardMovies)\n",
      "    Z = np.random.rand(K,cardUsers)\n",
      "                                                                                                         \n",
      "                                                                                                         \n",
      "    for ite in range(cardIte):                                                                           \n",
      "        for numUsers in range(cardUsers):                                                                       \n",
      "            for numMovies in range(cardMovies):\n",
      "                #SGD\n",
      "                i = np.random.randint(0,cardUsers)\n",
      "                j = np.random.randint(0,cardMovies)\n",
      "                if M[i,j]>0:                                                                            \n",
      "                    derivaTempUV = M[i,j] - np.inner(U[i,:],V[:,j]) \n",
      "                    derivaTempUZ = L[i,i] - np.inner(U[i,:],Z[:,i])\n",
      "                                                                                                         \n",
      "                    for k in range(K):\n",
      "                        #Precalc\n",
      "                        Utemp = learningRate*(2*derivaTempUV*V[k,j] - regularization*U[i,k])\n",
      "                        Utemp += learningRate*(2*derivaTempUZ*Z[k,i] - regularization*U[i,k])\n",
      "                        \n",
      "                        Vtemp = learningRate*(2*derivaTempUV*U[i,k] - regularization*V[k,j])\n",
      "                        Ztemp = learningRate*(2*derivaTempUZ*U[i,k] - regularization*Z[k,i])\n",
      "                        #Update\n",
      "                        U[i,k] += Utemp             \n",
      "                        V[k,j] += Vtemp\n",
      "                        Z[k,i] += Ztemp\n",
      "                        \n",
      "                                                                                                         \n",
      "                                                                                                         \n",
      "        err = costFunction2(M,L,U,V,Z,K,regularization)\n",
      "        \n",
      "        if ite%200==0:\n",
      "            print(\"cost after {}/{} optimization : {}\".format(ite, cardIte, err))\n",
      "                                                                                 \n",
      "    print(\"cost after {}/{} optimization : {}\".format(cardIte, cardIte, err))\n",
      "    return U,V,Z"
     ],
     "language": "python",
     "metadata": {},
     "outputs": [],
     "prompt_number": 77
    },
    {
     "cell_type": "code",
     "collapsed": false,
     "input": [
      "def costFunction2(M,L,U,V,Z,K,regularization): \n",
      "    \n",
      "    errM = (M - np.dot(U,V))**2\n",
      "    errL = (L - np.dot(U,Z))**2\n",
      "    \n",
      "    errM[np.where(M<=0)] = 0\n",
      "    return errM.sum() + errL.sum()\n",
      "\n",
      "def factorize2Mat(M,L,K,cardIte=5000,learningRate=1e-2,regularization=1e-2):\n",
      "    \n",
      "    lossList = []\n",
      "    cardUsers = np.size(M,0)                                                                             \n",
      "    cardMovies = np.size(M,1)                                                                            \n",
      "                                                                                                         \n",
      "    print(\"cardUsers\",cardUsers)                                                                         \n",
      "    print(\"cardMovies\",cardMovies)                                                                       \n",
      "                                                                                                         \n",
      "    U = np.random.rand(cardUsers,K)                                                                      \n",
      "    V = np.random.rand(K,cardMovies)\n",
      "    Z = np.random.rand(K,cardUsers)\n",
      "                                                                                                         \n",
      "                                                                                                         \n",
      "    for ite in range(cardIte):                                                                           \n",
      "        for numUsers in range(cardUsers):                                                                       \n",
      "            for numMovies in range(cardMovies):\n",
      "                #SGD\n",
      "                i = np.random.randint(0,cardUsers)\n",
      "                i2 = np.random.randint(0,cardUsers)\n",
      "                j = np.random.randint(0,cardMovies)\n",
      "                if M[i,j]>0:                                                                            \n",
      "                    derivaTempUV = M[i,j] - np.inner(U[i,:],V[:,j]) \n",
      "                                                                                                         \n",
      "                    for k in range(K):\n",
      "                        #Precalc\n",
      "                        Utemp = learningRate*(2*derivaTempUV*V[k,j] - regularization*U[i,k])\n",
      "                        \n",
      "                        Vtemp = learningRate*(2*derivaTempUV*U[i,k] - regularization*V[k,j])\n",
      "                        #Update\n",
      "                        U[i,k] += Utemp             \n",
      "                        V[k,j] += Vtemp\n",
      "                    \n",
      "\n",
      "                    derivaTempUZ = L[i,i2] - np.inner(U[i,:],Z[:,i2])\n",
      "                    for k in range(K):\n",
      "                        #Precalc\n",
      "                        Utemp = learningRate*(2*derivaTempUZ*Z[k,i2] - regularization*U[i,k])\n",
      "                        Ztemp = learningRate*(2*derivaTempUZ*U[i,k] - regularization*Z[k,i2])\n",
      "                        #Update\n",
      "                        U[i,k] += Utemp \n",
      "                        Z[k,i2] += Ztemp\n",
      "                                                                                                         \n",
      "                                                                                                         \n",
      "        err = costFunction2(M,L,U,V,Z,K,regularization)\n",
      "        lossList.append(err)\n",
      "        \n",
      "        #if ite%200==0:\n",
      "        #   print(\"cost after {}/{} optimization : {}\".format(ite, cardIte, err))\n",
      "                                                                                 \n",
      "    #print(\"cost after {}/{} optimization : {}\".format(cardIte, cardIte, err))\n",
      "    return U,V,Z,lossList"
     ],
     "language": "python",
     "metadata": {},
     "outputs": [],
     "prompt_number": 78
    },
    {
     "cell_type": "code",
     "collapsed": false,
     "input": [
      "links"
     ],
     "language": "python",
     "metadata": {},
     "outputs": [
      {
       "metadata": {},
       "output_type": "pyout",
       "prompt_number": 79,
       "text": [
        "array([[ 0.,  0.,  0., ...,  0.,  0.,  0.],\n",
        "       [ 0.,  0.,  0., ...,  0.,  0.,  0.],\n",
        "       [ 0.,  0.,  0., ...,  0.,  0.,  0.],\n",
        "       ..., \n",
        "       [ 0.,  0.,  0., ...,  0.,  0.,  0.],\n",
        "       [ 0.,  0.,  0., ...,  0.,  0.,  0.],\n",
        "       [ 0.,  0.,  0., ...,  0.,  0.,  0.]])"
       ]
      }
     ],
     "prompt_number": 79
    },
    {
     "cell_type": "code",
     "collapsed": false,
     "input": [
      "toyR = np.array([[5,2,-1,3,-1,4,-1,-1],\n",
      "        [4,3,-1,-1,5,-1,-1,-1],\n",
      "        [4,-1,2,-1,-1,-1,2,4],\n",
      "        [-1,-1,-1,-1,-1,-1,-1,-1],\n",
      "        [5,1,2,-1,4,3,-1,-1],\n",
      "        [4,3,-1,2,4,-1,3,5]])\n",
      "\n",
      "toyRtest = copy(toyR)\n",
      "toyRtest[0,0] = -1\n",
      "toyRtest[5,4] = -1\n",
      "toyRtest[2,5] = -1\n",
      "toyRtest[4,1] = -1"
     ],
     "language": "python",
     "metadata": {},
     "outputs": [],
     "prompt_number": 80
    },
    {
     "cell_type": "code",
     "collapsed": false,
     "input": [
      "toyL = np.array([[0,0,0,0,0,0],\n",
      "        [0,0,0,1,0,0.8],\n",
      "        [0.8,0,0,0,0,0],\n",
      "        [0.8,1,0,0,0.6,0],\n",
      "        [0,0,0.4,0,0,0.8],\n",
      "        [0,0,0,0,0,0]])"
     ],
     "language": "python",
     "metadata": {},
     "outputs": [],
     "prompt_number": 81
    },
    {
     "cell_type": "code",
     "collapsed": false,
     "input": [
      "U,V,Z,lossList = factorize2Mat(toyRtest,toyL,6)\n",
      "plt.plot(lossList)"
     ],
     "language": "python",
     "metadata": {},
     "outputs": [
      {
       "output_type": "stream",
       "stream": "stdout",
       "text": [
        "('cardUsers', 6)\n",
        "('cardMovies', 8)\n",
        "cost after 5000/5000 optimization : 3.47143403717"
       ]
      },
      {
       "output_type": "stream",
       "stream": "stdout",
       "text": [
        "\n"
       ]
      },
      {
       "metadata": {},
       "output_type": "pyout",
       "prompt_number": 82,
       "text": [
        "[<matplotlib.lines.Line2D at 0x7fd77a5b5450>]"
       ]
      },
      {
       "metadata": {},
       "output_type": "display_data",
       "png": "[encoded data removed]",
       "text": [
        "<matplotlib.figure.Figure at 0x7fd77a73a350>"
       ]
      }
     ],
     "prompt_number": 82
    },
    {
     "cell_type": "code",
     "collapsed": false,
     "input": [
      "print toyR\n",
      "print np.round(np.dot(U,V),1)\n",
      "errM = (toyRtest - np.dot(U,V))**2\n",
      "errM[np.where(toyR<=0)] = 0\n",
      "print np.round(errM,2)\n",
      "print errM.sum()"
     ],
     "language": "python",
     "metadata": {},
     "outputs": [
      {
       "output_type": "stream",
       "stream": "stdout",
       "text": [
        "[[ 5  2 -1  3 -1  4 -1 -1]\n",
        " [ 4  3 -1 -1  5 -1 -1 -1]\n",
        " [ 4 -1  2 -1 -1 -1  2  4]\n",
        " [-1 -1 -1 -1 -1 -1 -1 -1]\n",
        " [ 5  1  2 -1  4  3 -1 -1]\n",
        " [ 4  3 -1  2  4 -1  3  5]]\n",
        "[[ 2.5  2.   1.3  3.   3.4  4.   2.5  3.6]\n",
        " [ 4.   3.   1.9  2.1  5.   3.5  3.   4.6]\n",
        " [ 4.   2.4  2.   1.1  3.1  2.3  2.   4. ]\n",
        " [ 2.7  2.1  1.   1.6  3.1  2.6  2.2  3.2]\n",
        " [ 5.   2.9  2.   1.5  4.   3.   2.7  4.7]\n",
        " [ 4.   3.   2.   2.   4.   3.4  3.   5. ]]\n",
        "[[ 12.55   0.     0.     0.     0.     0.     0.     0.  ]\n",
        " [  0.     0.     0.     0.     0.     0.     0.     0.  ]\n",
        " [  0.     0.     0.     0.     0.     0.     0.     0.  ]\n",
        " [  0.     0.     0.     0.     0.     0.     0.     0.  ]\n",
        " [  0.    15.17   0.     0.     0.     0.     0.     0.  ]\n",
        " [  0.     0.     0.     0.    24.64   0.     0.     0.  ]]\n",
        "52.3617935494\n"
       ]
      }
     ],
     "prompt_number": 83
    },
    {
     "cell_type": "code",
     "collapsed": false,
     "input": [
      "print toyL\n",
      "print np.round(np.dot(U,Z),1)\n",
      "print ((np.dot(U,Z)-toyL)**2).sum()"
     ],
     "language": "python",
     "metadata": {},
     "outputs": [
      {
       "output_type": "stream",
       "stream": "stdout",
       "text": [
        "[[ 0.   0.   0.   0.   0.   0. ]\n",
        " [ 0.   0.   0.   1.   0.   0.8]\n",
        " [ 0.8  0.   0.   0.   0.   0. ]\n",
        " [ 0.8  1.   0.   0.   0.6  0. ]\n",
        " [ 0.   0.   0.4  0.   0.   0.8]\n",
        " [ 0.   0.   0.   0.   0.   0. ]]\n",
        "[[ 0.  -0.   0.   0.  -0.   0. ]\n",
        " [ 0.   0.   0.   1.   0.   0.8]\n",
        " [ 0.8 -0.   0.   0.  -0.   0. ]\n",
        " [-0.   0.   0.1  0.2  0.   0.4]\n",
        " [ 0.  -0.   0.4  0.  -0.   0.8]\n",
        " [ 0.   0.   0.   0.   0.   0. ]]\n",
        "2.19633123514\n"
       ]
      }
     ],
     "prompt_number": 52
    },
    {
     "cell_type": "code",
     "collapsed": false,
     "input": [],
     "language": "python",
     "metadata": {},
     "outputs": [],
     "prompt_number": 141
    },
    {
     "cell_type": "code",
     "collapsed": false,
     "input": [],
     "language": "python",
     "metadata": {},
     "outputs": []
    }
   ],
   "metadata": {}
  }
 ]
}