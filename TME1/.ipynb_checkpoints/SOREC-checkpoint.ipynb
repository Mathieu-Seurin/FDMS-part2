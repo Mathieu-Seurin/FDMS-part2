{
 "metadata": {
  "name": "",
  "signature": "sha256:dadea538b9b6a3deda6af10ea4755e74561cf8f4b49743b1dbecf7e291f26814"
 },
 "nbformat": 3,
 "nbformat_minor": 0,
 "worksheets": [
  {
   "cells": [
    {
     "cell_type": "code",
     "collapsed": false,
     "input": [
      "import pandas as pd\n",
      "import numpy as np"
     ],
     "language": "python",
     "metadata": {},
     "outputs": [],
     "prompt_number": 24
    },
    {
     "cell_type": "code",
     "collapsed": false,
     "input": [
      "def convert(x):\n",
      "    if x!='':\n",
      "        return int(x)-1\n",
      "    else:\n",
      "        return 0"
     ],
     "language": "python",
     "metadata": {},
     "outputs": [],
     "prompt_number": 3
    },
    {
     "cell_type": "code",
     "collapsed": false,
     "input": [
      "def loadMovie(n):\n",
      "    path = 'recodata/'\n",
      "\n",
      "    train = pd.read_csv(path+'u{}.train'.format(n), sep='\\t',header=None)\n",
      "    test = pd.read_csv(path+'u{}.test'.format(n), sep='\\t',header=None)\n",
      "    \n",
      "    links = np.zeros((963,963))\n",
      "    \n",
      "    \n",
      "    with open(path+'u.links') as f:\n",
      "        for lineStr in f.readlines():\n",
      "            line = map(convert, lineStr.split('\\t'))\n",
      "            for vertex in line[1:]:\n",
      "                links[line[0], vertex] = 1\n",
      "            \n",
      "    \n",
      "    train.columns=['U_ID','M_ID', 'R','T']\n",
      "    test.columns=['U_ID','M_ID', 'R','T']\n",
      "    return train, test, links"
     ],
     "language": "python",
     "metadata": {},
     "outputs": [],
     "prompt_number": 4
    },
    {
     "cell_type": "code",
     "collapsed": false,
     "input": [
      "train, test,links = loadMovie(1)\n",
      "train.head()"
     ],
     "language": "python",
     "metadata": {},
     "outputs": [
      {
       "html": [
        "<div style=\"max-width:1500px;overflow:auto;\">\n",
        "<table border=\"1\" class=\"dataframe\">\n",
        "  <thead>\n",
        "    <tr style=\"text-align: right;\">\n",
        "      <th></th>\n",
        "      <th>U_ID</th>\n",
        "      <th>M_ID</th>\n",
        "      <th>R</th>\n",
        "      <th>T</th>\n",
        "    </tr>\n",
        "  </thead>\n",
        "  <tbody>\n",
        "    <tr>\n",
        "      <th>0</th>\n",
        "      <td>1</td>\n",
        "      <td>1</td>\n",
        "      <td>5</td>\n",
        "      <td>874965758</td>\n",
        "    </tr>\n",
        "    <tr>\n",
        "      <th>1</th>\n",
        "      <td>1</td>\n",
        "      <td>2</td>\n",
        "      <td>3</td>\n",
        "      <td>876893171</td>\n",
        "    </tr>\n",
        "    <tr>\n",
        "      <th>2</th>\n",
        "      <td>1</td>\n",
        "      <td>3</td>\n",
        "      <td>4</td>\n",
        "      <td>878542960</td>\n",
        "    </tr>\n",
        "    <tr>\n",
        "      <th>3</th>\n",
        "      <td>1</td>\n",
        "      <td>4</td>\n",
        "      <td>3</td>\n",
        "      <td>876893119</td>\n",
        "    </tr>\n",
        "    <tr>\n",
        "      <th>4</th>\n",
        "      <td>1</td>\n",
        "      <td>5</td>\n",
        "      <td>3</td>\n",
        "      <td>889751712</td>\n",
        "    </tr>\n",
        "  </tbody>\n",
        "</table>\n",
        "</div>"
       ],
       "metadata": {},
       "output_type": "pyout",
       "prompt_number": 5,
       "text": [
        "   U_ID  M_ID  R          T\n",
        "0     1     1  5  874965758\n",
        "1     1     2  3  876893171\n",
        "2     1     3  4  878542960\n",
        "3     1     4  3  876893119\n",
        "4     1     5  3  889751712"
       ]
      }
     ],
     "prompt_number": 5
    },
    {
     "cell_type": "code",
     "collapsed": false,
     "input": [
      "links[0,509] #should be 1"
     ],
     "language": "python",
     "metadata": {},
     "outputs": [
      {
       "metadata": {},
       "output_type": "pyout",
       "prompt_number": 6,
       "text": [
        "1.0"
       ]
      }
     ],
     "prompt_number": 6
    },
    {
     "cell_type": "code",
     "collapsed": false,
     "input": [
      "N,M  = train['U_ID'].max(), train['M_ID'].max()"
     ],
     "language": "python",
     "metadata": {},
     "outputs": [],
     "prompt_number": 7
    },
    {
     "cell_type": "code",
     "collapsed": false,
     "input": [
      "X = np.ones((N,M))*-1"
     ],
     "language": "python",
     "metadata": {},
     "outputs": [],
     "prompt_number": 8
    },
    {
     "cell_type": "code",
     "collapsed": false,
     "input": [
      "X.shape"
     ],
     "language": "python",
     "metadata": {},
     "outputs": [
      {
       "metadata": {},
       "output_type": "pyout",
       "prompt_number": 9,
       "text": [
        "(943, 1682)"
       ]
      }
     ],
     "prompt_number": 9
    },
    {
     "cell_type": "code",
     "collapsed": false,
     "input": [
      "for line, dico in train.iterrows():\n",
      "    u_id = dico['U_ID']-1\n",
      "    m_id = dico['M_ID']-1\n",
      "    r = dico['R']\n",
      "    X[u_id,m_id] = r\n",
      "X"
     ],
     "language": "python",
     "metadata": {},
     "outputs": [
      {
       "metadata": {},
       "output_type": "pyout",
       "prompt_number": 10,
       "text": [
        "array([[ 5.,  3.,  4., ..., -1., -1., -1.],\n",
        "       [ 4., -1., -1., ..., -1., -1., -1.],\n",
        "       [-1., -1., -1., ..., -1., -1., -1.],\n",
        "       ..., \n",
        "       [ 5., -1., -1., ..., -1., -1., -1.],\n",
        "       [-1., -1., -1., ..., -1., -1., -1.],\n",
        "       [-1.,  5., -1., ..., -1., -1., -1.]])"
       ]
      }
     ],
     "prompt_number": 10
    },
    {
     "cell_type": "code",
     "collapsed": false,
     "input": [
      "Ntest, Mtest = test['U_ID'].max(), test['M_ID'].max()\n",
      "print Ntest, Mtest\n",
      "xTest = np.ones((Ntest,Mtest))*-1\n",
      "for line, dico in test.iterrows():\n",
      "    \n",
      "    u_id = dico['U_ID']-1\n",
      "    m_id = dico['M_ID']-1\n",
      "\n",
      "    r = dico['R']\n",
      "    xTest[u_id,m_id] = r\n",
      "\n",
      "xTest"
     ],
     "language": "python",
     "metadata": {},
     "outputs": [
      {
       "output_type": "stream",
       "stream": "stdout",
       "text": [
        "462 1591\n"
       ]
      },
      {
       "metadata": {},
       "output_type": "pyout",
       "prompt_number": 11,
       "text": [
        "array([[-1., -1., -1., ..., -1., -1., -1.],\n",
        "       [-1., -1., -1., ..., -1., -1., -1.],\n",
        "       [-1., -1., -1., ..., -1., -1., -1.],\n",
        "       ..., \n",
        "       [-1., -1., -1., ..., -1., -1., -1.],\n",
        "       [-1., -1., -1., ..., -1., -1., -1.],\n",
        "       [-1., -1., -1., ..., -1., -1., -1.]])"
       ]
      }
     ],
     "prompt_number": 11
    },
    {
     "cell_type": "code",
     "collapsed": false,
     "input": [
      "def factorizeMatrixReg(M,K,cardIte=200,learningRate=1e-3,regularization=1e-2):                              \n",
      "    cardUsers = np.size(M,0)                                                                             \n",
      "    cardMovies = np.size(M,1)                                                                            \n",
      "                                                                                                         \n",
      "    print(\"cardUsers\",cardUsers)                                                                         \n",
      "    print(\"cardMovies\",cardMovies)                                                                       \n",
      "                                                                                                         \n",
      "    P = np.random.rand(cardUsers,K)                                                                      \n",
      "    Q = np.random.rand(K,cardMovies)                                                                     \n",
      "                                                                                                         \n",
      "                                                                                                         \n",
      "    for ite in range(cardIte):                                                                           \n",
      "        for numUsers in range(cardUsers):                                                                       \n",
      "            for numMovies in range(cardMovies):\n",
      "                #SGD\n",
      "                i = np.random.randint(0,cardUsers)\n",
      "                j = np.random.randint(0,cardMovies)\n",
      "                if M[i,j]>0:                                                                            \n",
      "                    derivaTemp = M[i,j] - np.inner(P[i,:],Q[:,j])                                        \n",
      "                                                                                                         \n",
      "                    for k in range(K):\n",
      "                        #Precalc\n",
      "                        Ptemp = learningRate*(2*derivaTemp*Q[k,j] - regularization*P[i,k]) \n",
      "                        Qtemp = learningRate*(2*derivaTemp*P[i,k] - regularization*Q[k,j])\n",
      "                        #Update\n",
      "                        P[i,k] += Ptemp             \n",
      "                        Q[k,j] += Qtemp             \n",
      "                                                                                                         \n",
      "                                                                                                         \n",
      "        err = costFunction(M,P,Q,K,regularization)\n",
      "        \n",
      "        if ite%5==0:\n",
      "            print(\"cost after {}/{} optimization : {}\".format(ite, cardIte, err))\n",
      "                                                                                 \n",
      "    print(\"cost after {}/{} optimization : {}\".format(cardIte, cardIte, err))\n",
      "    return P,Q"
     ],
     "language": "python",
     "metadata": {},
     "outputs": [],
     "prompt_number": 12
    },
    {
     "cell_type": "code",
     "collapsed": false,
     "input": [
      "def costFunction(M,P,Q,K,regularization): \n",
      "    \n",
      "    errMat = (M - np.dot(P,Q))**2\n",
      "    \n",
      "    #Adding regularization at the end\n",
      "    #regMat = regularization * ( np.dot(P,np.ones(Q.shape))**2\n",
      "    #                              + np.dot(np.ones(P.shape),Q)**2)\n",
      "    \n",
      "    #errMat += regMat\n",
      "    \n",
      "    errMat[np.where(M<=0)] = 0\n",
      "    return errMat.sum()"
     ],
     "language": "python",
     "metadata": {},
     "outputs": [],
     "prompt_number": 13
    },
    {
     "cell_type": "code",
     "collapsed": false,
     "input": [
      "P, Q = factorizeMatrixReg(X,2,cardIte=25)"
     ],
     "language": "python",
     "metadata": {},
     "outputs": [
      {
       "output_type": "stream",
       "stream": "stdout",
       "text": [
        "('cardUsers', 943)\n",
        "('cardMovies', 1682)\n",
        "cost after 0/25 optimization : 352159.362222"
       ]
      },
      {
       "output_type": "stream",
       "stream": "stdout",
       "text": [
        "\n",
        "cost after 5/25 optimization : 88268.7608517"
       ]
      },
      {
       "output_type": "stream",
       "stream": "stdout",
       "text": [
        "\n",
        "cost after 10/25 optimization : 74315.7549703"
       ]
      },
      {
       "output_type": "stream",
       "stream": "stdout",
       "text": [
        "\n",
        "cost after 15/25 optimization : 70509.6091496"
       ]
      },
      {
       "output_type": "stream",
       "stream": "stdout",
       "text": [
        "\n",
        "cost after 20/25 optimization : 68909.4726166"
       ]
      },
      {
       "output_type": "stream",
       "stream": "stdout",
       "text": [
        "\n",
        "cost after 25/25 optimization : 68137.7229911"
       ]
      },
      {
       "output_type": "stream",
       "stream": "stdout",
       "text": [
        "\n"
       ]
      }
     ],
     "prompt_number": 16
    },
    {
     "cell_type": "code",
     "collapsed": false,
     "input": [
      "def costFunction2(M,L,U,V,Z,K,regularization): \n",
      "    \n",
      "    errM = (M - np.dot(U,V))**2\n",
      "    errL = (L - np.dot(U,Z))**2\n",
      "    \n",
      "    errM[np.where(M<=0)] = 0\n",
      "    return errM.sum() + errL.sum()\n",
      "\n",
      "def factorize2Mat(M,L,K,cardIte=5000,learningRate=1e-2,regularization=1e-2):\n",
      "    \n",
      "    \n",
      "    cardUsers = np.size(M,0)                                                                             \n",
      "    cardMovies = np.size(M,1)                                                                            \n",
      "                                                                                                         \n",
      "    print(\"cardUsers\",cardUsers)                                                                         \n",
      "    print(\"cardMovies\",cardMovies)                                                                       \n",
      "                                                                                                         \n",
      "    U = np.random.rand(cardUsers,K)                                                                      \n",
      "    V = np.random.rand(K,cardMovies)\n",
      "    Z = np.random.rand(K,cardUsers)\n",
      "                                                                                                         \n",
      "                                                                                                         \n",
      "    for ite in range(cardIte):                                                                           \n",
      "        for numUsers in range(cardUsers):                                                                       \n",
      "            for numMovies in range(cardMovies):\n",
      "                #SGD\n",
      "                i = np.random.randint(0,cardUsers)\n",
      "                j = np.random.randint(0,cardMovies)\n",
      "                if M[i,j]>0:                                                                            \n",
      "                    derivaTempUV = M[i,j] - np.inner(U[i,:],V[:,j]) \n",
      "                    derivaTempUZ = L[i,i] - np.inner(U[i,:],Z[:,i])\n",
      "                                                                                                         \n",
      "                    for k in range(K):\n",
      "                        #Precalc\n",
      "                        Utemp = learningRate*(2*derivaTempUV*V[k,j] - regularization*U[i,k])\n",
      "                        Utemp += learningRate*(2*derivaTempUZ*Z[k,i] - regularization*U[i,k])\n",
      "                        \n",
      "                        Vtemp = learningRate*(2*derivaTempUV*U[i,k] - regularization*V[k,j])\n",
      "                        Ztemp = learningRate*(2*derivaTempUZ*U[i,k] - regularization*Z[k,i])\n",
      "                        #Update\n",
      "                        U[i,k] += Utemp             \n",
      "                        V[k,j] += Vtemp\n",
      "                        Z[k,i] += Ztemp\n",
      "                        \n",
      "                                                                                                         \n",
      "                                                                                                         \n",
      "        err = costFunction2(M,L,U,V,Z,K,regularization)\n",
      "        \n",
      "        if ite%200==0:\n",
      "            print(\"cost after {}/{} optimization : {}\".format(ite, cardIte, err))\n",
      "                                                                                 \n",
      "    print(\"cost after {}/{} optimization : {}\".format(cardIte, cardIte, err))\n",
      "    return U,V,Z"
     ],
     "language": "python",
     "metadata": {},
     "outputs": [],
     "prompt_number": 117
    },
    {
     "cell_type": "code",
     "collapsed": false,
     "input": [
      "def costFunction2(M,L,U,V,Z,K,regularization): \n",
      "    \n",
      "    errM = (M - np.dot(U,V))**2\n",
      "    errL = (L - np.dot(U,Z))**2\n",
      "    \n",
      "    errM[np.where(M<=0)] = 0\n",
      "    return errM.sum() + errL.sum()\n",
      "\n",
      "def factorize2Mat(M,L,K,cardIte=5000,learningRate=1e-2,regularization=1e-2):\n",
      "    \n",
      "    \n",
      "    cardUsers = np.size(M,0)                                                                             \n",
      "    cardMovies = np.size(M,1)                                                                            \n",
      "                                                                                                         \n",
      "    print(\"cardUsers\",cardUsers)                                                                         \n",
      "    print(\"cardMovies\",cardMovies)                                                                       \n",
      "                                                                                                         \n",
      "    U = np.random.rand(cardUsers,K)                                                                      \n",
      "    V = np.random.rand(K,cardMovies)\n",
      "    Z = np.random.rand(K,cardUsers)\n",
      "                                                                                                         \n",
      "                                                                                                         \n",
      "    for ite in range(cardIte):                                                                           \n",
      "        for numUsers in range(cardUsers):                                                                       \n",
      "            for numMovies in range(cardMovies):\n",
      "                #SGD\n",
      "                i = np.random.randint(0,cardUsers)\n",
      "                i2 = np.random.randint(0,cardUsers)\n",
      "                j = np.random.randint(0,cardMovies)\n",
      "                if M[i,j]>0:                                                                            \n",
      "                    derivaTempUV = M[i,j] - np.inner(U[i,:],V[:,j]) \n",
      "                                                                                                         \n",
      "                    for k in range(K):\n",
      "                        #Precalc\n",
      "                        Utemp = learningRate*(2*derivaTempUV*V[k,j] - regularization*U[i,k])\n",
      "                        \n",
      "                        Vtemp = learningRate*(2*derivaTempUV*U[i,k] - regularization*V[k,j])\n",
      "                        #Update\n",
      "                        U[i,k] += Utemp             \n",
      "                        V[k,j] += Vtemp\n",
      "                    \n",
      "\n",
      "                    derivaTempUZ = L[i,i2] - np.inner(U[i,:],Z[:,i2])\n",
      "                    for k in range(K):\n",
      "                        #Precalc\n",
      "                        Utemp = learningRate*(2*derivaTempUZ*Z[k,i2] - regularization*U[i,k])\n",
      "                        Ztemp = learningRate*(2*derivaTempUZ*U[i,k] - regularization*Z[k,i2])\n",
      "                        #Update\n",
      "                        U[i,k] += Utemp \n",
      "                        Z[k,i2] += Ztemp\n",
      "                                                                                                         \n",
      "                                                                                                         \n",
      "        err = costFunction2(M,L,U,V,Z,K,regularization)\n",
      "        \n",
      "        if ite%200==0:\n",
      "            print(\"cost after {}/{} optimization : {}\".format(ite, cardIte, err))\n",
      "                                                                                 \n",
      "    print(\"cost after {}/{} optimization : {}\".format(cardIte, cardIte, err))\n",
      "    return U,V,Z"
     ],
     "language": "python",
     "metadata": {},
     "outputs": [],
     "prompt_number": 135
    },
    {
     "cell_type": "code",
     "collapsed": false,
     "input": [
      "links"
     ],
     "language": "python",
     "metadata": {},
     "outputs": [
      {
       "metadata": {},
       "output_type": "pyout",
       "prompt_number": 136,
       "text": [
        "array([[ 0.,  0.,  0., ...,  0.,  0.,  0.],\n",
        "       [ 0.,  0.,  0., ...,  0.,  0.,  0.],\n",
        "       [ 0.,  0.,  0., ...,  0.,  0.,  0.],\n",
        "       ..., \n",
        "       [ 0.,  0.,  0., ...,  0.,  0.,  0.],\n",
        "       [ 0.,  0.,  0., ...,  0.,  0.,  0.],\n",
        "       [ 0.,  0.,  0., ...,  0.,  0.,  0.]])"
       ]
      }
     ],
     "prompt_number": 136
    },
    {
     "cell_type": "code",
     "collapsed": false,
     "input": [
      "toyR = np.array([[5,2,-1,3,-1,4,-1,-1],\n",
      "        [4,3,-1,-1,5,-1,-1,-1],\n",
      "        [4,-1,2,-1,-1,-1,2,4],\n",
      "        [-1,-1,-1,-1,-1,-1,-1,-1],\n",
      "        [5,1,2,-1,4,3,-1,-1],\n",
      "        [4,3,-1,2,4,-1,3,5]])"
     ],
     "language": "python",
     "metadata": {},
     "outputs": [],
     "prompt_number": 137
    },
    {
     "cell_type": "code",
     "collapsed": false,
     "input": [
      "toyL = np.array([[0,0,0,0,0,0],\n",
      "        [0,0,0,1,0,0.8],\n",
      "        [0.8,0,0,0,0,0],\n",
      "        [0.8,1,0,0,0.6,0],\n",
      "        [0,0,0.4,0,0,0.8],\n",
      "        [0,0,0,0,0,0]])"
     ],
     "language": "python",
     "metadata": {},
     "outputs": [],
     "prompt_number": 138
    },
    {
     "cell_type": "code",
     "collapsed": false,
     "input": [
      "U,V,Z = factorize2Mat(toyR,toyL,5)"
     ],
     "language": "python",
     "metadata": {},
     "outputs": [
      {
       "output_type": "stream",
       "stream": "stdout",
       "text": [
        "('cardUsers', 6)\n",
        "('cardMovies', 8)\n",
        "cost after 0/5000 optimization : 139.831414964\n",
        "cost after 200/5000 optimization : 2.3804003167"
       ]
      },
      {
       "output_type": "stream",
       "stream": "stdout",
       "text": [
        "\n",
        "cost after 400/5000 optimization : 2.1952470626"
       ]
      },
      {
       "output_type": "stream",
       "stream": "stdout",
       "text": [
        "\n",
        "cost after 600/5000 optimization : 2.13544459393"
       ]
      },
      {
       "output_type": "stream",
       "stream": "stdout",
       "text": [
        "\n",
        "cost after 800/5000 optimization : 2.07278165267"
       ]
      },
      {
       "output_type": "stream",
       "stream": "stdout",
       "text": [
        "\n",
        "cost after 1000/5000 optimization : 2.05091066185"
       ]
      },
      {
       "output_type": "stream",
       "stream": "stdout",
       "text": [
        "\n",
        "cost after 1200/5000 optimization : 2.04233035848"
       ]
      },
      {
       "output_type": "stream",
       "stream": "stdout",
       "text": [
        "\n",
        "cost after 1400/5000 optimization : 2.03448609191"
       ]
      },
      {
       "output_type": "stream",
       "stream": "stdout",
       "text": [
        "\n",
        "cost after 1600/5000 optimization : 2.02026533484"
       ]
      },
      {
       "output_type": "stream",
       "stream": "stdout",
       "text": [
        "\n",
        "cost after 1800/5000 optimization : 2.02144958102"
       ]
      },
      {
       "output_type": "stream",
       "stream": "stdout",
       "text": [
        "\n",
        "cost after 2000/5000 optimization : 2.01861181301"
       ]
      },
      {
       "output_type": "stream",
       "stream": "stdout",
       "text": [
        "\n",
        "cost after 2200/5000 optimization : 2.01997873642"
       ]
      },
      {
       "output_type": "stream",
       "stream": "stdout",
       "text": [
        "\n",
        "cost after 2400/5000 optimization : 2.01800068112"
       ]
      },
      {
       "output_type": "stream",
       "stream": "stdout",
       "text": [
        "\n",
        "cost after 2600/5000 optimization : 2.01858212024"
       ]
      },
      {
       "output_type": "stream",
       "stream": "stdout",
       "text": [
        "\n",
        "cost after 2800/5000 optimization : 2.01752413531"
       ]
      },
      {
       "output_type": "stream",
       "stream": "stdout",
       "text": [
        "\n",
        "cost after 3000/5000 optimization : 2.01970343718"
       ]
      },
      {
       "output_type": "stream",
       "stream": "stdout",
       "text": [
        "\n",
        "cost after 3200/5000 optimization : 2.01814519961"
       ]
      },
      {
       "output_type": "stream",
       "stream": "stdout",
       "text": [
        "\n",
        "cost after 3400/5000 optimization : 2.01835871145"
       ]
      },
      {
       "output_type": "stream",
       "stream": "stdout",
       "text": [
        "\n",
        "cost after 3600/5000 optimization : 2.01626609306"
       ]
      },
      {
       "output_type": "stream",
       "stream": "stdout",
       "text": [
        "\n",
        "cost after 3800/5000 optimization : 2.0196390559"
       ]
      },
      {
       "output_type": "stream",
       "stream": "stdout",
       "text": [
        "\n",
        "cost after 4000/5000 optimization : 2.01917757165"
       ]
      },
      {
       "output_type": "stream",
       "stream": "stdout",
       "text": [
        "\n",
        "cost after 4200/5000 optimization : 2.02227569712"
       ]
      },
      {
       "output_type": "stream",
       "stream": "stdout",
       "text": [
        "\n",
        "cost after 4400/5000 optimization : 2.02062503848"
       ]
      },
      {
       "output_type": "stream",
       "stream": "stdout",
       "text": [
        "\n",
        "cost after 4600/5000 optimization : 2.02016576859"
       ]
      },
      {
       "output_type": "stream",
       "stream": "stdout",
       "text": [
        "\n",
        "cost after 4800/5000 optimization : 2.02214114375"
       ]
      },
      {
       "output_type": "stream",
       "stream": "stdout",
       "text": [
        "\n",
        "cost after 5000/5000 optimization : 2.02159714423"
       ]
      },
      {
       "output_type": "stream",
       "stream": "stdout",
       "text": [
        "\n"
       ]
      }
     ],
     "prompt_number": 139
    },
    {
     "cell_type": "code",
     "collapsed": false,
     "input": [
      "print toyR\n",
      "print np.round(np.dot(U,V),1)\n",
      "errM = (toyR - np.dot(U,V))**2\n",
      "errM[np.where(toyR<=0)] = 0\n",
      "print errM\n",
      "print errM.sum()"
     ],
     "language": "python",
     "metadata": {},
     "outputs": [
      {
       "output_type": "stream",
       "stream": "stdout",
       "text": [
        "[[ 5  2 -1  3 -1  4 -1 -1]\n",
        " [ 4  3 -1 -1  5 -1 -1 -1]\n",
        " [ 4 -1  2 -1 -1 -1  2  4]\n",
        " [-1 -1 -1 -1 -1 -1 -1 -1]\n",
        " [ 5  1  2 -1  4  3 -1 -1]\n",
        " [ 4  3 -1  2  4 -1  3  5]]\n",
        "[[ 5.   2.   2.2  3.   4.1  4.   2.6  4.7]\n",
        " [ 4.   3.   2.1  2.1  5.   3.   3.   4.6]\n",
        " [ 4.   1.7  2.   2.   3.4  2.9  2.   4. ]\n",
        " [ 2.   0.7  1.   1.1  2.   1.3  1.   1.7]\n",
        " [ 5.   1.   2.   2.9  4.   3.   1.9  3.7]\n",
        " [ 4.   3.   2.   2.   4.   3.4  3.   5. ]]\n",
        "[[  4.34817432e-05   1.88814046e-08   0.00000000e+00   1.18061754e-04\n",
        "    0.00000000e+00   1.17196791e-04   0.00000000e+00   0.00000000e+00]\n",
        " [  5.59938434e-06   1.11748726e-04   0.00000000e+00   0.00000000e+00\n",
        "    1.33296249e-04   0.00000000e+00   0.00000000e+00   0.00000000e+00]\n",
        " [  9.32830254e-05   0.00000000e+00   5.75859035e-05   0.00000000e+00\n",
        "    0.00000000e+00   0.00000000e+00   2.57095179e-06   3.38175477e-05]\n",
        " [  0.00000000e+00   0.00000000e+00   0.00000000e+00   0.00000000e+00\n",
        "    0.00000000e+00   0.00000000e+00   0.00000000e+00   0.00000000e+00]\n",
        " [  6.43185211e-04   1.39002878e-04   7.16057867e-06   0.00000000e+00\n",
        "    5.36679060e-05   1.18636321e-06   0.00000000e+00   0.00000000e+00]\n",
        " [  6.71020818e-06   4.64228508e-04   0.00000000e+00   1.89033369e-05\n",
        "    1.67280149e-05   0.00000000e+00   1.00773423e-04   1.91823544e-04]]\n",
        "0.00236003092707\n"
       ]
      }
     ],
     "prompt_number": 142
    },
    {
     "cell_type": "code",
     "collapsed": false,
     "input": [
      "print toyL\n",
      "print np.round(np.dot(U,Z),1)\n",
      "print ((np.dot(U,Z)-toyL)**2).sum()"
     ],
     "language": "python",
     "metadata": {},
     "outputs": [
      {
       "output_type": "stream",
       "stream": "stdout",
       "text": [
        "[[ 0.   0.   0.   0.   0.   0. ]\n",
        " [ 0.   0.   0.   1.   0.   0.8]\n",
        " [ 0.8  0.   0.   0.   0.   0. ]\n",
        " [ 0.8  1.   0.   0.   0.6  0. ]\n",
        " [ 0.   0.   0.4  0.   0.   0.8]\n",
        " [ 0.   0.   0.   0.   0.   0. ]]\n",
        "[[ 0.   0.   0.  -0.   0.   0. ]\n",
        " [ 0.   0.   0.   1.   0.   0.8]\n",
        " [ 0.8  0.   0.  -0.  -0.   0. ]\n",
        " [ 0.2  0.   0.1  0.3  0.   0.4]\n",
        " [ 0.  -0.   0.4  0.  -0.   0.8]\n",
        " [ 0.  -0.  -0.   0.  -0.   0. ]]\n",
        "2.0192371133\n"
       ]
      }
     ],
     "prompt_number": 141
    },
    {
     "cell_type": "code",
     "collapsed": false,
     "input": [],
     "language": "python",
     "metadata": {},
     "outputs": [],
     "prompt_number": 141
    },
    {
     "cell_type": "code",
     "collapsed": false,
     "input": [],
     "language": "python",
     "metadata": {},
     "outputs": []
    }
   ],
   "metadata": {}
  }
 ]
}