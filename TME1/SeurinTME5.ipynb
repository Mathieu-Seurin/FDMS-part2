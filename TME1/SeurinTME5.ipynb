{
 "metadata": {
  "name": "",
  "signature": "sha256:f5c4a05a6ce8e79054cae2167cb23232852f9f91dd7aa0be0f69097074d23698"
 },
 "nbformat": 3,
 "nbformat_minor": 0,
 "worksheets": [
  {
   "cells": [
    {
     "cell_type": "code",
     "collapsed": false,
     "input": [
      "#coding: utf-8                                                                                           \n",
      "                                                                                                         \n",
      "import numpy as np                                                                                       \n",
      "\n",
      "def loadMovieLens(path='movielens'):                                                                     \n",
      "                                                                                                         \n",
      "    # Get movie titles                                                                                   \n",
      "    movies={}                                                                                            \n",
      "    for line in open(path+'/u.item'):                                                                    \n",
      "        (id,title)=line.split('|')[0:2]                                                                  \n",
      "        movies[id]=title                                                                                 \n",
      "\n",
      "    # Load data                                                                                          \n",
      "    M = -1*np.ones( (943,len(movies.keys()))  )                                                          \n",
      "    prefs={}                                                                                             \n",
      "    for line in open(path+'/u.data'):                                                                    \n",
      "        (user,movieid,rating,ts)=line.split('\\t')                                                        \n",
      "        prefs.setdefault(user,{})                                                                        \n",
      "        prefs[user][movies[movieid]]=float(rating)                                                       \n",
      "                                                                                                         \n",
      "        M[int(user)-1,int(movieid)-1]=float(rating)                                                      \n",
      "                                                                                                         \n",
      "    print(\"Done\")                                                                                        \n",
      "    return M"
     ],
     "language": "python",
     "metadata": {},
     "outputs": [],
     "prompt_number": 1
    },
    {
     "cell_type": "code",
     "collapsed": false,
     "input": [
      "def factorizeMatrixReg(M,K,cardIte=200,learningRate=1e-3,regularization=1e-2):                              \n",
      "    cardUsers = np.size(M,0)                                                                             \n",
      "    cardMovies = np.size(M,1)                                                                            \n",
      "                                                                                                         \n",
      "    print(\"cardUsers\",cardUsers)                                                                         \n",
      "    print(\"cardMovies\",cardMovies)                                                                       \n",
      "                                                                                                         \n",
      "    P = np.random.rand(cardUsers,K)                                                                      \n",
      "    Q = np.random.rand(K,cardMovies)                                                                     \n",
      "                                                                                                         \n",
      "                                                                                                         \n",
      "    for ite in range(cardIte):                                                                           \n",
      "        for numUsers in range(cardUsers):                                                                       \n",
      "            for numMovies in range(cardMovies):\n",
      "                #SGD\n",
      "                i = np.random.randint(0,cardUsers)\n",
      "                j = np.random.randint(0,cardMovies)\n",
      "                if M[i,j]>0:                                                                            \n",
      "                    derivaTemp = M[i,j] - np.inner(P[i,:],Q[:,j])                                        \n",
      "                                                                                                         \n",
      "                    for k in range(K):\n",
      "                        #Precalc\n",
      "                        Ptemp = learningRate*(2*derivaTemp*Q[k,j] - regularization*P[i,k]) \n",
      "                        Qtemp = learningRate*(2*derivaTemp*P[i,k] - regularization*Q[k,j])\n",
      "                        #Update\n",
      "                        P[i,k] += Ptemp             \n",
      "                        Q[k,j] += Qtemp             \n",
      "                                                                                                         \n",
      "                                                                                                         \n",
      "        err = costFunction(M,P,Q,K,regularization)\n",
      "        \n",
      "        if ite%1000==1:\n",
      "            print(\"cost after {}/{} optimization : {}\".format(ite, cardIte, err))\n",
      "                                                                                 \n",
      "    print(\"cost after {}/{} optimization : {}\".format(cardIte, cardIte, err))\n",
      "    return P,Q"
     ],
     "language": "python",
     "metadata": {},
     "outputs": [],
     "prompt_number": 2
    },
    {
     "cell_type": "code",
     "collapsed": false,
     "input": [
      "def factorizeMatrixRegVectorized(M,K,cardIte=200,learningRate=1e-3,regularization=1e-2):\n",
      "    \n",
      "    raise NotImplementedError(\"Too hard for now\")\n",
      "    # I can't find a way to vectorize and accelerate the programm\n",
      "    # Take too much time in loop\n",
      "    \n",
      "    cardUsers = np.size(M,0)\n",
      "    cardMovies = np.size(M,1)\n",
      "\n",
      "    zeroFeat = np.where(M<=0)\n",
      "                                                                                                         \n",
      "    print(\"cardUsers\",cardUsers)\n",
      "    print(\"cardMovies\",cardMovies)\n",
      "\n",
      "    P = np.random.rand(cardUsers,K)\n",
      "    Q = np.random.rand(K,cardMovies)\n",
      "\n",
      "    derivaTemp = M - np.dot(P,Q)\n",
      "    derivaTemp[zeroFeat] = 0\n",
      "    \n",
      "    for k in range(K):\n",
      "        \n",
      "        P[:,k] += learningRate*(np.sum(2*np.dot(Q,derivaTemp),0))\n",
      "        P[:,k] -= learningRate*regularization*P[:,k]\n",
      "        \n",
      "        Q[k,:] += learningRate*np.sum(2*np.dot(P,derivaTemp),0)\n",
      "        Q[k,:] -= -earningRate*regularization*Q[k,:]\n",
      "\n",
      "\n",
      "    err = costFunction2(M,P,Q,K,regularization)\n",
      "\n",
      "    if ite%1000==1:\n",
      "        print(\"cost after {}/{} optimization : {}\".format(ite, cardIte, err))   \n",
      "\n",
      "    print(\"cost after {}/{} optimization : {}\".format(cardIte, cardIte, err))\n",
      "    return P,Q"
     ],
     "language": "python",
     "metadata": {},
     "outputs": [],
     "prompt_number": 3
    },
    {
     "cell_type": "code",
     "collapsed": false,
     "input": [
      "def costFunction(M,P,Q,K,regularization): \n",
      "    \n",
      "    errMat = (M - np.dot(P,Q))**2\n",
      "    \n",
      "    #Adding regularization at the end\n",
      "    regMat = regularization * ( np.dot(P,np.ones(Q.shape))**2\n",
      "                                    + np.dot(np.ones(P.shape),Q)**2)\n",
      "    \n",
      "    errMat += regMat\n",
      "    \n",
      "    errMat[np.where(M<=0)] = 0\n",
      "    return errMat.sum()"
     ],
     "language": "python",
     "metadata": {},
     "outputs": [],
     "prompt_number": 4
    },
    {
     "cell_type": "markdown",
     "metadata": {},
     "source": [
      "#R\u00e9gularisation L2"
     ]
    },
    {
     "cell_type": "markdown",
     "metadata": {},
     "source": [
      "##Base Jouet (Calcul plus court)"
     ]
    },
    {
     "cell_type": "code",
     "collapsed": false,
     "input": [
      "szMat = 5\n",
      "k = np.round(szMat*2/3)\n",
      "\n",
      "prefs = np.random.randint(0,szMat,(szMat,szMat))\n",
      "P,Q = factorizeMatrixReg(prefs,k,4000)\n",
      "print(prefs)\n",
      "print(np.dot(P,Q))\n"
     ],
     "language": "python",
     "metadata": {},
     "outputs": [
      {
       "output_type": "stream",
       "stream": "stdout",
       "text": [
        "('cardUsers', 5)\n",
        "('cardMovies', 5)\n",
        "cost after 1/4000 optimization : 90.190124293\n",
        "cost after 1001/4000 optimization : 3.97453981414"
       ]
      },
      {
       "output_type": "stream",
       "stream": "stdout",
       "text": [
        "\n",
        "cost after 2001/4000 optimization : 3.20453825188"
       ]
      },
      {
       "output_type": "stream",
       "stream": "stdout",
       "text": [
        "\n",
        "cost after 3001/4000 optimization : 3.15820284516"
       ]
      },
      {
       "output_type": "stream",
       "stream": "stdout",
       "text": [
        "\n",
        "cost after 4000/4000 optimization : 3.13234059083"
       ]
      },
      {
       "output_type": "stream",
       "stream": "stdout",
       "text": [
        "\n",
        "[[0 4 4 2 0]\n",
        " [1 0 4 4 2]\n",
        " [0 2 0 2 3]\n",
        " [3 2 2 3 3]\n",
        " [2 3 0 3 2]]\n",
        "[[ 2.58689194  3.98298238  3.99273588  2.01038739  2.07784126]\n",
        " [ 1.0548667   3.23834274  3.98728823  4.01138841  1.92798414]\n",
        " [ 3.54151478  2.00375006  1.68675011  2.01493458  2.96420452]\n",
        " [ 3.00072848  1.99496692  2.00714753  2.98734617  2.9870601 ]\n",
        " [ 1.92841666  3.00119761  3.31084183  2.94865375  2.12410093]]\n"
       ]
      }
     ],
     "prompt_number": 5
    },
    {
     "cell_type": "markdown",
     "metadata": {},
     "source": [
      "##Toute la base (Prend enormement de temps)"
     ]
    },
    {
     "cell_type": "code",
     "collapsed": false,
     "input": [
      "prefs = loadMovieLens()\n",
      "P,Q = factorizeMatrixReg(prefs,400,10) #Prend \u00e9norm\u00e9ment de temps \u00e0 calculer\n",
      "#Seulement 10 it\u00e9rations du coup\n",
      "print(prefs)\n",
      "print(np.dot(P,Q))"
     ],
     "language": "python",
     "metadata": {},
     "outputs": [
      {
       "output_type": "stream",
       "stream": "stdout",
       "text": [
        "Done\n",
        "('cardUsers', 943)\n",
        "('cardMovies', 1682)\n",
        "cost after 1/10 optimization : 5012840.89184"
       ]
      },
      {
       "output_type": "stream",
       "stream": "stdout",
       "text": [
        "\n",
        "cost after 10/10 optimization : 3702044.9749"
       ]
      },
      {
       "output_type": "stream",
       "stream": "stdout",
       "text": [
        "\n",
        "[[ 5.  3.  4. ..., -1. -1. -1.]\n",
        " [ 4. -1. -1. ..., -1. -1. -1.]\n",
        " [-1. -1. -1. ..., -1. -1. -1.]\n",
        " ..., \n",
        " [ 5. -1. -1. ..., -1. -1. -1.]\n",
        " [-1. -1. -1. ..., -1. -1. -1.]\n",
        " [-1.  5. -1. ..., -1. -1. -1.]]\n",
        "[[  4.57031871   3.16796613   3.31809978 ...,   5.41262054   7.81205165\n",
        "    5.69262502]\n",
        " [  3.16598346   7.2034757    5.37158613 ...,  20.29234965  20.02277031\n",
        "   20.37037361]\n",
        " [  2.34295369   7.94127826   9.26249266 ...,  23.93567034  25.09021456\n",
        "   23.74363798]\n",
        " ..., \n",
        " [  5.0715382   24.48767085  12.51770323 ...,  66.91542637  75.32195142\n",
        "   73.05348735]\n",
        " [  2.91730754   4.61091492   1.85319182 ...,  15.45196935  18.48721775\n",
        "   16.14266889]\n",
        " [  3.69975366   3.99855754   1.79979878 ...,   8.22982948   6.7049673\n",
        "    5.28820458]]\n"
       ]
      }
     ],
     "prompt_number": 14
    },
    {
     "cell_type": "markdown",
     "metadata": {},
     "source": [
      "#Correction Bias"
     ]
    },
    {
     "cell_type": "code",
     "collapsed": false,
     "input": [
      "def costFunctionBiais(M,P,Q,K,bu,bi,mu,regularization): \n",
      "    \n",
      "    errMat = (M - mu - bu - bi - np.dot(P,Q))**2\n",
      "    \n",
      "    #Adding regularization at the end\n",
      "    regMat = regularization * ( np.dot(P,np.ones(Q.shape))**2\n",
      "                                    + np.dot(np.ones(P.shape),Q)**2)\n",
      "    \n",
      "    errMat += regMat\n",
      "    \n",
      "    errMat[np.where(M<=0)] = 0\n",
      "    errTot = errMat.sum()\n",
      "        \n",
      "    errTot += np.linalg.norm(bu,2) + np.linalg.norm(bi,2)\n",
      "    \n",
      "    return errTot"
     ],
     "language": "python",
     "metadata": {},
     "outputs": [],
     "prompt_number": 18
    },
    {
     "cell_type": "code",
     "collapsed": false,
     "input": [
      "def factorizeMatrixRegWithBiais(M,K,cardIte=200,learningRate=1e-3,regularization=1e-2):                              \n",
      "    cardUsers = np.size(M,0)                                                                             \n",
      "    cardMovies = np.size(M,1)                                                                            \n",
      "                                                                                                         \n",
      "    print(\"cardUsers\",cardUsers)                                                                         \n",
      "    print(\"cardMovies\",cardMovies)                                                                       \n",
      "                                                                                                         \n",
      "    P = np.random.rand(cardUsers,K)                                                                      \n",
      "    Q = np.random.rand(K,cardMovies)\n",
      "    \n",
      "    Mhat = np.dot(P,Q)\n",
      "    print(Mhat)\n",
      "    bi = np.array(Mhat.mean(axis=0))\n",
      "    bu = np.array(Mhat.mean(axis=1))\n",
      "    mu = Mhat.mean()\n",
      "   \n",
      "    \n",
      "    assert len(bi)==cardMovies\n",
      "    assert len(bu)==cardUsers\n",
      "                                                                                                        \n",
      "    Mhat = None                                                                                      \n",
      "    for ite in range(cardIte):                                                                           \n",
      "        for numUsers in range(cardUsers):                                                                       \n",
      "            for numMovies in range(cardMovies):\n",
      "                #SGD\n",
      "                i = np.random.randint(0,cardUsers)\n",
      "                j = np.random.randint(0,cardMovies)\n",
      "                if M[i,j]>0:                                                                            \n",
      "                    derivaTemp = M[i,j] - bu[i] - bi[j] - np.inner(P[i,:],Q[:,j]) \n",
      "                                                                                                         \n",
      "                    for k in range(K):\n",
      "                        #Precalc\n",
      "                        Ptemp = learningRate*(2*derivaTemp*Q[k,j] - regularization*P[i,k])\n",
      "                        Qtemp = learningRate*(2*derivaTemp*P[i,k] - regularization*Q[k,j])\n",
      "                        #Update\n",
      "                        P[i,k] += Ptemp             \n",
      "                        Q[k,j] += Qtemp   \n",
      "                        \n",
      "                    bu += learningRate*(2*derivaTemp) - regularization*bu\n",
      "                    bi += learningRate*(2*derivaTemp) - regularization*bi\n",
      "                    mu += learningRate*(2*derivaTemp) - regularization*mu        \n",
      "                                                                                                         \n",
      "        err = costFunctionBiais(M,P,Q,K,bu,bi,mu,regularization)\n",
      "        \n",
      "        if ite%1000==1:\n",
      "            print(\"cost after {}/{} optimization : {}\".format(ite, cardIte, err))\n",
      "                                                                                 \n",
      "    print(\"cost after {}/{} optimization : {}\".format(cardIte, cardIte, err))\n",
      "    return P,Q"
     ],
     "language": "python",
     "metadata": {},
     "outputs": [],
     "prompt_number": 19
    },
    {
     "cell_type": "code",
     "collapsed": false,
     "input": [
      "szMat = 4\n",
      "k = np.round(szMat*2/3)\n",
      "\n",
      "prefs = np.random.randint(0,szMat,(szMat,szMat))\n",
      "\n",
      "Pn,Qn = factorizeMatrixReg(prefs,k,10000)\n",
      "Pb,Qb = factorizeMatrixRegWithBiais(prefs,k,10000)\n",
      "\n",
      "print 'M :\\n',prefs\n",
      "\n",
      "print 'With user and item bias :\\n',np.dot(Pb,Qb)\n",
      "print 'Without bias :\\n', np.dot(Pn,Qn)\n"
     ],
     "language": "python",
     "metadata": {},
     "outputs": [
      {
       "output_type": "stream",
       "stream": "stdout",
       "text": [
        "('cardUsers', 4)\n",
        "('cardMovies', 4)\n",
        "cost after 1/10000 optimization : 28.092070627\n",
        "cost after 1001/10000 optimization : 0.894848968158"
       ]
      },
      {
       "output_type": "stream",
       "stream": "stdout",
       "text": [
        "\n",
        "cost after 2001/10000 optimization : 0.787865272695"
       ]
      },
      {
       "output_type": "stream",
       "stream": "stdout",
       "text": [
        "\n",
        "cost after 3001/10000 optimization : 0.787716061815"
       ]
      },
      {
       "output_type": "stream",
       "stream": "stdout",
       "text": [
        "\n",
        "cost after 4001/10000 optimization : 0.78759815027"
       ]
      },
      {
       "output_type": "stream",
       "stream": "stdout",
       "text": [
        "\n",
        "cost after 5001/10000 optimization : 0.78752190545"
       ]
      },
      {
       "output_type": "stream",
       "stream": "stdout",
       "text": [
        "\n",
        "cost after 6001/10000 optimization : 0.787452386261"
       ]
      },
      {
       "output_type": "stream",
       "stream": "stdout",
       "text": [
        "\n",
        "cost after 7001/10000 optimization : 0.787375272287"
       ]
      },
      {
       "output_type": "stream",
       "stream": "stdout",
       "text": [
        "\n",
        "cost after 8001/10000 optimization : 0.787274151148"
       ]
      },
      {
       "output_type": "stream",
       "stream": "stdout",
       "text": [
        "\n",
        "cost after 9001/10000 optimization : 0.787183912632"
       ]
      },
      {
       "output_type": "stream",
       "stream": "stdout",
       "text": [
        "\n",
        "cost after 10000/10000 optimization : 0.787180136267"
       ]
      },
      {
       "output_type": "stream",
       "stream": "stdout",
       "text": [
        "\n",
        "('cardUsers', 4)\n",
        "('cardMovies', 4)\n",
        "[[ 1.09972827  0.24564719  1.03057673  1.02638248]\n",
        " [ 0.88469284  0.20762043  0.81740248  0.83104153]\n",
        " [ 0.82696275  0.34322243  0.59025098  0.85660271]\n",
        " [ 0.91846933  0.3706002   0.66791852  0.94571784]]\n",
        "cost after 1/10000 optimization : 15.8252037659\n",
        "cost after 1001/10000 optimization : 0.83473778764"
       ]
      },
      {
       "output_type": "stream",
       "stream": "stdout",
       "text": [
        "\n",
        "cost after 2001/10000 optimization : 0.819639727681"
       ]
      },
      {
       "output_type": "stream",
       "stream": "stdout",
       "text": [
        "\n",
        "cost after 3001/10000 optimization : 0.818645793161"
       ]
      },
      {
       "output_type": "stream",
       "stream": "stdout",
       "text": [
        "\n",
        "cost after 4001/10000 optimization : 0.817871436145"
       ]
      },
      {
       "output_type": "stream",
       "stream": "stdout",
       "text": [
        "\n",
        "cost after 5001/10000 optimization : 0.816805783258"
       ]
      },
      {
       "output_type": "stream",
       "stream": "stdout",
       "text": [
        "\n",
        "cost after 6001/10000 optimization : 0.81584958459"
       ]
      },
      {
       "output_type": "stream",
       "stream": "stdout",
       "text": [
        "\n",
        "cost after 7001/10000 optimization : 0.814964144663"
       ]
      },
      {
       "output_type": "stream",
       "stream": "stdout",
       "text": [
        "\n",
        "cost after 8001/10000 optimization : 0.814619824353"
       ]
      },
      {
       "output_type": "stream",
       "stream": "stdout",
       "text": [
        "\n",
        "cost after 9001/10000 optimization : 0.814565701131"
       ]
      },
      {
       "output_type": "stream",
       "stream": "stdout",
       "text": [
        "\n",
        "cost after 10000/10000 optimization : 0.813723677712"
       ]
      },
      {
       "output_type": "stream",
       "stream": "stdout",
       "text": [
        "\n",
        "M :\n",
        "[[3 0 2 0]\n",
        " [2 3 3 0]\n",
        " [0 2 0 1]\n",
        " [1 0 3 0]]\n",
        "With user and item bias :\n",
        "[[ 2.98584156  2.30099844  1.99711757  1.49913962]\n",
        " [ 1.99475935  2.99096347  2.99247257  1.63558196]\n",
        " [ 0.76243875  1.9930613   2.11320296  0.99581896]\n",
        " [ 1.00159306  2.80517223  2.98930014  1.38971509]]\n",
        "Without bias :\n",
        "[[ 2.98880834  2.48630664  1.99968291  1.20593717]\n",
        " [ 1.99735573  2.9929507   2.99456572  1.49588925]\n",
        " [ 1.36677279  1.99520101  1.98333361  0.99623549]\n",
        " [ 1.00249247  2.6959934   2.98984199  1.36947731]]\n"
       ]
      }
     ],
     "prompt_number": 25
    },
    {
     "cell_type": "markdown",
     "metadata": {},
     "source": [
      "On constate que l'ajustement du biais donne un cout plus \u00e9lev\u00e9 (globalement, on reste malgr\u00e9 tout tr\u00e8s proche des valeurs de ref) mais la version non-biais\u00e9e semble moins sur-estimer des valeurs"
     ]
    }
   ],
   "metadata": {}
  }
 ]
}