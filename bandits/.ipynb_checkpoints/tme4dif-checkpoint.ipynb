{
 "cells": [
  {
   "cell_type": "code",
   "execution_count": 1,
   "metadata": {
    "collapsed": true
   },
   "outputs": [],
   "source": [
    "import numpy as np\n",
    "import pandas as pd\n",
    "import matplotlib.pyplot as plt\n",
    "%matplotlib inline"
   ]
  },
  {
   "cell_type": "code",
   "execution_count": 2,
   "metadata": {
    "collapsed": false
   },
   "outputs": [],
   "source": [
    "dataFile = open('CTR.txt','r')\n",
    "data = np.zeros((5000,16))\n",
    "j=0\n",
    "for l in dataFile.readlines():\n",
    "    data[j][0] = l.split(\":\")[0]\n",
    "    \n",
    "    for i in range(1,6):\n",
    "        data[j][i] = l.split(\":\")[1].split(';')[i-1]\n",
    "    for i in range(6,16):\n",
    "        data[j][i] = l.split(\":\")[2].split(';')[i-6]\n",
    "    j+=1"
   ]
  },
  {
   "cell_type": "code",
   "execution_count": 3,
   "metadata": {
    "collapsed": false
   },
   "outputs": [
    {
     "data": {
      "text/plain": [
       "(5000,)"
      ]
     },
     "execution_count": 3,
     "metadata": {},
     "output_type": "execute_result"
    }
   ],
   "source": [
    "data[:,0].shape"
   ]
  },
  {
   "cell_type": "markdown",
   "metadata": {},
   "source": [
    "# UCB"
   ]
  },
  {
   "cell_type": "code",
   "execution_count": 45,
   "metadata": {
    "collapsed": false
   },
   "outputs": [],
   "source": [
    "class ucb():\n",
    "\n",
    "    def __init__(self,data):\n",
    "        \n",
    "        self.compteur = np.zeros(10)\n",
    "        self.compteurCumule = np.zeros(10)\n",
    "        self.reward = []\n",
    "        self.random= []\n",
    "        self.optimal = []\n",
    "        self.best = []\n",
    "        self.best.append(0)\n",
    "        self.reward.append(0)\n",
    "        self.optimal.append(0)\n",
    "        self.random.append(0)\n",
    "        self.mu = np.zeros(10)\n",
    "        self.ite = 0\n",
    "        for d in data:\n",
    "            self.compteurCumule += d[6:]\n",
    "        self.Bt = np.argmax(self.compteurCumule)\n",
    "        \n",
    "  \n",
    "    def predict(self,line):\n",
    "        Bt = np.zeros(10)\n",
    "        c = 0\n",
    "        if self.ite < 10:\n",
    "            c = self.ite\n",
    "        else:\n",
    "            for b in range(len(Bt)):\n",
    "                Bt[b] = (self.mu[b]/self.compteur[b])+np.sqrt( 2*np.log(self.ite)*1./self.compteur[b])\n",
    "            c = np.argmax(Bt)\n",
    "        \n",
    "        self.mu[c]+=line[6+c]   \n",
    "        \n",
    "        self.reward.append(self.reward[-1]+line[6+c])\n",
    "        self.best.append(self.best[-1]+ line[6+self.Bt])\n",
    "        self.random.append(self.random[-1]+ line[6+np.random.randint(0,10)])\n",
    "        self.optimal.append(self.optimal[-1]+ line[6+np.argmax(line[6:])])\n",
    "        \n",
    "        self.ite += 1\n",
    "        self.compteur[c] += 1\n",
    "        \n",
    "class linUcb():\n",
    "\n",
    "    def __init__(self,dim=10,d_dim = 5,alpha = .1):\n",
    "        self.alpha = alpha\n",
    "        self.d_dim = 5\n",
    "        self.ite = 0\n",
    "        self.dim = 10\n",
    "        self.compteur = np.zeros(self.dim)\n",
    "        self.reward = []\n",
    "        self.reward.append(0)\n",
    "        self.A = []\n",
    "        self.b = []\n",
    "        self.theta = []\n",
    "        self.p = np.zeros(10)\n",
    "        for i in range(10):\n",
    "            self.A.append(np.identity(self.d_dim))\n",
    "            self.b.append(np.zeros(self.d_dim))\n",
    "            self.theta.append(np.zeros((5,5)))\n",
    "            \n",
    "            \n",
    "    def predict(self,line):\n",
    "        c = 0\n",
    "        x = line[1:6]\n",
    "        if self.ite < 10:\n",
    "            c = self.ite\n",
    "            \n",
    "        else :\n",
    "            for i in range(self.dim):\n",
    "                self.theta[i] = np.linalg.inv(self.A[c]).dot(self.b[i])\n",
    "                print self.theta[i].T.dot(x) + self.alpha * np.sqrt(x.T.dot(np.linalg.inv(self.A[i]).dot(x)))\n",
    "            c = np.argmax(self.p)\n",
    "        \n",
    "        \n",
    "        self.A[c]+=x.dot(x.T)\n",
    "        self.b[c]+=line[c+6]*x\n",
    "        \n",
    "        self.reward.append(self.reward[-1]+line[6+c])\n",
    "        self.ite += 1"
   ]
  },
  {
   "cell_type": "code",
   "execution_count": 46,
   "metadata": {
    "collapsed": false
   },
   "outputs": [
    {
     "name": "stdout",
     "output_type": "stream",
     "text": [
      "0.106413352712\n",
      "0.077188846601\n",
      "0.0742379639538\n",
      "0.113727125393\n",
      "0.098979002359\n",
      "0.0743983022941\n",
      "0.0635388798242\n",
      "0.0762838832152\n",
      "0.0736761032804\n",
      "0.13074334507\n"
     ]
    },
    {
     "ename": "ValueError",
     "evalue": "attempt to get argmax of an empty sequence",
     "output_type": "error",
     "traceback": [
      "\u001b[0;31m---------------------------------------------------------------------------\u001b[0m",
      "\u001b[0;31mValueError\u001b[0m                                Traceback (most recent call last)",
      "\u001b[0;32m<ipython-input-46-2debce5cf2fe>\u001b[0m in \u001b[0;36m<module>\u001b[0;34m()\u001b[0m\n\u001b[1;32m      4\u001b[0m \u001b[0ml\u001b[0m \u001b[0;34m=\u001b[0m \u001b[0mlinUcb\u001b[0m\u001b[0;34m(\u001b[0m\u001b[0;34m)\u001b[0m\u001b[0;34m\u001b[0m\u001b[0m\n\u001b[1;32m      5\u001b[0m \u001b[0;32mfor\u001b[0m \u001b[0md\u001b[0m \u001b[0;32min\u001b[0m \u001b[0mdata\u001b[0m\u001b[0;34m:\u001b[0m\u001b[0;34m\u001b[0m\u001b[0m\n\u001b[0;32m----> 6\u001b[0;31m     \u001b[0ml\u001b[0m\u001b[0;34m.\u001b[0m\u001b[0mpredict\u001b[0m\u001b[0;34m(\u001b[0m\u001b[0md\u001b[0m\u001b[0;34m)\u001b[0m\u001b[0;34m\u001b[0m\u001b[0m\n\u001b[0m",
      "\u001b[0;32m<ipython-input-45-cd29bf175411>\u001b[0m in \u001b[0;36mpredict\u001b[0;34m(self, line)\u001b[0m\n\u001b[1;32m     70\u001b[0m                 \u001b[0mself\u001b[0m\u001b[0;34m.\u001b[0m\u001b[0mtheta\u001b[0m\u001b[0;34m[\u001b[0m\u001b[0mi\u001b[0m\u001b[0;34m]\u001b[0m \u001b[0;34m=\u001b[0m \u001b[0mnp\u001b[0m\u001b[0;34m.\u001b[0m\u001b[0mlinalg\u001b[0m\u001b[0;34m.\u001b[0m\u001b[0minv\u001b[0m\u001b[0;34m(\u001b[0m\u001b[0mself\u001b[0m\u001b[0;34m.\u001b[0m\u001b[0mA\u001b[0m\u001b[0;34m[\u001b[0m\u001b[0mc\u001b[0m\u001b[0;34m]\u001b[0m\u001b[0;34m)\u001b[0m\u001b[0;34m.\u001b[0m\u001b[0mdot\u001b[0m\u001b[0;34m(\u001b[0m\u001b[0mself\u001b[0m\u001b[0;34m.\u001b[0m\u001b[0mb\u001b[0m\u001b[0;34m[\u001b[0m\u001b[0mi\u001b[0m\u001b[0;34m]\u001b[0m\u001b[0;34m)\u001b[0m\u001b[0;34m\u001b[0m\u001b[0m\n\u001b[1;32m     71\u001b[0m                 \u001b[0;32mprint\u001b[0m \u001b[0mself\u001b[0m\u001b[0;34m.\u001b[0m\u001b[0mtheta\u001b[0m\u001b[0;34m[\u001b[0m\u001b[0mi\u001b[0m\u001b[0;34m]\u001b[0m\u001b[0;34m.\u001b[0m\u001b[0mT\u001b[0m\u001b[0;34m.\u001b[0m\u001b[0mdot\u001b[0m\u001b[0;34m(\u001b[0m\u001b[0mx\u001b[0m\u001b[0;34m)\u001b[0m \u001b[0;34m+\u001b[0m \u001b[0mself\u001b[0m\u001b[0;34m.\u001b[0m\u001b[0malpha\u001b[0m \u001b[0;34m*\u001b[0m \u001b[0mnp\u001b[0m\u001b[0;34m.\u001b[0m\u001b[0msqrt\u001b[0m\u001b[0;34m(\u001b[0m\u001b[0mx\u001b[0m\u001b[0;34m.\u001b[0m\u001b[0mT\u001b[0m\u001b[0;34m.\u001b[0m\u001b[0mdot\u001b[0m\u001b[0;34m(\u001b[0m\u001b[0mnp\u001b[0m\u001b[0;34m.\u001b[0m\u001b[0mlinalg\u001b[0m\u001b[0;34m.\u001b[0m\u001b[0minv\u001b[0m\u001b[0;34m(\u001b[0m\u001b[0mself\u001b[0m\u001b[0;34m.\u001b[0m\u001b[0mA\u001b[0m\u001b[0;34m[\u001b[0m\u001b[0mi\u001b[0m\u001b[0;34m]\u001b[0m\u001b[0;34m)\u001b[0m\u001b[0;34m.\u001b[0m\u001b[0mdot\u001b[0m\u001b[0;34m(\u001b[0m\u001b[0mx\u001b[0m\u001b[0;34m)\u001b[0m\u001b[0;34m)\u001b[0m\u001b[0;34m)\u001b[0m\u001b[0;34m\u001b[0m\u001b[0m\n\u001b[0;32m---> 72\u001b[0;31m             \u001b[0mc\u001b[0m \u001b[0;34m=\u001b[0m \u001b[0mnp\u001b[0m\u001b[0;34m.\u001b[0m\u001b[0margmax\u001b[0m\u001b[0;34m(\u001b[0m\u001b[0mself\u001b[0m\u001b[0;34m.\u001b[0m\u001b[0mp\u001b[0m\u001b[0;34m)\u001b[0m\u001b[0;34m\u001b[0m\u001b[0m\n\u001b[0m\u001b[1;32m     73\u001b[0m \u001b[0;34m\u001b[0m\u001b[0m\n\u001b[1;32m     74\u001b[0m \u001b[0;34m\u001b[0m\u001b[0m\n",
      "\u001b[0;32m/home/melki/anaconda2/lib/python2.7/site-packages/numpy/core/fromnumeric.pyc\u001b[0m in \u001b[0;36margmax\u001b[0;34m(a, axis, out)\u001b[0m\n\u001b[1;32m    971\u001b[0m         \u001b[0margmax\u001b[0m \u001b[0;34m=\u001b[0m \u001b[0ma\u001b[0m\u001b[0;34m.\u001b[0m\u001b[0margmax\u001b[0m\u001b[0;34m\u001b[0m\u001b[0m\n\u001b[1;32m    972\u001b[0m     \u001b[0;32mexcept\u001b[0m \u001b[0mAttributeError\u001b[0m\u001b[0;34m:\u001b[0m\u001b[0;34m\u001b[0m\u001b[0m\n\u001b[0;32m--> 973\u001b[0;31m         \u001b[0;32mreturn\u001b[0m \u001b[0m_wrapit\u001b[0m\u001b[0;34m(\u001b[0m\u001b[0ma\u001b[0m\u001b[0;34m,\u001b[0m \u001b[0;34m'argmax'\u001b[0m\u001b[0;34m,\u001b[0m \u001b[0maxis\u001b[0m\u001b[0;34m,\u001b[0m \u001b[0mout\u001b[0m\u001b[0;34m)\u001b[0m\u001b[0;34m\u001b[0m\u001b[0m\n\u001b[0m\u001b[1;32m    974\u001b[0m     \u001b[0;32mreturn\u001b[0m \u001b[0margmax\u001b[0m\u001b[0;34m(\u001b[0m\u001b[0maxis\u001b[0m\u001b[0;34m,\u001b[0m \u001b[0mout\u001b[0m\u001b[0;34m)\u001b[0m\u001b[0;34m\u001b[0m\u001b[0m\n\u001b[1;32m    975\u001b[0m \u001b[0;34m\u001b[0m\u001b[0m\n",
      "\u001b[0;32m/home/melki/anaconda2/lib/python2.7/site-packages/numpy/core/fromnumeric.pyc\u001b[0m in \u001b[0;36m_wrapit\u001b[0;34m(obj, method, *args, **kwds)\u001b[0m\n\u001b[1;32m     46\u001b[0m     \u001b[0;32mexcept\u001b[0m \u001b[0mAttributeError\u001b[0m\u001b[0;34m:\u001b[0m\u001b[0;34m\u001b[0m\u001b[0m\n\u001b[1;32m     47\u001b[0m         \u001b[0mwrap\u001b[0m \u001b[0;34m=\u001b[0m \u001b[0mNone\u001b[0m\u001b[0;34m\u001b[0m\u001b[0m\n\u001b[0;32m---> 48\u001b[0;31m     \u001b[0mresult\u001b[0m \u001b[0;34m=\u001b[0m \u001b[0mgetattr\u001b[0m\u001b[0;34m(\u001b[0m\u001b[0masarray\u001b[0m\u001b[0;34m(\u001b[0m\u001b[0mobj\u001b[0m\u001b[0;34m)\u001b[0m\u001b[0;34m,\u001b[0m \u001b[0mmethod\u001b[0m\u001b[0;34m)\u001b[0m\u001b[0;34m(\u001b[0m\u001b[0;34m*\u001b[0m\u001b[0margs\u001b[0m\u001b[0;34m,\u001b[0m \u001b[0;34m**\u001b[0m\u001b[0mkwds\u001b[0m\u001b[0;34m)\u001b[0m\u001b[0;34m\u001b[0m\u001b[0m\n\u001b[0m\u001b[1;32m     49\u001b[0m     \u001b[0;32mif\u001b[0m \u001b[0mwrap\u001b[0m\u001b[0;34m:\u001b[0m\u001b[0;34m\u001b[0m\u001b[0m\n\u001b[1;32m     50\u001b[0m         \u001b[0;32mif\u001b[0m \u001b[0;32mnot\u001b[0m \u001b[0misinstance\u001b[0m\u001b[0;34m(\u001b[0m\u001b[0mresult\u001b[0m\u001b[0;34m,\u001b[0m \u001b[0mmu\u001b[0m\u001b[0;34m.\u001b[0m\u001b[0mndarray\u001b[0m\u001b[0;34m)\u001b[0m\u001b[0;34m:\u001b[0m\u001b[0;34m\u001b[0m\u001b[0m\n",
      "\u001b[0;31mValueError\u001b[0m: attempt to get argmax of an empty sequence"
     ]
    }
   ],
   "source": [
    "t = ucb(data)\n",
    "for d in data:\n",
    "    t.predict(d)\n",
    "l = linUcb()\n",
    "for d in data:\n",
    "    l.predict(d)"
   ]
  },
  {
   "cell_type": "code",
   "execution_count": 38,
   "metadata": {
    "collapsed": false
   },
   "outputs": [
    {
     "data": {
      "image/png": "[encoded data removed]",
      "text/plain": [
       "<matplotlib.figure.Figure at 0x7f17821259d0>"
      ]
     },
     "metadata": {},
     "output_type": "display_data"
    },
    {
     "name": "stdout",
     "output_type": "stream",
     "text": [
      "19.9287995362 % de chance de se faire visiter en moyenne\n"
     ]
    }
   ],
   "source": [
    "plt.plot(t.reward,label = \"ucb\",color=\"b\")\n",
    "\n",
    "plt.plot(t.best, label = \"best\",color=\"r\")\n",
    "plt.plot(l.reward, label = \"LINUCB\",color=\"g\")\n",
    "\n",
    "plt.plot(t.optimal, label = \"optimal\", color=\"y\")\n",
    "plt.legend(loc=2)\n",
    "plt.show()\n",
    "\n",
    "print t.reward[-1]/50,'% de chance de se faire visiter en moyenne'"
   ]
  },
  {
   "cell_type": "code",
   "execution_count": 10,
   "metadata": {
    "collapsed": false
   },
   "outputs": [
    {
     "name": "stdout",
     "output_type": "stream",
     "text": [
      "reward cumulé UCB :  996.439976812\n",
      "reward cumulé linUCB :  385.808060354\n",
      "reward cumulé optimal :  1532.00323574\n",
      "reward cumulé best :  1339.63503105\n",
      "reward cumulé random :  406.114331721\n"
     ]
    }
   ],
   "source": [
    "print 'reward cumulé UCB : ', t.reward[-1]\n",
    "print 'reward cumulé linUCB : ', l.reward[-1]\n",
    "print 'reward cumulé optimal : ', t.optimal[-1]\n",
    "print 'reward cumulé best : ', t.best[-1]\n",
    "print 'reward cumulé random : ', t.random[-1]"
   ]
  },
  {
   "cell_type": "code",
   "execution_count": 25,
   "metadata": {
    "collapsed": false
   },
   "outputs": [],
   "source": [
    "b = np.linalg.inv(l.A[1])"
   ]
  },
  {
   "cell_type": "code",
   "execution_count": 29,
   "metadata": {
    "collapsed": false
   },
   "outputs": [
    {
     "data": {
      "text/plain": [
       "array([ 0.16841852,  0.13375446,  0.43486407,  0.99567796,  0.04879988])"
      ]
     },
     "execution_count": 29,
     "metadata": {},
     "output_type": "execute_result"
    }
   ],
   "source": [
    "data[1][1:6]"
   ]
  },
  {
   "cell_type": "code",
   "execution_count": 31,
   "metadata": {
    "collapsed": false
   },
   "outputs": [
    {
     "data": {
      "text/plain": [
       "array([[ 153.19849542,  -38.99142012,  -23.87444127,  -31.69585466,\n",
       "         -37.12081931],\n",
       "       [ -32.17687892,  185.6434526 ,  -23.87444127,  -31.69585466,\n",
       "         -37.12081931],\n",
       "       [ -32.17687892,  -38.99142012,  113.66946095,  -31.69585466,\n",
       "         -37.12081931],\n",
       "       [ -32.17687892,  -38.99142012,  -23.87444127,  150.90827352,\n",
       "         -37.12081931],\n",
       "       [ -32.17687892,  -38.99142012,  -23.87444127,  -31.69585466,\n",
       "         176.7372678 ]])"
      ]
     },
     "execution_count": 31,
     "metadata": {},
     "output_type": "execute_result"
    }
   ],
   "source": [
    "l.theta[1]"
   ]
  },
  {
   "cell_type": "code",
   "execution_count": 32,
   "metadata": {
    "collapsed": false
   },
   "outputs": [
    {
     "data": {
      "text/plain": [
       "array([[ True,  True,  True,  True,  True],\n",
       "       [ True,  True,  True,  True,  True],\n",
       "       [ True,  True,  True,  True,  True],\n",
       "       [ True,  True,  True,  True,  True],\n",
       "       [ True,  True,  True,  True,  True]], dtype=bool)"
      ]
     },
     "execution_count": 32,
     "metadata": {},
     "output_type": "execute_result"
    }
   ],
   "source": []
  },
  {
   "cell_type": "code",
   "execution_count": null,
   "metadata": {
    "collapsed": true
   },
   "outputs": [],
   "source": []
  }
 ],
 "metadata": {
  "anaconda-cloud": {},
  "kernelspec": {
   "display_name": "Python [conda root]",
   "language": "python",
   "name": "conda-root-py"
  },
  "language_info": {
   "codemirror_mode": {
    "name": "ipython",
    "version": 2
   },
   "file_extension": ".py",
   "mimetype": "text/x-python",
   "name": "python",
   "nbconvert_exporter": "python",
   "pygments_lexer": "ipython2",
   "version": "2.7.12"
  }
 },
 "nbformat": 4,
 "nbformat_minor": 1
}
