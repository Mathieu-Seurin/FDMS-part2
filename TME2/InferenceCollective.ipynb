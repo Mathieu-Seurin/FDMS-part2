{
 "metadata": {
  "name": "",
  "signature": "sha256:1869335961737e417e7c5631ba3ebe7302a1506f44494c974f14fa87b1cc1f56"
 },
 "nbformat": 3,
 "nbformat_minor": 0,
 "worksheets": [
  {
   "cells": [
    {
     "cell_type": "code",
     "collapsed": false,
     "input": [
      "from __future__ import division\n",
      "\n",
      "from copy import deepcopy\n",
      "import numpy as np\n",
      "from sklearn.svm import LinearSVC\n",
      "from sklearn.preprocessing import StandardScaler\n",
      "\n",
      "from sklearn.metrics import confusion_matrix\n",
      "\n",
      "import matplotlib.pyplot as plt\n",
      "\n",
      "%matplotlib inline"
     ],
     "language": "python",
     "metadata": {},
     "outputs": [],
     "prompt_number": 83
    },
    {
     "cell_type": "code",
     "collapsed": false,
     "input": [
      "def loadData(dir=\"./WebKB/\", university=\"cornell\"):\n",
      "    fcontent = open(dir+\"content/\"+university+\".content\", \"r\")\n",
      "    content = list()\n",
      "    labelToId = dict()\n",
      "    labels = list()\n",
      "    nameToId = dict()\n",
      "    name = list()\n",
      "    for i,l in enumerate(fcontent.readlines()):\n",
      "        line = l.split('\\t')\n",
      "        nameToId[line[0]] = i\n",
      "        name.append(line[0])\n",
      "        \n",
      "    fcontent.seek(0)\n",
      "    for i,l in enumerate(fcontent.readlines()):\n",
      "        line = l.split('\\t')\n",
      "        label = line[-1][:-1]\n",
      "            \n",
      "        if label not in labelToId:\n",
      "            labels.append(len(labels))\n",
      "            labelToId[label] = len(labels)-1\n",
      "        \n",
      "        label = labelToId[label]\n",
      "        idLink = line[0]\n",
      "        content.append(dict())\n",
      "        content[i]['att'] = line[1:-1]\n",
      "        content[i]['label'] = label\n",
      "        content[i]['successors'] = set()\n",
      "        content[i]['predecessors'] = set()\n",
      "        content[i]['neighbours'] = set()\n",
      "    fcontent.close()\n",
      "    \n",
      "    fcites = open(dir+\"cites/\"+university+\".cites\", \"r\")\n",
      "    \n",
      "    for l in fcites.readlines():\n",
      "        sites = l[:-1].split(' ')\n",
      "        site1 = nameToId[sites[1]]\n",
      "        site0 = nameToId[sites[0]]\n",
      "        \n",
      "        content[site0]['successors'].add(site1)\n",
      "        content[site1]['predecessors'].add(site0)\n",
      "        content[site0]['neighbours'].add(site1)\n",
      "        content[site1]['neighbours'].add(site0)\n",
      "    return content, labels, labelToId, nameToId,name"
     ],
     "language": "python",
     "metadata": {},
     "outputs": [],
     "prompt_number": 84
    },
    {
     "cell_type": "code",
     "collapsed": false,
     "input": [
      "content, labels, labelToId,nameToId,name = loadData()\n",
      "print labelToId\n",
      "print labels"
     ],
     "language": "python",
     "metadata": {},
     "outputs": [
      {
       "output_type": "stream",
       "stream": "stdout",
       "text": [
        "{'project': 1, 'course': 2, 'faculty': 4, 'student': 0, 'staff': 3}\n",
        "[0, 1, 2, 3, 4]\n"
       ]
      }
     ],
     "prompt_number": 85
    },
    {
     "cell_type": "code",
     "collapsed": true,
     "input": [
      "content[6]['label']"
     ],
     "language": "python",
     "metadata": {},
     "outputs": [
      {
       "metadata": {},
       "output_type": "pyout",
       "prompt_number": 86,
       "text": [
        "1"
       ]
      }
     ],
     "prompt_number": 86
    },
    {
     "cell_type": "code",
     "collapsed": false,
     "input": [
      "class GraphVectorize(object):\n",
      "    \n",
      "    def __init__(self, graph, numLabel, unknown=[], unknownRatio=0.60,way='successors'):\n",
      "        \n",
      "        self.graph = graph\n",
      "        self.numLabel = numLabel\n",
      "        self.way = way\n",
      "        \n",
      "        if unknown ==[]:\n",
      "            self.unknown = []\n",
      "        else:\n",
      "            self.unknown = unknown\n",
      "            \n",
      "        self.numFeatures = 0\n",
      "        \n",
      "        self.numLink = len(graph)\n",
      "        self.numUnknown = int(self.numLink*unknownRatio)\n",
      "        \n",
      "        unknown = np.arange(self.numLink)\n",
      "        np.random.shuffle(unknown)\n",
      "        self.unknown = unknown[:self.numUnknown]\n",
      "        \n",
      "        self.numAtt = len(graph[0]['att'])\n",
      "        self.numFeatures = self.numAtt+self.numLabel\n",
      "    \n",
      "    def getFeatGraph(self):\n",
      "            \n",
      "        unknownSet = set(self.unknown)\n",
      "        \n",
      "        X = np.empty((self.numLink-self.numUnknown, self.numFeatures))\n",
      "                \n",
      "        xTest = np.empty((self.numUnknown, self.numFeatures))\n",
      "        y = np.empty(self.numLink-self.numUnknown)\n",
      "        yTest = np.empty(self.numUnknown)\n",
      "        \n",
      "        for countUn,node in enumerate(self.unknown):   \n",
      "            currentVec = self.getFeatNode(node,unknownSet)\n",
      "            xTest[countUn] = currentVec\n",
      "            yTest[countUn] = self.graph[node]['label']\n",
      "            \n",
      "        countKnown = 0\n",
      "        for node in range(self.numLink):\n",
      "            if not node in unknownSet:\n",
      "                currentVec = self.getFeatNode(node, unknownSet)\n",
      "                X[countKnown] = currentVec\n",
      "                y[countKnown] = self.graph[node]['label']\n",
      "                countKnown += 1\n",
      "\n",
      "        return X,y,xTest,yTest\n",
      "    \n",
      "    def getFeatNode(self, node, unknownSet=set()):\n",
      "        \n",
      "        vecCurrent = np.empty(self.numFeatures)\n",
      "        vecCurrent[:self.numAtt] = self.graph[node]['att']\n",
      "        currentClasses = np.zeros(self.numLabel)\n",
      "        for otherNode in self.graph[node][self.way]:\n",
      "            if not otherNode in unknownSet:\n",
      "                currentClasses[self.graph[otherNode]['label']] += 1\n",
      "        #norm = currentClasses.sum()  \n",
      "        #if norm>0:\n",
      "        #    currentClasses /= norm\n",
      "        #vecCurrent[self.numAtt:] = currentClasses\n",
      "        \n",
      "        return vecCurrent.reshape(1, -1)"
     ],
     "language": "python",
     "metadata": {},
     "outputs": [],
     "prompt_number": 87
    },
    {
     "cell_type": "code",
     "collapsed": false,
     "input": [
      "graphVec = GraphVectorize(content,len(labels),way='successors')\n",
      "X,y,xTest,yTest = graphVec.getFeatGraph()"
     ],
     "language": "python",
     "metadata": {},
     "outputs": [],
     "prompt_number": 88
    },
    {
     "cell_type": "code",
     "collapsed": false,
     "input": [
      "clf = LinearSVC(C=1e-2)\n",
      "clf.fit(X,y)\n",
      "yhat = clf.predict(xTest)\n",
      "\n",
      "print (yhat == yTest).sum()/len(yhat)\n",
      "\n",
      "confusion_matrix(yhat,yTest)"
     ],
     "language": "python",
     "metadata": {},
     "outputs": [
      {
       "output_type": "stream",
       "stream": "stdout",
       "text": [
        "0.65811965812\n"
       ]
      },
      {
       "metadata": {},
       "output_type": "pyout",
       "prompt_number": 89,
       "text": [
        "array([[45,  6, 11,  9,  4],\n",
        "       [ 0,  1,  1,  1,  2],\n",
        "       [ 0,  0, 20,  0,  0],\n",
        "       [ 0,  0,  0,  0,  0],\n",
        "       [ 1,  2,  0,  3, 11]])"
       ]
      }
     ],
     "prompt_number": 89
    },
    {
     "cell_type": "code",
     "collapsed": false,
     "input": [
      "class ICA(object):\n",
      "    def __init__(self, graphVect,localClf,maxIter=50):\n",
      "        self.localClf = localClf\n",
      "        self.maxIter = maxIter\n",
      "        self.g = graphVect\n",
      "        \n",
      "        self.X,self.y, self.xTest, self.yTest = self.g.getFeatGraph()\n",
      "    def predict(self):\n",
      "        \n",
      "        self.localClf.fit(self.X,self.y)\n",
      "        currentPred = self.localClf.predict(self.xTest)\n",
      "        \n",
      "        for i,node in enumerate(self.g.unknown):\n",
      "            self.g.graph[node]['label'] = currentPred[i]\n",
      "            \n",
      "        print (currentPred==self.yTest).mean()\n",
      "            \n",
      "        newPred = np.zeros(currentPred.shape)\n",
      "        \n",
      "        for k in range(self.maxIter):\n",
      "            for step in range(self.g.numUnknown):\n",
      "                idUn = np.random.randint(0,self.g.numUnknown)\n",
      "                node = self.g.unknown[idUn]\n",
      "                \n",
      "                newPred[idUn] = self.localClf.predict(self.g.getFeatNode(node))\n",
      "                self.g.graph[node]['label'] = newPred[idUn]\n",
      "            currentPred = newPred\n",
      "        return currentPred"
     ],
     "language": "python",
     "metadata": {},
     "outputs": [],
     "prompt_number": 90
    },
    {
     "cell_type": "code",
     "collapsed": false,
     "input": [
      "keepUnknown = graphVec.unknown\n",
      "\n",
      "betterClf = ICA(graphVec,LinearSVC(C=1e-2))\n",
      "\n",
      "yhat = betterClf.predict()\n",
      "\n",
      "score = (yhat == yTest).sum()/len(yhat)\n",
      "print score\n",
      "confusion_matrix(yhat,yTest)"
     ],
     "language": "python",
     "metadata": {},
     "outputs": [
      {
       "output_type": "stream",
       "stream": "stdout",
       "text": [
        "0.649572649573\n",
        "0.675213675214"
       ]
      },
      {
       "output_type": "stream",
       "stream": "stdout",
       "text": [
        "\n"
       ]
      },
      {
       "metadata": {},
       "output_type": "pyout",
       "prompt_number": 91,
       "text": [
        "array([[45,  6, 10,  9,  4],\n",
        "       [ 0,  1,  1,  1,  1],\n",
        "       [ 0,  0, 21,  0,  0],\n",
        "       [ 0,  0,  0,  0,  0],\n",
        "       [ 1,  2,  0,  3, 12]])"
       ]
      }
     ],
     "prompt_number": 91
    },
    {
     "cell_type": "code",
     "collapsed": false,
     "input": [
      "class LabelPropagation():\n",
      "    def __init__(self,g,beta=1e-2, lambd=1e-2, eps=1e-3, maxIter=100):\n",
      "        \n",
      "        self.g = g\n",
      "        self.beta  = beta\n",
      "        self.lambd = lambd\n",
      "        self.eps = eps\n",
      "        self.maxIter = maxIter\n",
      "        self.loss = []\n",
      "        self.theta = np.random.random((self.g.numLabel, self.g.numAtt))\n",
      "        self.b = np.random.random(self.g.numLabel)\n",
      "        \n",
      "    def predict(self):\n",
      "        \n",
      "        known = list(set(range(self.g.numLink)).difference(set(self.g.unknown)))\n",
      "        self.loss = []\n",
      "      \n",
      "        \n",
      "        for i in xrange(self.maxIter):\n",
      "            lossClf = np.zeros(self.g.numLabel)\n",
      "            lossCor = np.zeros(self.g.numLabel)\n",
      "            lossReg = np.zeros(self.g.numLabel)\n",
      "            \n",
      "            for ite in known:\n",
      "                \n",
      "                node = np.random.randint(0,len(known))\n",
      "                node = ite\n",
      "                \n",
      "                yneg = np.ones(self.g.numLabel)\n",
      "                yneg[self.g.graph[node]['label']] = -1\n",
      "                xi = np.array(self.g.graph[node]['att'], float)\n",
      "                gradClf = yneg.reshape(5,1) * xi.reshape((1,len(xi))).repeat(5, axis=0)\n",
      "                prodClf = yneg * (self.theta.dot(xi) + self.b)\n",
      "                gradClf[prodClf <= 1] = 0\n",
      "                prodClf = 1 + prodClf\n",
      "                prodClf[prodClf < 0] = 0\n",
      "                lossClf = lossClf + prodClf        \n",
      "                \n",
      "                gradCor = np.zeros(self.theta.shape)\n",
      "                nSucc = len(self.g.graph[node]['successors'])\n",
      "                for v in (self.g.graph[node]['successors']):\n",
      "                    xv = np.array(self.g.graph[v]['att'], float)\n",
      "                    diff = xi - xv\n",
      "                    prodCor = self.theta.dot(diff)\n",
      "                    prodTemp = 2 * self.beta *prodCor.reshape((self.g.numLabel,1))\n",
      "                    gradCor += prodTemp * diff.reshape((1,len(diff))).repeat(self.g.numLabel, axis=0)\n",
      "            \n",
      "                    lossCor += self.beta * (prodCor**2)\n",
      "                    \n",
      "                gradReg = 2 * self.lambd / len(known) * self.theta\n",
      "                lossReg += self.lambd / len(known) * (self.theta**2).sum(1)\n",
      "                \n",
      "                self.theta += - self.eps * (gradClf + gradCor + gradReg)\n",
      "            \n",
      "            self.loss.append( np.mean([lossClf, lossCor, lossReg]))\n",
      "            if (i % 50 == 0):\n",
      "                print i, (lossClf + lossCor + lossReg).mean()\n",
      "        \n",
      "        pred = np.zeros(self.g.numUnknown)\n",
      "        \n",
      "        for i,node in enumerate(self.g.unknown):\n",
      "            pred[i] = self.theta.dot(np.array(self.g.graph[node]['att'], float)).argmax()\n",
      "        return pred,self.loss"
     ],
     "language": "python",
     "metadata": {},
     "outputs": [],
     "prompt_number": 75
    },
    {
     "cell_type": "code",
     "collapsed": false,
     "input": [
      "graphVec = GraphVectorize(content,len(labels),keepUnknown,way='successors')\n",
      "\n",
      "beta= 0.001\n",
      "lambd= 1e-4\n",
      "eps= 0.003\n",
      "\n",
      "lbProp = LabelPropagation(graphVec, beta=beta, lambd=lambd, eps=eps, maxIter=400)\n",
      "predProp,lossList = lbProp.predict()\n",
      "\n",
      "score_= (predProp == yTest).mean()\n",
      "\n",
      "print(score_)\n",
      "\n",
      "plt.plot(lossList)"
     ],
     "language": "python",
     "metadata": {},
     "outputs": [
      {
       "output_type": "stream",
       "stream": "stdout",
       "text": [
        "0 2952.61325237\n",
        "50"
       ]
      },
      {
       "output_type": "stream",
       "stream": "stdout",
       "text": [
        " 46.9961239047\n",
        "100"
       ]
      },
      {
       "output_type": "stream",
       "stream": "stdout",
       "text": [
        " 25.6271225197\n",
        "150"
       ]
      },
      {
       "output_type": "stream",
       "stream": "stdout",
       "text": [
        " 20.4356505538\n",
        "200"
       ]
      },
      {
       "output_type": "stream",
       "stream": "stdout",
       "text": [
        " 19.0470068185\n",
        "250"
       ]
      },
      {
       "output_type": "stream",
       "stream": "stdout",
       "text": [
        " 18.1873259069\n",
        "300"
       ]
      },
      {
       "output_type": "stream",
       "stream": "stdout",
       "text": [
        " 18.1334951767\n",
        "350"
       ]
      },
      {
       "output_type": "stream",
       "stream": "stdout",
       "text": [
        " 18.1256638947\n",
        "0.333333333333"
       ]
      },
      {
       "output_type": "stream",
       "stream": "stdout",
       "text": [
        "\n"
       ]
      },
      {
       "metadata": {},
       "output_type": "pyout",
       "prompt_number": 98,
       "text": [
        "[<matplotlib.lines.Line2D at 0x7f53f3ad0d90>]"
       ]
      },
      {
       "metadata": {},
       "output_type": "display_data",
       "png": "[encoded data removed]",
       "text": [
        "<matplotlib.figure.Figure at 0x7f53f3c23e50>"
       ]
      }
     ],
     "prompt_number": 98
    },
    {
     "cell_type": "code",
     "collapsed": false,
     "input": [
      "confusion_matrix(predProp,yTest)"
     ],
     "language": "python",
     "metadata": {},
     "outputs": [
      {
       "metadata": {},
       "output_type": "pyout",
       "prompt_number": 99,
       "text": [
        "array([[36,  9, 27, 11, 16],\n",
        "       [ 2,  0,  0,  0,  0],\n",
        "       [ 2,  0,  2,  0,  0],\n",
        "       [ 0,  0,  0,  0,  0],\n",
        "       [ 6,  0,  3,  2,  1]])"
       ]
      }
     ],
     "prompt_number": 99
    },
    {
     "cell_type": "code",
     "collapsed": false,
     "input": [],
     "language": "python",
     "metadata": {},
     "outputs": []
    }
   ],
   "metadata": {}
  }
 ]
}