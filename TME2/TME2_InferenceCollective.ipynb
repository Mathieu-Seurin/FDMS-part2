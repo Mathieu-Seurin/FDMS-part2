{
 "metadata": {
  "kernelspec": {
   "display_name": "Python 2",
   "language": "python",
   "name": "python2"
  },
  "language_info": {
   "codemirror_mode": {
    "name": "ipython",
    "version": 2
   },
   "file_extension": ".py",
   "mimetype": "text/x-python",
   "name": "python",
   "nbconvert_exporter": "python",
   "pygments_lexer": "ipython2",
   "version": "2.7.9"
  },
  "name": "",
  "signature": "sha256:52a105d724b45a3ffd181536b5ffa297fb6010f86425b6621ac64a045440d211"
 },
 "nbformat": 3,
 "nbformat_minor": 0,
 "worksheets": [
  {
   "cells": [
    {
     "cell_type": "code",
     "collapsed": false,
     "input": [
      "from copy import deepcopy\n",
      "import numpy as np\n",
      "from sklearn.svm import LinearSVC\n",
      "import matplotlib.pyplot as plt\n",
      "from collections import OrderedDict\n",
      "\n",
      "%matplotlib inline"
     ],
     "language": "python",
     "metadata": {},
     "outputs": [],
     "prompt_number": 1
    },
    {
     "cell_type": "heading",
     "level": 1,
     "metadata": {},
     "source": [
      "\u00a0Chargement des donn\u00e9es"
     ]
    },
    {
     "cell_type": "code",
     "collapsed": true,
     "input": [
      "def loadData(dir=\"./WebKB/\", university=\"cornell\"):\n",
      "    fcontent = open(dir+\"content/\"+university+\".content\", \"r\")\n",
      "    content = OrderedDict()\n",
      "    labels = set()\n",
      "    for l in fcontent.readlines():\n",
      "        attributes = l.split('\\t')\n",
      "        label = attributes[-1][:-1]\n",
      "        labels.add(label)\n",
      "        content[attributes[0]] = {}\n",
      "        content[attributes[0]]['attributes'] = attributes[1:-1]\n",
      "        content[attributes[0]]['label'] = label\n",
      "        content[attributes[0]]['successors'] = set()\n",
      "        content[attributes[0]]['predecessors'] = set()\n",
      "        content[attributes[0]]['neighbours'] = set()\n",
      "        content[attributes[0]]['unknown'] = False\n",
      "    fcontent.close()\n",
      "    fcites = open(dir+\"cites/\"+university+\".cites\", \"r\")\n",
      "    for l in fcites.readlines():\n",
      "        sites = l[:-1].split(' ')\n",
      "        content[sites[0]]['successors'].add(sites[1])\n",
      "        content[sites[1]]['predecessors'].add(sites[0])\n",
      "        content[sites[0]]['neighbours'].add(sites[1])\n",
      "        content[sites[1]]['neighbours'].add(sites[0])\n",
      "    return content, list(labels)"
     ],
     "language": "python",
     "metadata": {},
     "outputs": [],
     "prompt_number": 2
    },
    {
     "cell_type": "code",
     "collapsed": false,
     "input": [
      "content, lab = loadData()\n",
      "lab"
     ],
     "language": "python",
     "metadata": {},
     "outputs": [
      {
       "metadata": {},
       "output_type": "pyout",
       "prompt_number": 3,
       "text": [
        "['project', 'course', 'faculty', 'student', 'staff']"
       ]
      }
     ],
     "prompt_number": 3
    },
    {
     "cell_type": "heading",
     "level": 1,
     "metadata": {},
     "source": [
      "\u00a0Creation des features pour le classifieur local"
     ]
    },
    {
     "cell_type": "code",
     "collapsed": false,
     "input": [
      "def vectorize(graph, unknownList, classes, pooling='sum', direction='successors'):\n",
      "    nNodes = len(graph.keys())\n",
      "    nAtt = len(graph[graph.keys()[0]]['attributes'])\n",
      "    nClass = len(classes)\n",
      "    nUnknown = len(unknownList)\n",
      "    representation = {}\n",
      "    representation['unknown'] = np.zeros((nUnknown, nAtt + nClass))\n",
      "    representation['known'] = np.zeros((nNodes - nUnknown, nAtt + nClass))\n",
      "    labels = {}\n",
      "    labels['unknown'] = np.zeros(nUnknown)\n",
      "    labels['known'] = np.zeros(nNodes - nUnknown)\n",
      "    i = {}\n",
      "    i['unknown'] = 0\n",
      "    i['known'] = 0\n",
      "    for node in graph:\n",
      "        if (node in unknownList):\n",
      "            k = 'unknown'\n",
      "            #si unknownList n'est pas tri\u00e9\n",
      "            #i[k] = unknownList.index(node)\n",
      "        else:\n",
      "            k = 'known'\n",
      "        representation[k][i[k],:nAtt] = graph[node]['attributes']\n",
      "        labels[k][i[k]] = classes.index(graph[node]['label'])\n",
      "        nKnownSuccessors = 0\n",
      "        for s in graph[node][direction]:\n",
      "            if (not graph[s] in unknownList):\n",
      "                nKnownSuccessors += 1\n",
      "                labelIndex = classes.index(graph[s]['label'])\n",
      "                if (pooling == 'sum' or pooling == 'avg'):\n",
      "                    representation[k][i[k],nAtt + labelIndex] += 1\n",
      "                if (pooling == 'max'):\n",
      "                    representation[k][i[k],nAtt + labelIndex] = 1\n",
      "        if (pooling == 'avg' and nKnownSuccessors > 0):\n",
      "            representation[k][i[k],nAtt:] /= nKnownSuccessors\n",
      "        i[k] += 1\n",
      "    return representation, labels\n",
      "\n",
      "def revectorize(graph, node, classes, pooling='sum', direction='successors'):\n",
      "    nAtt = len(graph[node]['attributes'])\n",
      "    nClass = len(classes)\n",
      "    representation = np.zeros(nAtt + nClass)\n",
      "    representation[:nAtt] = graph[node]['attributes']\n",
      "    nKnownSuccessors = len(graph[node][direction])\n",
      "    for s in graph[node][direction]:\n",
      "        labelIndex = classes.index(graph[s]['label'])\n",
      "        if (pooling == 'sum' or pooling == 'avg'):\n",
      "            representation[nAtt + labelIndex] += 1\n",
      "        if (pooling == 'max'):\n",
      "            representation[nAtt + labelIndex] = 1\n",
      "    if (pooling == 'avg' and nKnownSuccessors > 0):\n",
      "        representation[nAtt:] /= nKnownSuccessors\n",
      "    return representation.reshape(1, -1)"
     ],
     "language": "python",
     "metadata": {},
     "outputs": [],
     "prompt_number": 4
    },
    {
     "cell_type": "heading",
     "level": 1,
     "metadata": {},
     "source": [
      "ICA"
     ]
    },
    {
     "cell_type": "code",
     "collapsed": true,
     "input": [
      "class ICA():\n",
      "    def __init__(self, localClf, pooling='sum', maxIter=500):\n",
      "        self.localClf = localClf\n",
      "        self.pooling = pooling\n",
      "        self.maxIter = maxIter\n",
      "    def predict(self, graph, unknown, classes):\n",
      "        data, label = vectorize(graph, unknown, classes, self.pooling)\n",
      "        self.localClf.fit(data[\"known\"], label[\"known\"])\n",
      "        currentPred = self.localClf.predict(data[\"unknown\"])\n",
      "        for i,u in enumerate(unknown):\n",
      "            graph[u]['label'] = classes[int(currentPred[i])]\n",
      "        newPred = np.zeros(currentPred.shape)\n",
      "        stop = False\n",
      "        for k in xrange(self.maxIter):\n",
      "            for i in np.random.permutation(len(unknown)):\n",
      "                node = unknown[i]\n",
      "                newPred[i] = self.localClf.predict(revectorize(g, node, classes, self.pooling))\n",
      "                g[node]['label'] = classes[int(newPred[i])]\n",
      "            if ((currentPred == newPred).mean() == 1):\n",
      "                break\n",
      "            tmp = newPred\n",
      "            newPred = currentPred\n",
      "            currentPred = tmp\n",
      "        return currentPred"
     ],
     "language": "python",
     "metadata": {},
     "outputs": [],
     "prompt_number": 5
    },
    {
     "cell_type": "heading",
     "level": 1,
     "metadata": {},
     "source": [
      "Propagation de labels"
     ]
    },
    {
     "cell_type": "code",
     "collapsed": false,
     "input": [
      "class LabelPropagation():\n",
      "    def __init__(self, beta=1e-2, lambd=1e-2, eps=1e-3, maxIter=500):\n",
      "        self.beta  = beta\n",
      "        self.lambd = lambd\n",
      "        self.eps = eps\n",
      "        self.maxIter = maxIter\n",
      "    def predict(self, graph, unknown, classes):\n",
      "        known = list(set(graph.keys()).difference(set(unknown)))\n",
      "        nAtt = len(graph[graph.keys()[0]]['attributes'])\n",
      "        self.loss = []\n",
      "        self.theta = np.random.random((len(classes), nAtt))\n",
      "        self.b = np.random.random((len(classes)))\n",
      "        for i in xrange(self.maxIter):\n",
      "            lossClf = np.zeros(len(classes))\n",
      "            lossCor = np.zeros(len(classes))\n",
      "            lossReg = np.zeros(len(classes))\n",
      "            for node in np.random.permutation(known):\n",
      "                yneg = np.ones((len(classes)))\n",
      "                yneg[classes.index(graph[node]['label'])] = -1\n",
      "                xi = np.array(graph[node]['attributes'], float)\n",
      "                gradClf = yneg.reshape(5,1) * xi.reshape((1,len(xi))).repeat(5, axis=0)\n",
      "                prodClf = yneg * (self.theta.dot(xi) + self.b)\n",
      "                gradClf[prodClf <= 1] = 0\n",
      "                prodClf = 1 + prodClf\n",
      "                prodClf[prodClf < 0] = 0\n",
      "                lossClf = lossClf + prodClf        \n",
      "                \n",
      "                gradCor = np.zeros(self.theta.shape)\n",
      "                nSucc = len(graph[node]['successors'])\n",
      "                for v in (graph[node]['successors']):\n",
      "                    xv = np.array(graph[v]['attributes'], float)\n",
      "                    diff = xi - xv\n",
      "                    prodCor = self.theta.dot(diff)\n",
      "                    gradCor = gradCor + 2 * self.beta * prodCor.reshape(len(classes),1) * diff.reshape((1,len(diff))).repeat(len(classes), axis=0)\n",
      "                    lossCor = lossCor + self.beta * (prodCor**2)\n",
      "                    \n",
      "                gradReg = 2 * self.lambd / len(known) * self.theta\n",
      "                lossReg = lossReg + self.lambd / len(known) * (self.theta**2).sum(1)\n",
      "                \n",
      "                self.theta = self.theta - self.eps * (gradClf + gradCor + gradReg)\n",
      "            \n",
      "            self.loss.append(np.mean([lossClf, lossCor, lossReg]))\n",
      "            #if (i % 50 == 0):\n",
      "            #    print i, (lossClf + lossCor + lossReg).mean()\n",
      "        \n",
      "        pred = np.zeros(len(unknown))\n",
      "        for i,node in enumerate(unknown):\n",
      "            pred[i] = self.theta.dot(np.array(graph[node]['attributes'], float)).argmax()\n",
      "        return pred"
     ],
     "language": "python",
     "metadata": {},
     "outputs": [],
     "prompt_number": 6
    },
    {
     "cell_type": "markdown",
     "metadata": {},
     "source": [
      "# Experimentations\n",
      "\n",
      "## Chargement des donn\u00e9es"
     ]
    },
    {
     "cell_type": "code",
     "collapsed": false,
     "input": [
      "graph, classes = loadData()\n",
      "\n",
      "#\u00a0Selection des labels inconnus\n",
      "pUnknown = .10\n",
      "\n",
      "unknown = np.array(graph.keys())[np.sort((np.random.permutation(len(graph.keys()))[:int(len(graph.keys())*pUnknown)]))]"
     ],
     "language": "python",
     "metadata": {},
     "outputs": [],
     "prompt_number": 7
    },
    {
     "cell_type": "code",
     "collapsed": false,
     "input": [
      "for i,label in enumerate(classes):\n",
      "    print(i,label)"
     ],
     "language": "python",
     "metadata": {},
     "outputs": [
      {
       "output_type": "stream",
       "stream": "stdout",
       "text": [
        "(0, 'project')\n",
        "(1, 'course')\n",
        "(2, 'faculty')\n",
        "(3, 'student')\n",
        "(4, 'staff')\n"
       ]
      }
     ],
     "prompt_number": 8
    },
    {
     "cell_type": "code",
     "collapsed": false,
     "input": [
      "#G = nx.DiGraph()\n",
      "G = nx.Graph()\n",
      "colorlist = ['red','blue','green','pink','yellow']\n",
      "\n",
      "label_color = {}\n",
      "for i, label in enumerate(classes):\n",
      "    label_color[label] = colorlist[i]\n",
      "    \n",
      "nodelist = []    \n",
      "edgelist = []\n",
      "node_color = []\n",
      "for key in graph.keys():\n",
      "    label = graph[key]['label']\n",
      "    node_color.append(label_color[label])\n",
      "    nodelist.append(key)\n",
      "    for succ in graph[key]['successors']:\n",
      "        edgelist.append((key,succ))\n",
      "\n",
      "for node in nodelist:\n",
      "    G.add_node(node)\n",
      "for edge in edgelist:\n",
      "    G.add_edge(*edge)\n",
      "\n",
      "nx.draw(G, node_size=30, node_color=node_color)\n",
      "\n",
      "plt.savefig('foo.png')\n",
      "plt.show()"
     ],
     "language": "python",
     "metadata": {
      "scrolled": true
     },
     "outputs": [
      {
       "ename": "NameError",
       "evalue": "name 'nx' is not defined",
       "output_type": "pyerr",
       "traceback": [
        "\u001b[0;31m---------------------------------------------------------------------------\u001b[0m\n\u001b[0;31mNameError\u001b[0m                                 Traceback (most recent call last)",
        "\u001b[0;32m<ipython-input-9-54f1e9984b14>\u001b[0m in \u001b[0;36m<module>\u001b[0;34m()\u001b[0m\n\u001b[1;32m      1\u001b[0m \u001b[0;31m#G = nx.DiGraph()\u001b[0m\u001b[0;34m\u001b[0m\u001b[0;34m\u001b[0m\u001b[0m\n\u001b[0;32m----> 2\u001b[0;31m \u001b[0mG\u001b[0m \u001b[0;34m=\u001b[0m \u001b[0mnx\u001b[0m\u001b[0;34m.\u001b[0m\u001b[0mGraph\u001b[0m\u001b[0;34m(\u001b[0m\u001b[0;34m)\u001b[0m\u001b[0;34m\u001b[0m\u001b[0m\n\u001b[0m\u001b[1;32m      3\u001b[0m \u001b[0mcolorlist\u001b[0m \u001b[0;34m=\u001b[0m \u001b[0;34m[\u001b[0m\u001b[0;34m'red'\u001b[0m\u001b[0;34m,\u001b[0m\u001b[0;34m'blue'\u001b[0m\u001b[0;34m,\u001b[0m\u001b[0;34m'green'\u001b[0m\u001b[0;34m,\u001b[0m\u001b[0;34m'pink'\u001b[0m\u001b[0;34m,\u001b[0m\u001b[0;34m'yellow'\u001b[0m\u001b[0;34m]\u001b[0m\u001b[0;34m\u001b[0m\u001b[0m\n\u001b[1;32m      4\u001b[0m \u001b[0;34m\u001b[0m\u001b[0m\n\u001b[1;32m      5\u001b[0m \u001b[0mlabel_color\u001b[0m \u001b[0;34m=\u001b[0m \u001b[0;34m{\u001b[0m\u001b[0;34m}\u001b[0m\u001b[0;34m\u001b[0m\u001b[0m\n",
        "\u001b[0;31mNameError\u001b[0m: name 'nx' is not defined"
       ]
      }
     ],
     "prompt_number": 9
    },
    {
     "cell_type": "heading",
     "level": 2,
     "metadata": {
      "collapsed": false
     },
     "source": [
      "\u00a0Classifieur local"
     ]
    },
    {
     "cell_type": "code",
     "collapsed": false,
     "input": [
      "# Extraction des features\n",
      "data, label = vectorize(graph, unknown, classes, 'sum')\n",
      "\n",
      "classifierLocal = LinearSVC(C=1e-2)\n",
      "classifierLocal.fit(data[\"known\"], label[\"known\"])\n",
      "predLocal = classifierLocal.predict(data[\"unknown\"])\n",
      "print \"Score:\", (predLocal == label[\"unknown\"]).mean()\n",
      "\n",
      "y_pred = predLocal - 1 # to match classes for confusion_matrix\n",
      "y_test = label['unknown'] - 1"
     ],
     "language": "python",
     "metadata": {},
     "outputs": [
      {
       "output_type": "stream",
       "stream": "stdout",
       "text": [
        "Score: 0.736842105263\n"
       ]
      }
     ],
     "prompt_number": 10
    },
    {
     "cell_type": "code",
     "collapsed": false,
     "input": [
      "from sklearn.metrics import confusion_matrix\n",
      "\n",
      "def plot_confusion_matrix(cm, title='Confusion matrix', cmap=plt.cm.Blues):\n",
      "    plt.imshow(cm, interpolation='nearest', cmap=cmap)\n",
      "    plt.title(title)\n",
      "    plt.colorbar()\n",
      "    tick_marks = np.arange(len(classes))\n",
      "    plt.xticks(tick_marks, classes, rotation=45)\n",
      "    plt.yticks(tick_marks, classes)\n",
      "    plt.tight_layout()\n",
      "    plt.ylabel('True label')\n",
      "    plt.xlabel('Predicted label')\n",
      "    \n",
      "cm = confusion_matrix(y_test, y_pred)\n",
      "np.set_printoptions(precision=2)\n",
      "print('Confusion matrix, without normalization')\n",
      "print(cm)\n",
      "plt.figure()\n",
      "plot_confusion_matrix(cm)"
     ],
     "language": "python",
     "metadata": {},
     "outputs": [
      {
       "output_type": "stream",
       "stream": "stdout",
       "text": [
        "Confusion matrix, without normalization\n",
        "[[1 0 0 1 0]\n",
        " [0 5 0 0 0]\n",
        " [0 0 2 2 0]\n",
        " [0 0 0 6 1]\n",
        " [0 0 0 1 0]]\n"
       ]
      },
      {
       "metadata": {},
       "output_type": "display_data",
       "png": "[encoded data removed]",
       "text": [
        "<matplotlib.figure.Figure at 0x7f19877da650>"
       ]
      }
     ],
     "prompt_number": 11
    },
    {
     "cell_type": "code",
     "collapsed": false,
     "input": [
      "cm_normalized = cm.astype('float') / cm.sum(axis=1)[:, np.newaxis]\n",
      "print('Normalized confusion matrix')\n",
      "print(cm_normalized)\n",
      "plt.figure()\n",
      "plot_confusion_matrix(cm_normalized, title='Normalized confusion matrix')"
     ],
     "language": "python",
     "metadata": {},
     "outputs": [
      {
       "output_type": "stream",
       "stream": "stdout",
       "text": [
        "Normalized confusion matrix\n",
        "[[ 0.5   0.    0.    0.5   0.  ]\n",
        " [ 0.    1.    0.    0.    0.  ]\n",
        " [ 0.    0.    0.5   0.5   0.  ]\n",
        " [ 0.    0.    0.    0.86  0.14]\n",
        " [ 0.    0.    0.    1.    0.  ]]\n"
       ]
      },
      {
       "metadata": {},
       "output_type": "display_data",
       "png": "[encoded data removed]",
       "text": [
        "<matplotlib.figure.Figure at 0x7f19878cd850>"
       ]
      }
     ],
     "prompt_number": 12
    },
    {
     "cell_type": "heading",
     "level": 2,
     "metadata": {},
     "source": [
      "ICA"
     ]
    },
    {
     "cell_type": "code",
     "collapsed": false,
     "input": [
      "g = deepcopy(graph)\n",
      "\n",
      "ica = ICA(LinearSVC(C=1e-2))\n",
      "predICA = ica.predict(g, unknown, classes)\n",
      "print \"Score: \", (predICA == label['unknown']).mean()"
     ],
     "language": "python",
     "metadata": {},
     "outputs": [
      {
       "output_type": "stream",
       "stream": "stdout",
       "text": [
        "Score:  0.736842105263\n"
       ]
      }
     ],
     "prompt_number": 13
    },
    {
     "cell_type": "heading",
     "level": 2,
     "metadata": {},
     "source": [
      "\u00a0Propagation de labels"
     ]
    },
    {
     "cell_type": "code",
     "collapsed": false,
     "input": [
      "minlosslist = []\n",
      "betalist = [1e-2, 1e-3, 1e-4, 1e-5, 1e-6]\n",
      "lambdlist = [1e-2, 1e-3, 1e-4, 1e-5, 1e-6]\n",
      "epslist = [3e-3, 1e-3, 8e-4]\n",
      "\n",
      "i = 0\n",
      "i_max = len(betalist) * len(lambdlist) * len(epslist)\n",
      "for beta in betalist:\n",
      "    for lambd in lambdlist:\n",
      "        for eps in epslist:\n",
      "            lbProp = LabelPropagation(beta=beta, lambd=lambd, eps=eps, maxIter=200)\n",
      "            predProp = lbProp.predict(graph, unknown, classes)\n",
      "            i += 1\n",
      "            print \"[ iter:\", i, '/', i_max\n",
      "            print \"beta:\", beta\n",
      "            print \"lambd:\", lambd\n",
      "            print \"eps:\", eps\n",
      "            print \"> Min loss:\", np.array(lbProp.loss).min() \n",
      "            print \"> Score test:\", (predProp == label['unknown']).mean()"
     ],
     "language": "python",
     "metadata": {},
     "outputs": [
      {
       "output_type": "stream",
       "stream": "stdout",
       "text": [
        "[ iter: 1 / 75\n",
        "beta: 0.01\n",
        "lambd: 0.01\n",
        "eps: 0.003\n",
        "> Min loss: 33.1958674386\n",
        "> Score test: 0.526315789474\n",
        "[ iter:"
       ]
      },
      {
       "output_type": "stream",
       "stream": "stdout",
       "text": [
        " 2 / 75\n",
        "beta: 0.01\n",
        "lambd: 0.01\n",
        "eps: 0.001\n",
        "> Min loss: 35.5757013652\n",
        "> Score test: 0.368421052632\n",
        "[ iter:"
       ]
      },
      {
       "output_type": "stream",
       "stream": "stdout",
       "text": [
        " 3 / 75\n",
        "beta: 0.01\n",
        "lambd: 0.01\n",
        "eps: 0.0008\n",
        "> Min loss: 35.8880117889\n",
        "> Score test: 0.473684210526\n",
        "[ iter:"
       ]
      },
      {
       "output_type": "stream",
       "stream": "stdout",
       "text": [
        " 4 / 75\n",
        "beta: 0.01\n",
        "lambd: 0.001\n",
        "eps: 0.003\n",
        "> Min loss: 33.9837553798\n",
        "> Score test: 0.526315789474\n",
        "[ iter:"
       ]
      },
      {
       "output_type": "stream",
       "stream": "stdout",
       "text": [
        " 5 / 75\n",
        "beta: 0.01\n",
        "lambd: 0.001\n",
        "eps: 0.001\n",
        "> Min loss: 35.6997800109\n",
        "> Score test: 0.473684210526\n",
        "[ iter:"
       ]
      },
      {
       "output_type": "stream",
       "stream": "stdout",
       "text": [
        " 6 / 75\n",
        "beta: 0.01\n",
        "lambd: 0.001\n",
        "eps: 0.0008\n",
        "> Min loss: 35.1527997323\n",
        "> Score test: 0.578947368421\n",
        "[ iter:"
       ]
      },
      {
       "output_type": "stream",
       "stream": "stdout",
       "text": [
        " 7 / 75\n",
        "beta: 0.01\n",
        "lambd: 0.0001\n",
        "eps: 0.003\n",
        "> Min loss: 33.9824370553\n",
        "> Score test: 0.315789473684\n",
        "[ iter:"
       ]
      },
      {
       "output_type": "stream",
       "stream": "stdout",
       "text": [
        " 8 / 75\n",
        "beta: 0.01\n",
        "lambd: 0.0001\n",
        "eps: 0.001\n",
        "> Min loss: 33.5885556578\n",
        "> Score test: 0.578947368421\n",
        "[ iter:"
       ]
      },
      {
       "output_type": "stream",
       "stream": "stdout",
       "text": [
        " 9 / 75\n",
        "beta: 0.01\n",
        "lambd: 0.0001\n",
        "eps: 0.0008\n",
        "> Min loss: 33.1716230439\n",
        "> Score test: 0.684210526316\n",
        "[ iter:"
       ]
      },
      {
       "output_type": "stream",
       "stream": "stdout",
       "text": [
        " 10 / 75\n",
        "beta: 0.01\n",
        "lambd: 1e-05\n",
        "eps: 0.003\n",
        "> Min loss: 32.91988684\n",
        "> Score test: 0.263157894737\n",
        "[ iter:"
       ]
      },
      {
       "output_type": "stream",
       "stream": "stdout",
       "text": [
        " 11 / 75\n",
        "beta: 0.01\n",
        "lambd: 1e-05\n",
        "eps: 0.001\n",
        "> Min loss: 35.7452861844\n",
        "> Score test: 0.473684210526\n",
        "[ iter:"
       ]
      },
      {
       "output_type": "stream",
       "stream": "stdout",
       "text": [
        " 12 / 75\n",
        "beta: 0.01\n",
        "lambd: 1e-05\n",
        "eps: 0.0008\n",
        "> Min loss: 34.4449765362\n",
        "> Score test: 0.684210526316\n",
        "[ iter:"
       ]
      },
      {
       "output_type": "stream",
       "stream": "stdout",
       "text": [
        " 13 / 75\n",
        "beta: 0.01\n",
        "lambd: 1e-06\n",
        "eps: 0.003\n",
        "> Min loss: 32.2520454732\n",
        "> Score test: 0.421052631579\n",
        "[ iter:"
       ]
      },
      {
       "output_type": "stream",
       "stream": "stdout",
       "text": [
        " 14 / 75\n",
        "beta: 0.01\n",
        "lambd: 1e-06\n",
        "eps: 0.001\n",
        "> Min loss: 33.4992318092\n",
        "> Score test: 0.315789473684\n",
        "[ iter:"
       ]
      },
      {
       "output_type": "stream",
       "stream": "stdout",
       "text": [
        " 15 / 75\n",
        "beta: 0.01\n",
        "lambd: 1e-06\n",
        "eps: 0.0008\n",
        "> Min loss: 34.0387064801\n",
        "> Score test: 0.578947368421\n",
        "[ iter:"
       ]
      },
      {
       "output_type": "stream",
       "stream": "stdout",
       "text": [
        " 16 / 75\n",
        "beta: 0.001\n",
        "lambd: 0.01\n",
        "eps: 0.003\n",
        "> Min loss: 18.5121279117\n",
        "> Score test: 0.684210526316\n",
        "[ iter:"
       ]
      },
      {
       "output_type": "stream",
       "stream": "stdout",
       "text": [
        " 17 / 75\n",
        "beta: 0.001\n",
        "lambd: 0.01\n",
        "eps: 0.001\n",
        "> Min loss: 22.8341230069\n",
        "> Score test: 0.684210526316\n",
        "[ iter:"
       ]
      },
      {
       "output_type": "stream",
       "stream": "stdout",
       "text": [
        " 18 / 75\n",
        "beta: 0.001\n",
        "lambd: 0.01\n",
        "eps: 0.0008\n",
        "> Min loss: 25.752507076\n",
        "> Score test: 0.631578947368\n",
        "[ iter:"
       ]
      },
      {
       "output_type": "stream",
       "stream": "stdout",
       "text": [
        " 19 / 75\n",
        "beta: 0.001\n",
        "lambd: 0.001\n",
        "eps: 0.003\n",
        "> Min loss: 16.2509242484\n",
        "> Score test: 0.684210526316\n",
        "[ iter:"
       ]
      },
      {
       "output_type": "stream",
       "stream": "stdout",
       "text": [
        " 20 / 75\n",
        "beta: 0.001\n",
        "lambd: 0.001\n",
        "eps: 0.001\n",
        "> Min loss: 22.0888231908\n",
        "> Score test: 0.631578947368\n",
        "[ iter:"
       ]
      },
      {
       "output_type": "stream",
       "stream": "stdout",
       "text": [
        " 21 / 75\n",
        "beta: 0.001\n",
        "lambd: 0.001\n",
        "eps: 0.0008\n",
        "> Min loss: 24.9199859229\n",
        "> Score test: 0.789473684211\n",
        "[ iter:"
       ]
      },
      {
       "output_type": "stream",
       "stream": "stdout",
       "text": [
        " 22 / 75\n",
        "beta: 0.001\n",
        "lambd: 0.0001\n",
        "eps: 0.003\n",
        "> Min loss: 16.3419641537\n",
        "> Score test: 0.789473684211\n",
        "[ iter:"
       ]
      },
      {
       "output_type": "stream",
       "stream": "stdout",
       "text": [
        " 23 / 75\n",
        "beta: 0.001\n",
        "lambd: 0.0001\n",
        "eps: 0.001\n",
        "> Min loss: 21.7390230842\n",
        "> Score test: 0.684210526316\n",
        "[ iter:"
       ]
      },
      {
       "output_type": "stream",
       "stream": "stdout",
       "text": [
        " 24 / 75\n",
        "beta: 0.001\n",
        "lambd: 0.0001\n",
        "eps: 0.0008\n",
        "> Min loss: 26.6578004214\n",
        "> Score test: 0.684210526316\n",
        "[ iter:"
       ]
      },
      {
       "output_type": "stream",
       "stream": "stdout",
       "text": [
        " 25 / 75\n",
        "beta: 0.001\n",
        "lambd: 1e-05\n",
        "eps: 0.003\n",
        "> Min loss: 17.1152928093\n",
        "> Score test: 0.684210526316\n",
        "[ iter:"
       ]
      },
      {
       "output_type": "stream",
       "stream": "stdout",
       "text": [
        " 26 / 75\n",
        "beta: 0.001\n",
        "lambd: 1e-05\n",
        "eps: 0.001\n",
        "> Min loss: 22.2496478818\n",
        "> Score test: 0.631578947368\n",
        "[ iter:"
       ]
      },
      {
       "output_type": "stream",
       "stream": "stdout",
       "text": [
        " 27 / 75\n",
        "beta: 0.001\n",
        "lambd: 1e-05\n",
        "eps: 0.0008\n",
        "> Min loss: 23.5404899315\n",
        "> Score test: 0.736842105263\n",
        "[ iter:"
       ]
      },
      {
       "output_type": "stream",
       "stream": "stdout",
       "text": [
        " 28 / 75\n",
        "beta: 0.001\n",
        "lambd: 1e-06\n",
        "eps: 0.003\n",
        "> Min loss: 16.4627312663\n",
        "> Score test: 0.631578947368\n",
        "[ iter:"
       ]
      },
      {
       "output_type": "stream",
       "stream": "stdout",
       "text": [
        " 29 / 75\n",
        "beta: 0.001\n",
        "lambd: 1e-06\n",
        "eps: 0.001\n",
        "> Min loss: 21.9219766595\n",
        "> Score test: 0.684210526316\n",
        "[ iter:"
       ]
      },
      {
       "output_type": "stream",
       "stream": "stdout",
       "text": [
        " 30 / 75\n",
        "beta: 0.001\n",
        "lambd: 1e-06\n",
        "eps: 0.0008\n",
        "> Min loss: 25.5786849344\n",
        "> Score test: 0.631578947368\n",
        "[ iter:"
       ]
      },
      {
       "output_type": "stream",
       "stream": "stdout",
       "text": [
        " 31 / 75\n",
        "beta: 0.0001\n",
        "lambd: 0.01\n",
        "eps: 0.003\n",
        "> Min loss: 13.8350509413\n",
        "> Score test: 0.789473684211\n",
        "[ iter:"
       ]
      },
      {
       "output_type": "stream",
       "stream": "stdout",
       "text": [
        " 32 / 75\n",
        "beta: 0.0001\n",
        "lambd: 0.01\n",
        "eps: 0.001\n",
        "> Min loss: 20.5788888165\n",
        "> Score test: 0.631578947368\n",
        "[ iter:"
       ]
      },
      {
       "output_type": "stream",
       "stream": "stdout",
       "text": [
        " 33 / 75\n",
        "beta: 0.0001\n",
        "lambd: 0.01\n",
        "eps: 0.0008\n",
        "> Min loss: 23.3324902236\n",
        "> Score test: 0.736842105263\n",
        "[ iter:"
       ]
      },
      {
       "output_type": "stream",
       "stream": "stdout",
       "text": [
        " 34 / 75\n",
        "beta: 0.0001\n",
        "lambd: 0.001\n",
        "eps: 0.003\n",
        "> Min loss: 14.7574914496\n",
        "> Score test: 0.842105263158\n",
        "[ iter:"
       ]
      },
      {
       "output_type": "stream",
       "stream": "stdout",
       "text": [
        " 35 / 75\n",
        "beta: 0.0001\n",
        "lambd: 0.001\n",
        "eps: 0.001\n",
        "> Min loss: 18.7214614989\n",
        "> Score test: 0.684210526316\n",
        "[ iter:"
       ]
      },
      {
       "output_type": "stream",
       "stream": "stdout",
       "text": [
        " 36 / 75\n",
        "beta: 0.0001\n",
        "lambd: 0.001\n",
        "eps: 0.0008\n",
        "> Min loss: 21.3525539247\n",
        "> Score test: 0.578947368421\n",
        "[ iter:"
       ]
      },
      {
       "output_type": "stream",
       "stream": "stdout",
       "text": [
        " 37 / 75\n",
        "beta: 0.0001\n",
        "lambd: 0.0001\n",
        "eps: 0.003\n",
        "> Min loss: 12.9650038467\n",
        "> Score test: 0.789473684211\n",
        "[ iter:"
       ]
      },
      {
       "output_type": "stream",
       "stream": "stdout",
       "text": [
        " 38 / 75\n",
        "beta: 0.0001\n",
        "lambd: 0.0001\n",
        "eps: 0.001\n",
        "> Min loss: 19.315048684\n",
        "> Score test: 0.631578947368\n",
        "[ iter:"
       ]
      },
      {
       "output_type": "stream",
       "stream": "stdout",
       "text": [
        " 39 / 75\n",
        "beta: 0.0001\n",
        "lambd: 0.0001\n",
        "eps: 0.0008\n",
        "> Min loss: 22.0593014497\n",
        "> Score test: 0.684210526316\n",
        "[ iter:"
       ]
      },
      {
       "output_type": "stream",
       "stream": "stdout",
       "text": [
        " 40 / 75\n",
        "beta: 0.0001\n",
        "lambd: 1e-05\n",
        "eps: 0.003\n",
        "> Min loss: 12.1188555033\n",
        "> Score test: 0.684210526316\n",
        "[ iter:"
       ]
      },
      {
       "output_type": "stream",
       "stream": "stdout",
       "text": [
        " 41 / 75\n",
        "beta: 0.0001\n",
        "lambd: 1e-05\n",
        "eps: 0.001\n",
        "> Min loss: 18.8059067029\n",
        "> Score test: 0.736842105263\n",
        "[ iter:"
       ]
      },
      {
       "output_type": "stream",
       "stream": "stdout",
       "text": [
        " 42 / 75\n",
        "beta: 0.0001\n",
        "lambd: 1e-05\n",
        "eps: 0.0008\n",
        "> Min loss: 22.0000837665\n",
        "> Score test: 0.684210526316\n",
        "[ iter:"
       ]
      },
      {
       "output_type": "stream",
       "stream": "stdout",
       "text": [
        " 43 / 75\n",
        "beta: 0.0001\n",
        "lambd: 1e-06\n",
        "eps: 0.003\n",
        "> Min loss: 11.967290823\n",
        "> Score test: 0.842105263158\n",
        "[ iter:"
       ]
      },
      {
       "output_type": "stream",
       "stream": "stdout",
       "text": [
        " 44 / 75\n",
        "beta: 0.0001\n",
        "lambd: 1e-06\n",
        "eps: 0.001\n",
        "> Min loss: 19.0712701026\n",
        "> Score test: 0.684210526316\n",
        "[ iter:"
       ]
      },
      {
       "output_type": "stream",
       "stream": "stdout",
       "text": [
        " 45 / 75\n",
        "beta: 0.0001\n",
        "lambd: 1e-06\n",
        "eps: 0.0008\n",
        "> Min loss: 21.2441378899\n",
        "> Score test: 0.684210526316\n",
        "[ iter:"
       ]
      },
      {
       "output_type": "stream",
       "stream": "stdout",
       "text": [
        " 46 / 75\n",
        "beta: 1e-05\n",
        "lambd: 0.01\n",
        "eps: 0.003\n",
        "> Min loss: 14.6087577774\n",
        "> Score test: 0.842105263158\n",
        "[ iter:"
       ]
      },
      {
       "output_type": "stream",
       "stream": "stdout",
       "text": [
        " 47 / 75\n",
        "beta: 1e-05\n",
        "lambd: 0.01\n",
        "eps: 0.001\n",
        "> Min loss: 19.2736034304\n",
        "> Score test: 0.684210526316\n",
        "[ iter:"
       ]
      },
      {
       "output_type": "stream",
       "stream": "stdout",
       "text": [
        " 48 / 75\n",
        "beta: 1e-05\n",
        "lambd: 0.01\n",
        "eps: 0.0008\n",
        "> Min loss: 23.1271994882\n",
        "> Score test: 0.631578947368\n",
        "[ iter:"
       ]
      },
      {
       "output_type": "stream",
       "stream": "stdout",
       "text": [
        " 49 / 75\n",
        "beta: 1e-05\n",
        "lambd: 0.001\n",
        "eps: 0.003\n",
        "> Min loss: 13.875545715\n",
        "> Score test: 0.842105263158\n",
        "[ iter:"
       ]
      },
      {
       "output_type": "stream",
       "stream": "stdout",
       "text": [
        " 50 / 75\n",
        "beta: 1e-05\n",
        "lambd: 0.001\n",
        "eps: 0.001\n",
        "> Min loss: 18.8192901666\n",
        "> Score test: 0.631578947368\n",
        "[ iter:"
       ]
      },
      {
       "output_type": "stream",
       "stream": "stdout",
       "text": [
        " 51 / 75\n",
        "beta: 1e-05\n",
        "lambd: 0.001\n",
        "eps: 0.0008\n",
        "> Min loss: 21.5752380567\n",
        "> Score test: 0.684210526316\n",
        "[ iter:"
       ]
      },
      {
       "output_type": "stream",
       "stream": "stdout",
       "text": [
        " 52 / 75\n",
        "beta: 1e-05\n",
        "lambd: 0.0001\n",
        "eps: 0.003\n",
        "> Min loss: 13.1762519069\n",
        "> Score test: 0.736842105263\n",
        "[ iter:"
       ]
      },
      {
       "output_type": "stream",
       "stream": "stdout",
       "text": [
        " 53 / 75\n",
        "beta: 1e-05\n",
        "lambd: 0.0001\n",
        "eps: 0.001\n",
        "> Min loss: 16.7853146269\n",
        "> Score test: 0.789473684211\n",
        "[ iter:"
       ]
      },
      {
       "output_type": "stream",
       "stream": "stdout",
       "text": [
        " 54 / 75\n",
        "beta: 1e-05\n",
        "lambd: 0.0001\n",
        "eps: 0.0008\n",
        "> Min loss: 21.0771087835\n",
        "> Score test: 0.631578947368\n",
        "[ iter:"
       ]
      },
      {
       "output_type": "stream",
       "stream": "stdout",
       "text": [
        " 55 / 75\n",
        "beta: 1e-05\n",
        "lambd: 1e-05\n",
        "eps: 0.003\n",
        "> Min loss: 13.6111692154\n",
        "> Score test: 0.736842105263\n",
        "[ iter:"
       ]
      },
      {
       "output_type": "stream",
       "stream": "stdout",
       "text": [
        " 56 / 75\n",
        "beta: 1e-05\n",
        "lambd: 1e-05\n",
        "eps: 0.001\n",
        "> Min loss: 16.6486269772\n",
        "> Score test: 0.684210526316\n",
        "[ iter:"
       ]
      },
      {
       "output_type": "stream",
       "stream": "stdout",
       "text": [
        " 57 / 75\n",
        "beta: 1e-05\n",
        "lambd: 1e-05\n",
        "eps: 0.0008\n",
        "> Min loss: 20.2537769626\n",
        "> Score test: 0.736842105263\n",
        "[ iter:"
       ]
      },
      {
       "output_type": "stream",
       "stream": "stdout",
       "text": [
        " 58 / 75\n",
        "beta: 1e-05\n",
        "lambd: 1e-06\n",
        "eps: 0.003\n",
        "> Min loss: 13.5584563878\n",
        "> Score test: 0.789473684211\n",
        "[ iter:"
       ]
      },
      {
       "output_type": "stream",
       "stream": "stdout",
       "text": [
        " 59 / 75\n",
        "beta: 1e-05\n",
        "lambd: 1e-06\n",
        "eps: 0.001\n",
        "> Min loss: 17.3550237204\n",
        "> Score test: 0.631578947368\n",
        "[ iter:"
       ]
      },
      {
       "output_type": "stream",
       "stream": "stdout",
       "text": [
        " 60 / 75\n",
        "beta: 1e-05\n",
        "lambd: 1e-06\n",
        "eps: 0.0008\n",
        "> Min loss: 23.3074429565\n",
        "> Score test: 0.631578947368\n",
        "[ iter:"
       ]
      },
      {
       "output_type": "stream",
       "stream": "stdout",
       "text": [
        " 61 / 75\n",
        "beta: 1e-06\n",
        "lambd: 0.01\n",
        "eps: 0.003\n",
        "> Min loss: 15.1391452992\n",
        "> Score test: 0.789473684211\n",
        "[ iter:"
       ]
      },
      {
       "output_type": "stream",
       "stream": "stdout",
       "text": [
        " 62 / 75\n",
        "beta: 1e-06\n",
        "lambd: 0.01\n",
        "eps: 0.001\n",
        "> Min loss: 20.657619086\n",
        "> Score test: 0.789473684211\n",
        "[ iter:"
       ]
      },
      {
       "output_type": "stream",
       "stream": "stdout",
       "text": [
        " 63 / 75\n",
        "beta: 1e-06\n",
        "lambd: 0.01\n",
        "eps: 0.0008\n",
        "> Min loss: 22.4565563814\n",
        "> Score test: 0.736842105263\n",
        "[ iter:"
       ]
      },
      {
       "output_type": "stream",
       "stream": "stdout",
       "text": [
        " 64 / 75\n",
        "beta: 1e-06\n",
        "lambd: 0.001\n",
        "eps: 0.003\n",
        "> Min loss: 12.8560357486\n",
        "> Score test: 0.789473684211\n",
        "[ iter:"
       ]
      },
      {
       "output_type": "stream",
       "stream": "stdout",
       "text": [
        " 65 / 75\n",
        "beta: 1e-06\n",
        "lambd: 0.001\n",
        "eps: 0.001\n",
        "> Min loss: 17.9602952215\n",
        "> Score test: 0.684210526316\n",
        "[ iter:"
       ]
      },
      {
       "output_type": "stream",
       "stream": "stdout",
       "text": [
        " 66 / 75\n",
        "beta: 1e-06\n",
        "lambd: 0.001\n",
        "eps: 0.0008\n",
        "> Min loss: 21.7996540536\n",
        "> Score test: 0.631578947368\n",
        "[ iter:"
       ]
      },
      {
       "output_type": "stream",
       "stream": "stdout",
       "text": [
        " 67 / 75\n",
        "beta: 1e-06\n",
        "lambd: 0.0001\n",
        "eps: 0.003\n",
        "> Min loss: 14.1501908074\n",
        "> Score test: 0.842105263158\n",
        "[ iter:"
       ]
      },
      {
       "output_type": "stream",
       "stream": "stdout",
       "text": [
        " 68 / 75\n",
        "beta: 1e-06\n",
        "lambd: 0.0001\n",
        "eps: 0.001\n",
        "> Min loss: 17.0941676297\n",
        "> Score test: 0.631578947368\n",
        "[ iter:"
       ]
      },
      {
       "output_type": "stream",
       "stream": "stdout",
       "text": [
        " 69 / 75\n",
        "beta: 1e-06\n",
        "lambd: 0.0001\n",
        "eps: 0.0008\n",
        "> Min loss: 22.4055234971\n",
        "> Score test: 0.736842105263\n",
        "[ iter:"
       ]
      },
      {
       "output_type": "stream",
       "stream": "stdout",
       "text": [
        " 70 / 75\n",
        "beta: 1e-06\n",
        "lambd: 1e-05\n",
        "eps: 0.003\n",
        "> Min loss: 14.568795912\n",
        "> Score test: 0.736842105263\n",
        "[ iter:"
       ]
      },
      {
       "output_type": "stream",
       "stream": "stdout",
       "text": [
        " 71 / 75\n",
        "beta: 1e-06\n",
        "lambd: 1e-05\n",
        "eps: 0.001\n",
        "> Min loss: 17.5022444742\n",
        "> Score test: 0.631578947368\n",
        "[ iter:"
       ]
      },
      {
       "output_type": "stream",
       "stream": "stdout",
       "text": [
        " 72 / 75\n",
        "beta: 1e-06\n",
        "lambd: 1e-05\n",
        "eps: 0.0008\n",
        "> Min loss: 21.5381443316\n",
        "> Score test: 0.578947368421\n",
        "[ iter:"
       ]
      },
      {
       "output_type": "stream",
       "stream": "stdout",
       "text": [
        " 73 / 75\n",
        "beta: 1e-06\n",
        "lambd: 1e-06\n",
        "eps: 0.003\n",
        "> Min loss: 14.4927079813\n",
        "> Score test: 0.736842105263\n",
        "[ iter:"
       ]
      },
      {
       "output_type": "stream",
       "stream": "stdout",
       "text": [
        " 74 / 75\n",
        "beta: 1e-06\n",
        "lambd: 1e-06\n",
        "eps: 0.001\n",
        "> Min loss: 18.2195465561\n",
        "> Score test: 0.631578947368\n",
        "[ iter:"
       ]
      },
      {
       "output_type": "stream",
       "stream": "stdout",
       "text": [
        " 75 / 75\n",
        "beta: 1e-06\n",
        "lambd: 1e-06\n",
        "eps: 0.0008\n",
        "> Min loss: 22.495994483\n",
        "> Score test: 0.684210526316\n"
       ]
      }
     ],
     "prompt_number": 14
    },
    {
     "cell_type": "code",
     "collapsed": false,
     "input": [
      "lbProp = LabelPropagation(beta=1e-4, lambd=1e-4, eps=1e-3, maxIter=1500)\n",
      "predProp = lbProp.predict(graph, unknown, classes)\n",
      "print \"Score: \", (predProp == label['unknown']).mean()"
     ],
     "language": "python",
     "metadata": {},
     "outputs": [
      {
       "output_type": "stream",
       "stream": "stdout",
       "text": [
        "Score:  0.789473684211\n"
       ]
      }
     ],
     "prompt_number": 15
    },
    {
     "cell_type": "heading",
     "level": 2,
     "metadata": {},
     "source": [
      "\u00a0En fonction de la proportion de labels inconnus"
     ]
    },
    {
     "cell_type": "code",
     "collapsed": false,
     "input": [
      "listP = np.arange(0.05,.96,.01)\n",
      "nbExp = 10\n",
      "scoreLocal = np.zeros((len(listP), nbExp))\n",
      "scoreICA = np.zeros((len(listP), nbExp))\n",
      "scoreProp = np.zeros((len(listP), nbExp))\n",
      "\n",
      "for i,pUnknown in enumerate(listP):\n",
      "    for k in xrange(nbExp):\n",
      "        unknown = np.array(graph.keys())[np.sort((np.random.permutation(len(graph.keys()))[:int(len(graph.keys())*pUnknown)]))]\n",
      "        # Classifieur Local\n",
      "        data, label = vectorize(graph, unknown, classes, 'sum')\n",
      "        classifierLocal = LinearSVC(C=1e-2)\n",
      "        classifierLocal.fit(data[\"known\"], label[\"known\"])\n",
      "        predLocal = classifierLocal.predict(data[\"unknown\"])\n",
      "        scoreLocal[i][k] = (predLocal == label[\"unknown\"]).mean()\n",
      "        # ICA\n",
      "        g = deepcopy(graph)\n",
      "        ica = ICA(LinearSVC(C=1e-2))\n",
      "        predICA = ica.predict(g, unknown, classes)\n",
      "        scoreICA[i][k] = (predICA == label[\"unknown\"]).mean()\n",
      "        # Prop\n",
      "        lbProp = LabelPropagation(beta=1e-4, lambd=1e-4, eps=1e-3, maxIter=800)\n",
      "        predProp = lbProp.predict(graph, unknown, classes)\n",
      "        scoreProp[i][k] = (predProp == label[\"unknown\"]).mean()"
     ],
     "language": "python",
     "metadata": {},
     "outputs": [
      {
       "output_type": "stream",
       "stream": "stderr",
       "text": [
        "/usr/local/lib/python2.7/dist-packages/sklearn/utils/validation.py:395: DeprecationWarning: Passing 1d arrays as data is deprecated in 0.17 and will raise ValueError in 0.19. Reshape your data either using X.reshape(-1, 1) if your data has a single feature or X.reshape(1, -1) if it contains a single sample.\n",
        "  DeprecationWarning)\n",
        "/usr/local/lib/python2.7/dist-packages/sklearn/utils/validation.py:395: DeprecationWarning: Passing 1d arrays as data is deprecated in 0.17 and will raise ValueError in 0.19. Reshape your data either using X.reshape(-1, 1) if your data has a single feature or X.reshape(1, -1) if it contains a single sample.\n",
        "  DeprecationWarning)\n",
        "/usr/local/lib/python2.7/dist-packages/sklearn/utils/validation.py:395: DeprecationWarning: Passing 1d arrays as data is deprecated in 0.17 and will raise ValueError in 0.19. Reshape your data either using X.reshape(-1, 1) if your data has a single feature or X.reshape(1, -1) if it contains a single sample.\n",
        "  DeprecationWarning)\n",
        "/usr/local/lib/python2.7/dist-packages/sklearn/utils/validation.py:395: DeprecationWarning: Passing 1d arrays as data is deprecated in 0.17 and will raise ValueError in 0.19. Reshape your data either using X.reshape(-1, 1) if your data has a single feature or X.reshape(1, -1) if it contains a single sample.\n",
        "  DeprecationWarning)\n",
        "/usr/local/lib/python2.7/dist-packages/sklearn/utils/validation.py:395: DeprecationWarning: Passing 1d arrays as data is deprecated in 0.17 and will raise ValueError in 0.19. Reshape your data either using X.reshape(-1, 1) if your data has a single feature or X.reshape(1, -1) if it contains a single sample.\n",
        "  DeprecationWarning)\n",
        "/usr/local/lib/python2.7/dist-packages/sklearn/utils/validation.py:395: DeprecationWarning: Passing 1d arrays as data is deprecated in 0.17 and will raise ValueError in 0.19. Reshape your data either using X.reshape(-1, 1) if your data has a single feature or X.reshape(1, -1) if it contains a single sample.\n",
        "  DeprecationWarning)\n",
        "/usr/local/lib/python2.7/dist-packages/sklearn/utils/validation.py:395: DeprecationWarning: Passing 1d arrays as data is deprecated in 0.17 and will raise ValueError in 0.19. Reshape your data either using X.reshape(-1, 1) if your data has a single feature or X.reshape(1, -1) if it contains a single sample.\n",
        "  DeprecationWarning)\n",
        "/usr/local/lib/python2.7/dist-packages/sklearn/utils/validation.py:395: DeprecationWarning: Passing 1d arrays as data is deprecated in 0.17 and will raise ValueError in 0.19. Reshape your data either using X.reshape(-1, 1) if your data has a single feature or X.reshape(1, -1) if it contains a single sample.\n",
        "  DeprecationWarning)\n",
        "/usr/local/lib/python2.7/dist-packages/sklearn/utils/validation.py:395: DeprecationWarning: Passing 1d arrays as data is deprecated in 0.17 and will raise ValueError in 0.19. Reshape your data either using X.reshape(-1, 1) if your data has a single feature or X.reshape(1, -1) if it contains a single sample.\n",
        "  DeprecationWarning)\n"
       ]
      },
      {
       "ename": "AttributeError",
       "evalue": "'list' object has no attribute 'mean'",
       "output_type": "pyerr",
       "traceback": [
        "\u001b[0;31m---------------------------------------------------------------------------\u001b[0m\n\u001b[0;31mAttributeError\u001b[0m                            Traceback (most recent call last)",
        "\u001b[0;32m<ipython-input-16-54e8c4d1a30a>\u001b[0m in \u001b[0;36m<module>\u001b[0;34m()\u001b[0m\n\u001b[1;32m     21\u001b[0m         \u001b[0;31m# Prop\u001b[0m\u001b[0;34m\u001b[0m\u001b[0;34m\u001b[0m\u001b[0m\n\u001b[1;32m     22\u001b[0m         \u001b[0mlbProp\u001b[0m \u001b[0;34m=\u001b[0m \u001b[0mLabelPropagation\u001b[0m\u001b[0;34m(\u001b[0m\u001b[0mbeta\u001b[0m\u001b[0;34m=\u001b[0m\u001b[0;36m1e-4\u001b[0m\u001b[0;34m,\u001b[0m \u001b[0mlambd\u001b[0m\u001b[0;34m=\u001b[0m\u001b[0;36m1e-4\u001b[0m\u001b[0;34m,\u001b[0m \u001b[0meps\u001b[0m\u001b[0;34m=\u001b[0m\u001b[0;36m1e-3\u001b[0m\u001b[0;34m,\u001b[0m \u001b[0mmaxIter\u001b[0m\u001b[0;34m=\u001b[0m\u001b[0;36m800\u001b[0m\u001b[0;34m)\u001b[0m\u001b[0;34m\u001b[0m\u001b[0m\n\u001b[0;32m---> 23\u001b[0;31m         \u001b[0mpredProp\u001b[0m \u001b[0;34m=\u001b[0m \u001b[0mlbProp\u001b[0m\u001b[0;34m.\u001b[0m\u001b[0mpredict\u001b[0m\u001b[0;34m(\u001b[0m\u001b[0mgraph\u001b[0m\u001b[0;34m,\u001b[0m \u001b[0munknown\u001b[0m\u001b[0;34m,\u001b[0m \u001b[0mclasses\u001b[0m\u001b[0;34m)\u001b[0m\u001b[0;34m\u001b[0m\u001b[0m\n\u001b[0m\u001b[1;32m     24\u001b[0m         \u001b[0mscoreProp\u001b[0m\u001b[0;34m[\u001b[0m\u001b[0mi\u001b[0m\u001b[0;34m]\u001b[0m\u001b[0;34m[\u001b[0m\u001b[0mk\u001b[0m\u001b[0;34m]\u001b[0m \u001b[0;34m=\u001b[0m \u001b[0;34m(\u001b[0m\u001b[0mpredProp\u001b[0m \u001b[0;34m==\u001b[0m \u001b[0mlabel\u001b[0m\u001b[0;34m[\u001b[0m\u001b[0;34m\"unknown\"\u001b[0m\u001b[0;34m]\u001b[0m\u001b[0;34m)\u001b[0m\u001b[0;34m.\u001b[0m\u001b[0mmean\u001b[0m\u001b[0;34m(\u001b[0m\u001b[0;34m)\u001b[0m\u001b[0;34m\u001b[0m\u001b[0m\n",
        "\u001b[0;32m<ipython-input-6-e69539d9dc03>\u001b[0m in \u001b[0;36mpredict\u001b[0;34m(self, graph, unknown, classes)\u001b[0m\n\u001b[1;32m     40\u001b[0m                 \u001b[0mself\u001b[0m\u001b[0;34m.\u001b[0m\u001b[0mtheta\u001b[0m \u001b[0;34m=\u001b[0m \u001b[0mself\u001b[0m\u001b[0;34m.\u001b[0m\u001b[0mtheta\u001b[0m \u001b[0;34m-\u001b[0m \u001b[0mself\u001b[0m\u001b[0;34m.\u001b[0m\u001b[0meps\u001b[0m \u001b[0;34m*\u001b[0m \u001b[0;34m(\u001b[0m\u001b[0mgradClf\u001b[0m \u001b[0;34m+\u001b[0m \u001b[0mgradCor\u001b[0m \u001b[0;34m+\u001b[0m \u001b[0mgradReg\u001b[0m\u001b[0;34m)\u001b[0m\u001b[0;34m\u001b[0m\u001b[0m\n\u001b[1;32m     41\u001b[0m \u001b[0;34m\u001b[0m\u001b[0m\n\u001b[0;32m---> 42\u001b[0;31m             \u001b[0mself\u001b[0m\u001b[0;34m.\u001b[0m\u001b[0mloss\u001b[0m\u001b[0;34m.\u001b[0m\u001b[0mappend\u001b[0m\u001b[0;34m(\u001b[0m\u001b[0;34m[\u001b[0m\u001b[0mlossClf\u001b[0m\u001b[0;34m,\u001b[0m \u001b[0mlossCor\u001b[0m\u001b[0;34m,\u001b[0m \u001b[0mlossReg\u001b[0m\u001b[0;34m]\u001b[0m\u001b[0;34m.\u001b[0m\u001b[0mmean\u001b[0m\u001b[0;34m(\u001b[0m\u001b[0;34m)\u001b[0m\u001b[0;34m)\u001b[0m\u001b[0;34m\u001b[0m\u001b[0m\n\u001b[0m\u001b[1;32m     43\u001b[0m             \u001b[0;31m#if (i % 50 == 0):\u001b[0m\u001b[0;34m\u001b[0m\u001b[0;34m\u001b[0m\u001b[0m\n\u001b[1;32m     44\u001b[0m             \u001b[0;31m#    print i, (lossClf + lossCor + lossReg).mean()\u001b[0m\u001b[0;34m\u001b[0m\u001b[0;34m\u001b[0m\u001b[0m\n",
        "\u001b[0;31mAttributeError\u001b[0m: 'list' object has no attribute 'mean'"
       ]
      }
     ],
     "prompt_number": 16
    },
    {
     "cell_type": "code",
     "collapsed": false,
     "input": [
      "plt.figure()\n",
      "plt.grid()\n",
      "plt.plot(listP, scoreLocal.mean(1), '-', color='b')\n",
      "plt.fill_between(listP, scoreLocal.mean(1) - scoreLocal.std(1), scoreLocal.mean(1) + scoreLocal.std(1), alpha=0.1, color=\"b\")\n",
      "plt.save\n",
      "plt.savefig('unknownlabel_Local.png')\n",
      "\n",
      "plt.figure()\n",
      "plt.grid()\n",
      "plt.plot(listP, scoreICA.mean(1), '-', color='r')\n",
      "plt.fill_between(listP, scoreICA.mean(1) - scoreICA.std(1), scoreICA.mean(1) + scoreICA.std(1), alpha=0.1, color=\"r\")\n",
      "plt.savefig('unknownlabel_ICA.png')\n",
      "\n",
      "plt.figure()\n",
      "plt.grid()\n",
      "plt.plot(listP, scoreProp.mean(1), '-', color='g')\n",
      "plt.fill_between(listP, scoreProp.mean(1) - scoreProp.std(1), scoreProp.mean(1) + scoreProp.std(1), alpha=0.1, color=\"g\")\n",
      "plt.savefig('unknownlabel_Prop.png')\n",
      "\n",
      "\n",
      "print (scoreICA).mean()\n",
      "print (scoreLocal).mean()\n",
      "print (scoreProp).mean()"
     ],
     "language": "python",
     "metadata": {},
     "outputs": [
      {
       "ename": "AttributeError",
       "evalue": "'module' object has no attribute 'save'",
       "output_type": "pyerr",
       "traceback": [
        "\u001b[0;31m---------------------------------------------------------------------------\u001b[0m\n\u001b[0;31mAttributeError\u001b[0m                            Traceback (most recent call last)",
        "\u001b[0;32m<ipython-input-17-9bf677eae1f2>\u001b[0m in \u001b[0;36m<module>\u001b[0;34m()\u001b[0m\n\u001b[1;32m      3\u001b[0m \u001b[0mplt\u001b[0m\u001b[0;34m.\u001b[0m\u001b[0mplot\u001b[0m\u001b[0;34m(\u001b[0m\u001b[0mlistP\u001b[0m\u001b[0;34m,\u001b[0m \u001b[0mscoreLocal\u001b[0m\u001b[0;34m.\u001b[0m\u001b[0mmean\u001b[0m\u001b[0;34m(\u001b[0m\u001b[0;36m1\u001b[0m\u001b[0;34m)\u001b[0m\u001b[0;34m,\u001b[0m \u001b[0;34m'-'\u001b[0m\u001b[0;34m,\u001b[0m \u001b[0mcolor\u001b[0m\u001b[0;34m=\u001b[0m\u001b[0;34m'b'\u001b[0m\u001b[0;34m)\u001b[0m\u001b[0;34m\u001b[0m\u001b[0m\n\u001b[1;32m      4\u001b[0m \u001b[0mplt\u001b[0m\u001b[0;34m.\u001b[0m\u001b[0mfill_between\u001b[0m\u001b[0;34m(\u001b[0m\u001b[0mlistP\u001b[0m\u001b[0;34m,\u001b[0m \u001b[0mscoreLocal\u001b[0m\u001b[0;34m.\u001b[0m\u001b[0mmean\u001b[0m\u001b[0;34m(\u001b[0m\u001b[0;36m1\u001b[0m\u001b[0;34m)\u001b[0m \u001b[0;34m-\u001b[0m \u001b[0mscoreLocal\u001b[0m\u001b[0;34m.\u001b[0m\u001b[0mstd\u001b[0m\u001b[0;34m(\u001b[0m\u001b[0;36m1\u001b[0m\u001b[0;34m)\u001b[0m\u001b[0;34m,\u001b[0m \u001b[0mscoreLocal\u001b[0m\u001b[0;34m.\u001b[0m\u001b[0mmean\u001b[0m\u001b[0;34m(\u001b[0m\u001b[0;36m1\u001b[0m\u001b[0;34m)\u001b[0m \u001b[0;34m+\u001b[0m \u001b[0mscoreLocal\u001b[0m\u001b[0;34m.\u001b[0m\u001b[0mstd\u001b[0m\u001b[0;34m(\u001b[0m\u001b[0;36m1\u001b[0m\u001b[0;34m)\u001b[0m\u001b[0;34m,\u001b[0m \u001b[0malpha\u001b[0m\u001b[0;34m=\u001b[0m\u001b[0;36m0.1\u001b[0m\u001b[0;34m,\u001b[0m \u001b[0mcolor\u001b[0m\u001b[0;34m=\u001b[0m\u001b[0;34m\"b\"\u001b[0m\u001b[0;34m)\u001b[0m\u001b[0;34m\u001b[0m\u001b[0m\n\u001b[0;32m----> 5\u001b[0;31m \u001b[0mplt\u001b[0m\u001b[0;34m.\u001b[0m\u001b[0msave\u001b[0m\u001b[0;34m\u001b[0m\u001b[0m\n\u001b[0m\u001b[1;32m      6\u001b[0m \u001b[0mplt\u001b[0m\u001b[0;34m.\u001b[0m\u001b[0msavefig\u001b[0m\u001b[0;34m(\u001b[0m\u001b[0;34m'unknownlabel_Local.png'\u001b[0m\u001b[0;34m)\u001b[0m\u001b[0;34m\u001b[0m\u001b[0m\n\u001b[1;32m      7\u001b[0m \u001b[0;34m\u001b[0m\u001b[0m\n",
        "\u001b[0;31mAttributeError\u001b[0m: 'module' object has no attribute 'save'"
       ]
      },
      {
       "metadata": {},
       "output_type": "display_data",
       "png": "[encoded data removed]",
       "text": [
        "<matplotlib.figure.Figure at 0x7fc65f449250>"
       ]
      }
     ],
     "prompt_number": 17
    },
    {
     "cell_type": "code",
     "collapsed": false,
     "input": [
      "plt.figure()\n",
      "plt.grid()\n",
      "plt.plot(listP, scoreProp.mean(1), '-', color='g')\n",
      "plt.fill_between(listP, scoreProp.mean(1) - scoreProp.std(1), scoreProp.mean(1) + scoreProp.std(1), alpha=0.1, color=\"g\")"
     ],
     "language": "python",
     "metadata": {
      "scrolled": true
     },
     "outputs": [
      {
       "metadata": {},
       "output_type": "pyout",
       "prompt_number": 18,
       "text": [
        "<matplotlib.collections.PolyCollection at 0x7fc661767690>"
       ]
      },
      {
       "metadata": {},
       "output_type": "display_data",
       "png": "[encoded data removed]",
       "text": [
        "<matplotlib.figure.Figure at 0x7fc6617b12d0>"
       ]
      }
     ],
     "prompt_number": 18
    },
    {
     "cell_type": "code",
     "collapsed": true,
     "input": [],
     "language": "python",
     "metadata": {},
     "outputs": [],
     "prompt_number": 18
    },
    {
     "cell_type": "code",
     "collapsed": true,
     "input": [],
     "language": "python",
     "metadata": {},
     "outputs": [],
     "prompt_number": 18
    },
    {
     "cell_type": "code",
     "collapsed": true,
     "input": [
      "listP = np.arange(0.05,.96,.01)\n",
      "nbExp = 10\n",
      "scoreProp = np.zeros((len(listP), nbExp))\n",
      "\n",
      "for i,pUnknown in enumerate(listP):\n",
      "    for k in xrange(nbExp):\n",
      "        unknown = np.array(graph.keys())[np.sort((np.random.permutation(len(graph.keys()))[:int(len(graph.keys())*pUnknown)]))]\n",
      "        data, label = vectorize(graph, unknown, classes, 'sum')\n",
      "        # Prop\n",
      "        lbProp = LabelPropagation(beta=1e-4, lambd=1e-4, eps=1e-3, maxIter=800)\n",
      "        predProp = lbProp.predict(graph, unknown, classes)\n",
      "        scoreProp[i][k] = (predProp == label[\"unknown\"]).mean()"
     ],
     "language": "python",
     "metadata": {},
     "outputs": [
      {
       "ename": "AttributeError",
       "evalue": "'list' object has no attribute 'mean'",
       "output_type": "pyerr",
       "traceback": [
        "\u001b[0;31m---------------------------------------------------------------------------\u001b[0m\n\u001b[0;31mAttributeError\u001b[0m                            Traceback (most recent call last)",
        "\u001b[0;32m<ipython-input-19-bee9a7b255f6>\u001b[0m in \u001b[0;36m<module>\u001b[0;34m()\u001b[0m\n\u001b[1;32m      9\u001b[0m         \u001b[0;31m# Prop\u001b[0m\u001b[0;34m\u001b[0m\u001b[0;34m\u001b[0m\u001b[0m\n\u001b[1;32m     10\u001b[0m         \u001b[0mlbProp\u001b[0m \u001b[0;34m=\u001b[0m \u001b[0mLabelPropagation\u001b[0m\u001b[0;34m(\u001b[0m\u001b[0mbeta\u001b[0m\u001b[0;34m=\u001b[0m\u001b[0;36m1e-4\u001b[0m\u001b[0;34m,\u001b[0m \u001b[0mlambd\u001b[0m\u001b[0;34m=\u001b[0m\u001b[0;36m1e-4\u001b[0m\u001b[0;34m,\u001b[0m \u001b[0meps\u001b[0m\u001b[0;34m=\u001b[0m\u001b[0;36m1e-3\u001b[0m\u001b[0;34m,\u001b[0m \u001b[0mmaxIter\u001b[0m\u001b[0;34m=\u001b[0m\u001b[0;36m800\u001b[0m\u001b[0;34m)\u001b[0m\u001b[0;34m\u001b[0m\u001b[0m\n\u001b[0;32m---> 11\u001b[0;31m         \u001b[0mpredProp\u001b[0m \u001b[0;34m=\u001b[0m \u001b[0mlbProp\u001b[0m\u001b[0;34m.\u001b[0m\u001b[0mpredict\u001b[0m\u001b[0;34m(\u001b[0m\u001b[0mgraph\u001b[0m\u001b[0;34m,\u001b[0m \u001b[0munknown\u001b[0m\u001b[0;34m,\u001b[0m \u001b[0mclasses\u001b[0m\u001b[0;34m)\u001b[0m\u001b[0;34m\u001b[0m\u001b[0m\n\u001b[0m\u001b[1;32m     12\u001b[0m         \u001b[0mscoreProp\u001b[0m\u001b[0;34m[\u001b[0m\u001b[0mi\u001b[0m\u001b[0;34m]\u001b[0m\u001b[0;34m[\u001b[0m\u001b[0mk\u001b[0m\u001b[0;34m]\u001b[0m \u001b[0;34m=\u001b[0m \u001b[0;34m(\u001b[0m\u001b[0mpredProp\u001b[0m \u001b[0;34m==\u001b[0m \u001b[0mlabel\u001b[0m\u001b[0;34m[\u001b[0m\u001b[0;34m\"unknown\"\u001b[0m\u001b[0;34m]\u001b[0m\u001b[0;34m)\u001b[0m\u001b[0;34m.\u001b[0m\u001b[0mmean\u001b[0m\u001b[0;34m(\u001b[0m\u001b[0;34m)\u001b[0m\u001b[0;34m\u001b[0m\u001b[0m\n",
        "\u001b[0;32m<ipython-input-6-e69539d9dc03>\u001b[0m in \u001b[0;36mpredict\u001b[0;34m(self, graph, unknown, classes)\u001b[0m\n\u001b[1;32m     40\u001b[0m                 \u001b[0mself\u001b[0m\u001b[0;34m.\u001b[0m\u001b[0mtheta\u001b[0m \u001b[0;34m=\u001b[0m \u001b[0mself\u001b[0m\u001b[0;34m.\u001b[0m\u001b[0mtheta\u001b[0m \u001b[0;34m-\u001b[0m \u001b[0mself\u001b[0m\u001b[0;34m.\u001b[0m\u001b[0meps\u001b[0m \u001b[0;34m*\u001b[0m \u001b[0;34m(\u001b[0m\u001b[0mgradClf\u001b[0m \u001b[0;34m+\u001b[0m \u001b[0mgradCor\u001b[0m \u001b[0;34m+\u001b[0m \u001b[0mgradReg\u001b[0m\u001b[0;34m)\u001b[0m\u001b[0;34m\u001b[0m\u001b[0m\n\u001b[1;32m     41\u001b[0m \u001b[0;34m\u001b[0m\u001b[0m\n\u001b[0;32m---> 42\u001b[0;31m             \u001b[0mself\u001b[0m\u001b[0;34m.\u001b[0m\u001b[0mloss\u001b[0m\u001b[0;34m.\u001b[0m\u001b[0mappend\u001b[0m\u001b[0;34m(\u001b[0m\u001b[0;34m[\u001b[0m\u001b[0mlossClf\u001b[0m\u001b[0;34m,\u001b[0m \u001b[0mlossCor\u001b[0m\u001b[0;34m,\u001b[0m \u001b[0mlossReg\u001b[0m\u001b[0;34m]\u001b[0m\u001b[0;34m.\u001b[0m\u001b[0mmean\u001b[0m\u001b[0;34m(\u001b[0m\u001b[0;34m)\u001b[0m\u001b[0;34m)\u001b[0m\u001b[0;34m\u001b[0m\u001b[0m\n\u001b[0m\u001b[1;32m     43\u001b[0m             \u001b[0;31m#if (i % 50 == 0):\u001b[0m\u001b[0;34m\u001b[0m\u001b[0;34m\u001b[0m\u001b[0m\n\u001b[1;32m     44\u001b[0m             \u001b[0;31m#    print i, (lossClf + lossCor + lossReg).mean()\u001b[0m\u001b[0;34m\u001b[0m\u001b[0;34m\u001b[0m\u001b[0m\n",
        "\u001b[0;31mAttributeError\u001b[0m: 'list' object has no attribute 'mean'"
       ]
      }
     ],
     "prompt_number": 19
    },
    {
     "cell_type": "code",
     "collapsed": false,
     "input": [],
     "language": "python",
     "metadata": {},
     "outputs": []
    }
   ],
   "metadata": {}
  }
 ]
}