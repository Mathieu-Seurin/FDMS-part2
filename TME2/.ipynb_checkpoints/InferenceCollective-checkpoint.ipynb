{
 "metadata": {
  "name": "",
  "signature": "sha256:1e4ab60095aefb8b9b19a57b32678694fe6bdc1e8575ad9a4bbe8d9a992b8479"
 },
 "nbformat": 3,
 "nbformat_minor": 0,
 "worksheets": []
}