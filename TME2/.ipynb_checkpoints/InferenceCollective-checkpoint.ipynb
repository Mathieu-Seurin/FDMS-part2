{
 "metadata": {
  "name": "",
  "signature": "sha256:2e04db5f35ebc597420261e5c25f79e36cff74226310176ee16137039b6e6c73"
 },
 "nbformat": 3,
 "nbformat_minor": 0,
 "worksheets": [
  {
   "cells": [
    {
     "cell_type": "code",
     "collapsed": false,
     "input": [
      "from __future__ import division\n",
      "\n",
      "from copy import deepcopy\n",
      "import numpy as np\n",
      "from sklearn.svm import LinearSVC\n",
      "from sklearn.preprocessing import StandardScaler\n",
      "import matplotlib.pyplot as plt\n",
      "\n",
      "%matplotlib inline"
     ],
     "language": "python",
     "metadata": {},
     "outputs": [],
     "prompt_number": 122
    },
    {
     "cell_type": "code",
     "collapsed": false,
     "input": [
      "def loadData(dir=\"./WebKB/\", university=\"cornell\"):\n",
      "    fcontent = open(dir+\"content/\"+university+\".content\", \"r\")\n",
      "    content = list()\n",
      "    labelToId = dict()\n",
      "    labels = list()\n",
      "    nameToId = dict()\n",
      "    name = list()\n",
      "    for i,l in enumerate(fcontent.readlines()):\n",
      "        line = l.split('\\t')\n",
      "        nameToId[line[0]] = i\n",
      "        name.append(line[0])\n",
      "        \n",
      "    fcontent.seek(0)\n",
      "    for i,l in enumerate(fcontent.readlines()):\n",
      "        line = l.split('\\t')\n",
      "        label = line[-1][:-1]\n",
      "            \n",
      "        if label not in labelToId:\n",
      "            labels.append(len(labels))\n",
      "            labelToId[label] = len(labels)-1\n",
      "        \n",
      "        label = labelToId[label]\n",
      "        idLink = line[0]\n",
      "        content.append(dict())\n",
      "        content[i]['att'] = line[1:-1]\n",
      "        content[i]['label'] = label\n",
      "        content[i]['successors'] = set()\n",
      "        content[i]['predecessors'] = set()\n",
      "        content[i]['neighbours'] = set()\n",
      "    fcontent.close()\n",
      "    \n",
      "    fcites = open(dir+\"cites/\"+university+\".cites\", \"r\")\n",
      "    \n",
      "    for l in fcites.readlines():\n",
      "        sites = l[:-1].split(' ')\n",
      "        site1 = nameToId[sites[1]]\n",
      "        site0 = nameToId[sites[0]]\n",
      "        \n",
      "        content[site0]['successors'].add(site1)\n",
      "        content[site1]['predecessors'].add(site0)\n",
      "        content[site0]['neighbours'].add(site1)\n",
      "        content[site1]['neighbours'].add(site0)\n",
      "    return content, labels, labelToId, nameToId,name"
     ],
     "language": "python",
     "metadata": {},
     "outputs": [],
     "prompt_number": 123
    },
    {
     "cell_type": "code",
     "collapsed": false,
     "input": [
      "content, labels, labelToId,nameToId,name = loadData()\n",
      "print labelToId\n",
      "print labels"
     ],
     "language": "python",
     "metadata": {},
     "outputs": [
      {
       "output_type": "stream",
       "stream": "stdout",
       "text": [
        "{'project': 1, 'course': 2, 'faculty': 4, 'student': 0, 'staff': 3}\n",
        "[0, 1, 2, 3, 4]\n"
       ]
      }
     ],
     "prompt_number": 124
    },
    {
     "cell_type": "code",
     "collapsed": true,
     "input": [
      "content[6]['label']"
     ],
     "language": "python",
     "metadata": {},
     "outputs": [
      {
       "metadata": {},
       "output_type": "pyout",
       "prompt_number": 125,
       "text": [
        "1"
       ]
      }
     ],
     "prompt_number": 125
    },
    {
     "cell_type": "code",
     "collapsed": false,
     "input": [
      "class GraphVectorize(object):\n",
      "    \n",
      "    def __init__(self, graph, numLabel, unknown=[], unknownRatio=0.10,way='successors'):\n",
      "        \n",
      "        self.graph = graph\n",
      "        self.numLabel = numLabel\n",
      "        self.way = way\n",
      "        \n",
      "        if unknown ==[]:\n",
      "            self.unknown = []\n",
      "        else:\n",
      "            self.unknown = unknown\n",
      "            \n",
      "        self.numFeatures = 0\n",
      "        \n",
      "        self.numLink = len(graph)\n",
      "        self.numUnknown = int(self.numLink*unknownRatio)\n",
      "        \n",
      "        unknown = np.arange(self.numLink)\n",
      "        np.random.shuffle(unknown)\n",
      "        self.unknown = unknown[:self.numUnknown]\n",
      "        \n",
      "        self.numAtt = len(graph[0]['att'])\n",
      "        self.numFeatures = self.numAtt+self.numLabel\n",
      "    \n",
      "    def getFeatGraph(self):\n",
      "            \n",
      "        unknownSet = set(self.unknown)\n",
      "        \n",
      "        X = np.empty((self.numLink-self.numUnknown, self.numFeatures))\n",
      "                \n",
      "        xTest = np.empty((self.numUnknown, self.numFeatures))\n",
      "        y = np.empty(self.numLink-self.numUnknown)\n",
      "        yTest = np.empty(self.numUnknown)\n",
      "        \n",
      "        for countUn,node in enumerate(self.unknown):   \n",
      "            currentVec = self.getFeatNode(node,unknownSet)\n",
      "            xTest[countUn] = currentVec\n",
      "            yTest[countUn] = self.graph[node]['label']\n",
      "            \n",
      "        countKnown = 0\n",
      "        for node in range(self.numLink):\n",
      "            if not node in unknownSet:\n",
      "                currentVec = self.getFeatNode(node, unknownSet)\n",
      "                X[countKnown] = currentVec\n",
      "                y[countKnown] = self.graph[node]['label']\n",
      "                countKnown += 1\n",
      "\n",
      "        return X,y,xTest,yTest\n",
      "    \n",
      "    def getFeatNode(self, node, unknownSet=set()):\n",
      "        \n",
      "        vecCurrent = np.empty(self.numFeatures)\n",
      "        vecCurrent[:self.numAtt] = self.graph[node]['att']\n",
      "        currentClasses = np.zeros(self.numLabel)\n",
      "        for otherNode in self.graph[node][self.way]:\n",
      "            if not otherNode in unknownSet:\n",
      "                currentClasses[self.graph[otherNode]['label']] += 1\n",
      "        #norm = currentClasses.sum()  \n",
      "        #if norm>0:\n",
      "        #    currentClasses /= norm\n",
      "        #vecCurrent[self.numAtt:] = currentClasses\n",
      "        \n",
      "        return vecCurrent.reshape(1, -1)"
     ],
     "language": "python",
     "metadata": {},
     "outputs": [],
     "prompt_number": 126
    },
    {
     "cell_type": "code",
     "collapsed": false,
     "input": [
      "graphVec = GraphVectorize(content,len(labels),way='successors')\n",
      "X,y,xTest,yTest = graphVec.getFeatGraph()"
     ],
     "language": "python",
     "metadata": {},
     "outputs": [],
     "prompt_number": 127
    },
    {
     "cell_type": "code",
     "collapsed": false,
     "input": [
      "clf = LinearSVC(C=1e-2)\n",
      "clf.fit(X,y)\n",
      "yhat = clf.predict(xTest)\n",
      "\n",
      "print (yhat == yTest).sum()/len(yhat)"
     ],
     "language": "python",
     "metadata": {},
     "outputs": [
      {
       "output_type": "stream",
       "stream": "stdout",
       "text": [
        "0.842105263158\n"
       ]
      }
     ],
     "prompt_number": 128
    },
    {
     "cell_type": "code",
     "collapsed": false,
     "input": [
      "class ICA(object):\n",
      "    def __init__(self, graphVect,localClf,maxIter=50):\n",
      "        self.localClf = localClf\n",
      "        self.maxIter = maxIter\n",
      "        self.g = graphVect\n",
      "        \n",
      "        self.X,self.y, self.xTest, self.yTest = self.g.getFeatGraph()\n",
      "    def predict(self):\n",
      "        \n",
      "        self.localClf.fit(self.X,self.y)\n",
      "        currentPred = self.localClf.predict(self.xTest)\n",
      "        \n",
      "        for i,node in enumerate(self.g.unknown):\n",
      "            self.g.graph[node]['label'] = currentPred[i]\n",
      "            \n",
      "        print (currentPred==self.yTest).mean()\n",
      "            \n",
      "        newPred = np.zeros(currentPred.shape)\n",
      "        \n",
      "        for k in range(self.maxIter):\n",
      "            for step in range(self.g.numUnknown):\n",
      "                idUn = np.random.randint(0,self.g.numUnknown)\n",
      "                node = self.g.unknown[idUn]\n",
      "                \n",
      "                newPred[idUn] = self.localClf.predict(self.g.getFeatNode(node))\n",
      "                self.g.graph[node]['label'] = newPred[idUn]\n",
      "            currentPred = newPred\n",
      "        return currentPred"
     ],
     "language": "python",
     "metadata": {},
     "outputs": [],
     "prompt_number": 129
    },
    {
     "cell_type": "code",
     "collapsed": false,
     "input": [
      "keepUnknown = graphVec.unknown\n",
      "\n",
      "betterClf = ICA(graphVec,LinearSVC(C=1e-2))\n",
      "\n",
      "yhat = betterClf.predict()\n",
      "\n",
      "(yhat == yTest).sum()/len(yhat)"
     ],
     "language": "python",
     "metadata": {},
     "outputs": [
      {
       "output_type": "stream",
       "stream": "stdout",
       "text": [
        "0.842105263158\n"
       ]
      },
      {
       "metadata": {},
       "output_type": "pyout",
       "prompt_number": 130,
       "text": [
        "0.84210526315789469"
       ]
      }
     ],
     "prompt_number": 130
    },
    {
     "cell_type": "code",
     "collapsed": false,
     "input": [
      "class LabelPropagation():\n",
      "    def __init__(self,g,beta=1e-2, lambd=1e-2, eps=1e-3, maxIter=100):\n",
      "        \n",
      "        self.g = g\n",
      "        self.beta  = beta\n",
      "        self.lambd = lambd\n",
      "        self.eps = eps\n",
      "        self.maxIter = maxIter\n",
      "        self.loss = []\n",
      "        self.theta = np.random.random((self.g.numLabel, self.g.numAtt))\n",
      "        self.b = np.random.random(self.g.numLabel)\n",
      "        \n",
      "    def predict(self):\n",
      "        \n",
      "        known = list(set(range(self.g.numLink)).difference(set(self.g.unknown)))\n",
      "        self.loss = []\n",
      "      \n",
      "        \n",
      "        for i in xrange(self.maxIter):\n",
      "            lossClf = np.zeros(self.g.numLabel)\n",
      "            lossCor = np.zeros(self.g.numLabel)\n",
      "            lossReg = np.zeros(self.g.numLabel)\n",
      "            \n",
      "            for ite in known:\n",
      "                node = np.random.randint(0,len(known))\n",
      "                \n",
      "                yneg = np.ones(self.g.numLabel)\n",
      "                yneg[self.g.graph[node]['label']] = -1\n",
      "                xi = np.array(self.g.graph[node]['att'], float)\n",
      "                gradClf = yneg.reshape(5,1) * xi.reshape((1,len(xi))).repeat(5, axis=0)\n",
      "                prodClf = yneg * (self.theta.dot(xi) + self.b)\n",
      "                gradClf[prodClf <= 1] = 0\n",
      "                prodClf = 1 + prodClf\n",
      "                prodClf[prodClf < 0] = 0\n",
      "                lossClf = lossClf + prodClf        \n",
      "                \n",
      "                gradCor = np.zeros(self.theta.shape)\n",
      "                nSucc = len(self.g.graph[node]['successors'])\n",
      "                for v in (self.g.graph[node]['successors']):\n",
      "                    xv = np.array(self.g.graph[v]['att'], float)\n",
      "                    diff = xi - xv\n",
      "                    prodCor = self.theta.dot(diff)\n",
      "                    prodTemp = 2 * self.beta *prodCor.reshape((self.g.numLabel,1))\n",
      "                    gradCor += prodTemp * diff.reshape((1,len(diff))).repeat(self.g.numLabel, axis=0)\n",
      "            \n",
      "                    lossCor += self.beta * (prodCor**2)\n",
      "                    \n",
      "                gradReg = 2 * self.lambd / len(known) * self.theta\n",
      "                lossReg += self.lambd / len(known) * (self.theta**2).sum(1)\n",
      "                \n",
      "                self.theta += - self.eps * (gradClf + gradCor + gradReg)\n",
      "            \n",
      "            self.loss.append( np.mean([lossClf, lossCor, lossReg]))\n",
      "            if (i % 50 == 0):\n",
      "                print i, (lossClf + lossCor + lossReg).mean()\n",
      "        \n",
      "        pred = np.zeros(self.g.numUnknown)\n",
      "        \n",
      "        for i,node in enumerate(self.g.unknown):\n",
      "            pred[i] = self.theta.dot(np.array(self.g.graph[node]['att'], float)).argmax()\n",
      "        return pred"
     ],
     "language": "python",
     "metadata": {},
     "outputs": [],
     "prompt_number": 131
    },
    {
     "cell_type": "code",
     "collapsed": false,
     "input": [
      "graphVec = GraphVectorize(content,len(labels),keepUnknown,way='successors')\n",
      "\n",
      "betalist = [1e-2, 1e-3, 1e-4, 1e-5, 1e-6]\n",
      "lambdlist = [1e-2, 1e-3, 1e-4, 1e-5, 1e-6]\n",
      "epslist = [3e-3, 1e-3, 8e-4]\n",
      "\n",
      "beta= 0.0001\n",
      "lambd= 1e-06\n",
      "eps= 0.003\n",
      "\n",
      "lbProp = LabelPropagation(graphVec, beta=beta, lambd=lambd, eps=eps, maxIter=400)\n",
      "predProp = lbProp.predict()\n",
      "\n",
      "(predProp == yTest).mean()"
     ],
     "language": "python",
     "metadata": {},
     "outputs": [
      {
       "output_type": "stream",
       "stream": "stdout",
       "text": [
        "0 6445.89082354\n",
        "50"
       ]
      },
      {
       "output_type": "stream",
       "stream": "stdout",
       "text": [
        " 57.6301925114\n",
        "100"
       ]
      },
      {
       "output_type": "stream",
       "stream": "stdout",
       "text": [
        " 46.1205395255\n",
        "150"
       ]
      },
      {
       "output_type": "stream",
       "stream": "stdout",
       "text": [
        " 38.6809354448\n",
        "200"
       ]
      },
      {
       "output_type": "stream",
       "stream": "stdout",
       "text": [
        " 36.2555205072\n",
        "250"
       ]
      },
      {
       "output_type": "stream",
       "stream": "stdout",
       "text": [
        " 22.7890288948\n",
        "300"
       ]
      },
      {
       "output_type": "stream",
       "stream": "stdout",
       "text": [
        " 26.2226915211\n",
        "350"
       ]
      },
      {
       "output_type": "stream",
       "stream": "stdout",
       "text": [
        " 26.5474330289\n"
       ]
      },
      {
       "metadata": {},
       "output_type": "pyout",
       "prompt_number": 132,
       "text": [
        "0.26315789473684209"
       ]
      }
     ],
     "prompt_number": 132
    },
    {
     "cell_type": "code",
     "collapsed": false,
     "input": [
      "print predProp\n",
      "print yTest\n",
      "#[ 0.  0.  4.  0.  0.  3.  0.  4.  0.  0.  2.  1.  1.  0.  2.  2.  4.  1. 1.]"
     ],
     "language": "python",
     "metadata": {},
     "outputs": [
      {
       "output_type": "stream",
       "stream": "stdout",
       "text": [
        "[ 3.  3.  0.  2.  0.  0.  2.  1.  2.  2.  0.  0.  4.  0.  0.  0.  2.  0.\n",
        "  0.]\n",
        "[ 1.  4.  4.  4.  0.  1.  0.  2.  2.  4.  3.  0.  2.  0.  2.  4.  0.  4.\n",
        "  1.]\n"
       ]
      }
     ],
     "prompt_number": 121
    },
    {
     "cell_type": "code",
     "collapsed": false,
     "input": [],
     "language": "python",
     "metadata": {},
     "outputs": [],
     "prompt_number": 116
    },
    {
     "cell_type": "code",
     "collapsed": false,
     "input": [],
     "language": "python",
     "metadata": {},
     "outputs": []
    }
   ],
   "metadata": {}
  }
 ]
}